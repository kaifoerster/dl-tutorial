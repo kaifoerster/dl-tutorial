{
  "cells": [
    {
      "cell_type": "markdown",
      "metadata": {
        "id": "13i7KQ9t-CV8"
      },
      "source": [
        "# Tutorial: Retrieval Augmented Generation with Citation (RAG-C)\n",
        "## GRAD-E1394 Deep Learning -- Assignment 3\n",
        "Authors:\n",
        "*   Amin Oueslati, a.oueslati@students.hertie-school.org\n",
        "*   Steven Kerr, s.kerr@students.hertie-school.org\n",
        "*   Kai Foerster, k.foerster@students.hertie-school.org \n",
        "\n",
        "\n",
        "\n",
        "This tutorial explains how to use Retrieval Augmented Generation with Citation (RAG-C), incorporating Falcon 6B, a cutting-edge, open-source Large Language Model (LLM), and LangChain, a library for creating LLM applications. It shows how RAG-C improves LLM responses by adding external information. The process is demonstrated with a case study on coffee prices in Berlin Mitte. Initially, the LLM provides answers about these prices without extra context; then, it does so with specific information, highlighting the difference between its uninformed and informed responses. Participants will learn to incorporate documents from the Federal Acquisition Regulation (FAR) into RAG-C, using it to retrieve detailed FAR-related information. The tutorial ends with a quiz comparing responses from a standard LLM and the RAG-C enhanced LLM on FAR-specific questions. This comparison demonstrates RAG-C's ability to greatly improve the accuracy and relevance of LLM responses, emphasizing its importance in the development of LLM applications."
      ]
    },
    {
      "cell_type": "markdown",
      "metadata": {
        "id": "yNv0ANr5WcD_"
      },
      "source": [
        "# Table of Contents\n",
        "\n",
        "\n",
        "*   [Memo](#memo)\n",
        "*   [Overview](#overview)\n",
        "*   [Background & Prerequisites](#background-and-prereqs)\n",
        "*   [Software Requirements](#software-requirements)\n",
        "*   [Data Description](#data-description)\n",
        "*   [Methodology](#methodology)\n",
        "*   [Results & Discussion](#results-and-discussion)\n",
        "*   [References](#references)\n"
      ]
    },
    {
      "cell_type": "markdown",
      "metadata": {
        "id": "QH81wjfsJsv1"
      },
      "source": [
        "<a name=\"memo\"></a>\n",
        "# Memo\n",
        "\n",
        "Poor knowledge management is negatively impacting governments globally. In this regard, the very nature of government is often \n",
        "inextricably linked to the problem. Firstly, governments are enormous organizations, typically amounting to a country’s single largest employer. Secondly, governments are sparse and complex in their structure, stretching across hundreds of interdependent agencies and sub-agencies. Thirdly, the knowledge in government concerns highly technical matters, which change continuously as new laws are created or existing laws updated. \n",
        "\n",
        "The detrimental consequences of poor knowledge management in government are multifaceted. Resources are lost, as staff spends up to 20% of its weekly working hours on acquiring internal knowledge (Partnership for Public Service, 2019). Additionally, governments make suboptimal policy decisions, as information is siloed and not accounted for in decision-making processes. One of the most severe examples is 9/11, which likely could have been prevented, had there been better knowledge-sharing across US security agencies (9/11 Commission Report, 2004). Lastly, a state’s legitimacy heavily depends on the adherence to its governing rules: If its officials fail to respect them, due to poor knowledge management, this threatens a government’s democratic foundations.\n",
        "\n",
        "To tackle poor knowledge management in government, this tutorial introduces Retrieval Augmented Generation with Citations (RAG+C). Essentially, RAG+C is a method for providing LLMs with additional contextual information when answering questions. Thus, it is best understood as a conversational chatbot that has access to highly domain-specific knowledge. Importantly, RAG+C outperforms alternative solutions both in terms of trustworthiness and practicability. Firstly, the additional contextual information avoids hallucinations, while the citations enable users to manually validate the responses. Secondly, the RAG+C architecture is compatible with all LLMs, including any in-house models, and allows governments to store the contextual documents on its own servers. Thirdly, compared to fine-tuning the model, updating the data base is much more practical, as it requires limited technical expertise and is computationally inexpensive. \n",
        "\n",
        "\n",
        "\n"
      ]
    },
    {
      "cell_type": "markdown",
      "metadata": {
        "id": "e2u40fYe3EOL"
      },
      "source": [
        "<a name=\"overview\"></a>\n",
        "# Overview\n",
        "\n",
        "This tutorial offers a focused exploration of Retrieval Augmented Generation with Citation (RAG-C), employing the Falcon 6B Large Language Model (LLM) and LangChain, to address the challenge of information accuracy in public policy-related inquiries. The primary goal is to demonstrate the significant enhancement in response quality when an LLM is augmented with specific contextual information. With this tutorial, we provide the participant with a hands-on and step-by-step guide through two applications of RAG-C enhanced models.  \n",
        "\n",
        "In the first application, participants are presented the LLM's base capability to generate responses without context – as seen in its attempt to provide coffee prices in Berlin Mitte. These responses are contrasted to responses of the same LLM when it is informed by specific contextual data in the prompt, which is the basic idea behind RAG enhanced models. This part of the tutorial highlights the issue of hallucination in LLMs and the importance of context for increases accuracy of responses.  \n",
        "\n",
        "The second application involves programming the RAG-C enhanced LLM using documents from the Federal Acquisition Regulation (FAR), the rule book for public procurement issuance in the United States. This hands-on application emphasizes how RAG-C can be tailored to deliver precise, contextually relevant information in policy-related fields. The tutorial concludes in a quiz focused on FAR, comparing the performance of the standard LLM against the RAG-C-enhanced model. This comparison not only showcases the effectiveness of RAG-C in reducing misinformation and enhancing accuracy but also serves as a learning outcome for users, demonstrating the practical implications of using augmented LLMs in public policy domains.  \n",
        "\n",
        "A standout aspect of this tutorial is its commitment to open-source accessibility, ensuring that all models, codes, and methods demonstrated are available to everyone. Moreover, the tutorial is designed with computational efficiency in mind. Unlike the resource-heavy process of fine-tuning LLMs, the methods and applications showcased can be comfortably executed on standard laptops. This approach not only makes the tutorial more accessible but also practical for those with limited computational resources.  \n",
        "\n",
        "Overall, the tutorial is designed to provide users with clear understanding and a hands-on policy application of how LLM can be augmented to improve their reliability, relevance and privacy conformity, without the need to fall back to paid LLM solutions.  "
      ]
    },
    {
      "cell_type": "markdown",
      "metadata": {
        "id": "gQgijl46pYzn"
      },
      "source": [
        "<a name=\"background-and-prereqs\"></a>\n",
        "# Background & Prerequisites\n",
        "\n",
        "A fundamental understanding of machine learning is required for this tutorial. Specifically, the reader should be familiar with what a large language model is, how vectorisation of text data works and how similarity measures such as cosine similarity can be used on vectorised texts to find text snippets that are similar to each other contextually speaking.\n",
        "\n",
        "Retrieval Augmented Generation with Citation (RAG-C) is a sophisticated process that marries the expansive knowledge of a Large Language Model (LLM) with the precision of targeted information retrieval. The process can be best explained with reference to the illustration below.\n",
        "\n",
        "The process starts with a user query, in this case the question: “How much does a Lebkuchen Latte cost at Pret a Manger in Berlin Mitte?” Without the RAG-C component, this query would directly feed into the LLM which would generates a response (follow the arrows in blue). For general knowledge questions or questions that the LLM has encountered during the training process, the responses are usually pretty good. The problem is, that most LLM have not been trained on data that we would like it to know, such as internal data from public institutions, more recent events that happened after the training process of the LLM or in this case the price of a Lebkuchen Latte. When one still insist to ask the LLM about such internal data or recent events, as we will see in the tutorial, it comes up with a false answers that are hallucinated. In scientific language, the question one asked is not in the parametric knowledge of the LLM, and hence the LLM invents knowledge. \n",
        "\n",
        "With RAG-C in contrast, the parametric knowledge of the LLM is augmented with source knowledge which is saved in a vector database. Essentially, we enable the LLM to retrieve additional relevant information beyond its parametric knowledge to answer a question. To understand how exactly the LLM is fed with the most relevant information to answer the question, let us look at the RAG-C pipeline represented in white arrow in the illustration below.\n",
        "\n",
        "In the RAG-C pipeline, the query is transformed into a numerical representation known as a query vector. This transformation is accomplished through an embedding model, which digests the textual query and outputs a high-dimensional vector that captures its semantic essence. The magic lies in the embedding model's ability to encode the meaning of the text into a mathematical form that can be compared and matched against a vast repository of similarly encoded information in the vector database using methods such as cosine similarity.\n",
        "\n",
        "With the query vector in hand, the system then interacts with a vector database. This database is a curated collection of information that has been pre-processed and stored as vectors. The query vector serves as a key to find relevant contexts within this database—contexts that are semantically close to the intent and content of the initial query. To find those texts, text vectors are compared on their similarity score, such as cosine similarity score, and those contexts with the highest score are retrieved.\n",
        "\n",
        "The retrieved contexts are then fed to the LLM along with the original query text. This hybrid input, augmented with specific, relevant information, enables the LLM to generate responses that are not only contextually rich but also grounded in the retrieved data. The retrieved sources can further be added as references to the LLM response, bringing the 'C' (citation) element in RAG-C to light. "
      ]
    },
    {
      "cell_type": "code",
      "execution_count": 81,
      "metadata": {},
      "outputs": [
        {
          "data": {
            "text/html": [
              "<img src=\"https://raw.githubusercontent.com/kaifoerster/dl-tutorial/main/images/RAG%20illustration%202.png\"/>"
            ],
            "text/plain": [
              "<IPython.core.display.Image object>"
            ]
          },
          "execution_count": 81,
          "metadata": {},
          "output_type": "execute_result"
        }
      ],
      "source": [
        "from IPython.display import Image\n",
        "Image(url=\"https://raw.githubusercontent.com/kaifoerster/dl-tutorial/main/images/RAG%20illustration%202.png\")"
      ]
    },
    {
      "cell_type": "markdown",
      "metadata": {
        "id": "Ag9dvWcxqmEq"
      },
      "source": [
        "## Videos\n",
        "This video gies an easy, hands-on introduction into RAG:"
      ]
    },
    {
      "cell_type": "code",
      "execution_count": 1,
      "metadata": {
        "colab": {
          "base_uri": "https://localhost:8080/",
          "height": 321
        },
        "id": "E4aK3MI9qhfJ",
        "outputId": "044bd042-37c7-43d2-8a19-78dbc2dd6e46"
      },
      "outputs": [
        {
          "data": {
            "image/jpeg": "[encoded data removed]",
            "text/html": [
              "\n",
              "        <iframe\n",
              "            width=\"400\"\n",
              "            height=\"300\"\n",
              "            src=\"https://www.youtube.com/embed/LhnCsygAvzY\"\n",
              "            frameborder=\"0\"\n",
              "            allowfullscreen\n",
              "            \n",
              "        ></iframe>\n",
              "        "
            ],
            "text/plain": [
              "<IPython.lib.display.YouTubeVideo at 0x201bfb78670>"
            ]
          },
          "execution_count": 1,
          "metadata": {},
          "output_type": "execute_result"
        }
      ],
      "source": [
        "from IPython.display import YouTubeVideo\n",
        "YouTubeVideo('LhnCsygAvzY')"
      ]
    },
    {
      "cell_type": "markdown",
      "metadata": {
        "id": "7BpQklEEIFDD"
      },
      "source": [
        "## Reading materials\n",
        "\n",
        "This tutorial is designed to give you a thorough introduction to RAG-Cs. While the tutorial focuses more on their hands-on implementation, these resources extend and deepen the content covered in the tutorial through conceptual underpinnings from academia and follow-up discussions.\n",
        "\n",
        "* [Seminal paper on RAG introduced at teh 34th NeurIPS in 2020](https://proceedings.neurips.cc/paper/2020/file/6b493230205f780e1bc26945df7481e5-Paper.pdf): Lewis, P., Perez, E., Piktus, A., Petroni, F., Karpukhin, V., Goyal, N., Kuettler, H., Lewis, M., Yih, W., Rocktaeschel, T., Riedel, S and Kiela, D. (2020) \n",
        "* [Here is a presentation of the above paper by the author](https://www.youtube.com/watch?v=JGpmQvlYRdU): Lewis, P. (2020)\n",
        "* [More on obstacles for RAG and potential remedies](https://aclanthology.org/2022.naacl-srw.7/): Yu, W. (2022)\n",
        "* [Blog post on evaluating RAG models](https://towardsdatascience.com/a-3-step-approach-to-evaluate-a-retrieval-augmented-generation-rag-5acf2aba86de): Besbes, A. (2023, Nov)\n"
      ]
    },
    {
      "cell_type": "markdown",
      "metadata": {
        "id": "rSRCNgYzUwaf"
      },
      "source": [
        "<a name=\"software-requirements\"></a>\n",
        "# Software Requirements\n",
        "To run the first part of this tutorial up the the deployment in chainlit, it's necessary to have the following libraries installed. For a seamless experience, we suggest using Google Colab equipped with a GPU runtime, as it has most dependenciespre-installed, eliminating the need to configure dependencies.\n",
        "\n",
        "For executing the notebook locally, it's advisable to have Python version 3.10 installed. One can use pipenv to install all below libraries into a new virtual environment which comes with the benefit that all dependencies are automatically configured by pipenv. \n",
        "\n",
        "Following the necessary libraries to run this notebook:\n",
        "\n",
        "* langchain\n",
        "* sentence_transformers\n",
        "* chromadb\n",
        "* unstructured\n",
        "* chainlit\n",
        "* python-dotenv\n",
        "* bs4\n",
        "* tqdm\n",
        "* pandas\n",
        "* openpyxl\n",
        "* scikit-learn\n",
        "* numpy\n",
        "\n",
        "Furthermore, one needs to install ipykernel to run the notebook locally. \n",
        "These libraries can be installed on your local system as well as Colab by executing the subsequent cell.\n",
        "\n",
        "Please note, the prefix '!' might need to be substituted with '%' in the installation command, depending on your operating system or the configuration of your runtime environment."
      ]
    },
    {
      "cell_type": "code",
      "execution_count": null,
      "metadata": {
        "id": "jObV5LtDk0Vm"
      },
      "outputs": [],
      "source": [
        "# install dependencies\n",
        "!pipenv install langchain\n",
        "!pipenv install sentence_transformers\n",
        "!pipenv install chromadb\n",
        "!pipenv install unstructured\n",
        "!pipenv install chainlit\n",
        "!pipenv install python-dotenv\n",
        "!pipenv install bs4\n",
        "!pipenv install tqdm\n",
        "!pipenv install pandas\n",
        "!pipenv install openpyxl\n",
        "!pipenv install scikit-learn\n",
        "!pipenv install bnumpy"
      ]
    },
    {
      "cell_type": "code",
      "execution_count": 1,
      "metadata": {},
      "outputs": [
        {
          "name": "stderr",
          "output_type": "stream",
          "text": [
            "c:\\Users\\kaius\\.virtualenvs\\dl-tutorial-jB9oBwoe\\lib\\site-packages\\tqdm\\auto.py:21: TqdmWarning: IProgress not found. Please update jupyter and ipywidgets. See https://ipywidgets.readthedocs.io/en/stable/user_install.html\n",
            "  from .autonotebook import tqdm as notebook_tqdm\n"
          ]
        }
      ],
      "source": [
        "# For managing API keys and secrets\n",
        "import os\n",
        "from dotenv import load_dotenv\n",
        "\n",
        "# For loading and manipulating LLMs\n",
        "from langchain import HuggingFaceHub, PromptTemplate, LLMChain\n",
        "from langchain.document_loaders import DirectoryLoader\n",
        "\n",
        "# For loading data, emebedding it and storing on ChromaDB\n",
        "from langchain.vectorstores import Chroma\n",
        "from bs4 import SoupStrainer\n",
        "from langchain.embeddings import SentenceTransformerEmbeddings\n",
        "from langchain.document_loaders import DirectoryLoader\n",
        "from langchain.document_loaders import BSHTMLLoader\n",
        "import shutil\n",
        "import re\n",
        "\n",
        "\n",
        "# For evaluating the RAG using the quiz \n",
        "import pandas as pd\n",
        "import numpy as np \n",
        "from sentence_transformers import SentenceTransformer\n",
        "from sklearn.metrics.pairwise import cosine_similarity\n",
        "\n",
        "# Integrating images and video in the notebook\n",
        "from IPython.display import Image\n",
        "from IPython.display import YouTubeVideo"
      ]
    },
    {
      "cell_type": "markdown",
      "metadata": {},
      "source": [
        "<a name=\"data-description\"></a>\n",
        "# Loading and creating responses with LLMs via HuggingFaceHub\n",
        "\n",
        "This section introduces the application of large language models (LLMs) within the framework provided by Hugging Face. Setting up an operational LLM that the user can interact with is a pre-requiste for building a RAG enhanced LLM.  \n",
        "\n",
        "Despite the superior performance and ease of integration associated with models from commercial providers such as OpenAI, this notebook utilises Hugging Face, which provides an open-source alternative to state-of-the-art LLMs of commerical providers, which are on a pay-as-you-go basis. \n",
        "\n",
        "The focus of this tutorial is the Falcon-6b-instruct model hosted on the Hugging Face platform. This open-source model is well-balanced in size and performance, delivering responses comparable to models from commercial providers like ChatGPT 3.5 without compromising on response speed when accessed through the Hugging Face Hub integration. The Falcon-7b-instruct, developed by the Technology and Innovation Institute in the UAE, is a 7 billion parameter model fine-tuned for chat and instructions, ensuring high-quality responses [[1]](https://huggingface.co/tiiuae/falcon-7b-instruct).\n",
        "\n",
        "Employing the Falcon-7b-instruct through HuggingFaceHub eliminates the need for intensive local computing. This approach also circumvents the challenges associated with downloading and operating sizeable models on standard personal computing devices, a process often hindered by substantial working memory requirements."
      ]
    },
    {
      "cell_type": "markdown",
      "metadata": {},
      "source": [
        "## Setting Up Hugging Face for Model Integration\n",
        "\n",
        "First, we need create a Hugging Face API key and save it into a .env file in our root directory. To do so, follow the below instructions:\n",
        "\n",
        "\n",
        "1. **Creating an Account on Hugging Face**:\n",
        "To create an account on Hugging Face, visit the [Hugging Face website](https://huggingface.co/join) and click the \"Sign Up\" button, typically located in the top right corner. Provide your email, and set a password. Follow any additional prompts, such as email verification, to complete your account registration.\n"
      ]
    },
    {
      "cell_type": "code",
      "execution_count": 82,
      "metadata": {},
      "outputs": [
        {
          "data": {
            "text/html": [
              "<img src=\"https://raw.githubusercontent.com/kaifoerster/dl-tutorial/main/images/Huggingface1.PNG\"/>"
            ],
            "text/plain": [
              "<IPython.core.display.Image object>"
            ]
          },
          "execution_count": 82,
          "metadata": {},
          "output_type": "execute_result"
        }
      ],
      "source": [
        "Image(url=\"https://raw.githubusercontent.com/kaifoerster/dl-tutorial/main/images/Huggingface1.PNG\")"
      ]
    },
    {
      "cell_type": "markdown",
      "metadata": {},
      "source": [
        "2. **Creating an API Key on Hugging Face**:\n",
        "Once registered, log into your Hugging Face account and access your profile settings. Look for the \"API\" tab in the settings menu and click it. Here, create a new API key by clicking the “New API token” button, provide a name for the token, and then click “Create a token”. Remember to copy and securely store the generated API key, as it allows access to your Hugging Face account."
      ]
    },
    {
      "cell_type": "code",
      "execution_count": 83,
      "metadata": {},
      "outputs": [
        {
          "data": {
            "text/html": [
              "<img src=\"https://raw.githubusercontent.com/kaifoerster/dl-tutorial/main/images/Huggingface2.PNG\"/>"
            ],
            "text/plain": [
              "<IPython.core.display.Image object>"
            ]
          },
          "execution_count": 83,
          "metadata": {},
          "output_type": "execute_result"
        }
      ],
      "source": [
        "Image(url=\"https://raw.githubusercontent.com/kaifoerster/dl-tutorial/main/images/Huggingface2.PNG\")"
      ]
    },
    {
      "cell_type": "markdown",
      "metadata": {},
      "source": [
        "3. **Saving the API Key in an .env File**:\n",
        "Create a new .env file in the root directory of your project using your code editor or IDE. Inside this file, enter the line HF_API_TOKEN=xxxxx, replacing xxxxx with your actual API key. Ensure you save the file after entering this information."
      ]
    },
    {
      "cell_type": "code",
      "execution_count": 84,
      "metadata": {},
      "outputs": [
        {
          "data": {
            "text/html": [
              "<img src=\"https://raw.githubusercontent.com/kaifoerster/dl-tutorial/main/images/envfile.PNG\"/>"
            ],
            "text/plain": [
              "<IPython.core.display.Image object>"
            ]
          },
          "execution_count": 84,
          "metadata": {},
          "output_type": "execute_result"
        }
      ],
      "source": [
        "Image(url=\"https://raw.githubusercontent.com/kaifoerster/dl-tutorial/main/images/envfile.PNG\")"
      ]
    },
    {
      "cell_type": "markdown",
      "metadata": {},
      "source": [
        "4. **Loading Environment Variables into the Notebook**:\n",
        "Now import the load_dotenv function from the dotenv package and call it to load your environment variables. Then, use import os followed by HF_API_TOKEN = os.getenv('HF_API_TOKEN') to access the Hugging Face API token you saved in your .env file. This process makes the API token available in your notebook for further use."
      ]
    },
    {
      "cell_type": "code",
      "execution_count": 2,
      "metadata": {},
      "outputs": [],
      "source": [
        "# Load environment variables from the .env file\n",
        "load_dotenv()\n",
        "\n",
        "# Retrieve the 'HF_API_TOKEN' environment variable using os.getenv\n",
        "# This returns the value of 'HF_API_TOKEN' defined in the .env file\n",
        "HF_API_TOKEN = os.getenv('HF_API_TOKEN')"
      ]
    },
    {
      "cell_type": "markdown",
      "metadata": {},
      "source": [
        "## Loading the Hugging Face model in HuggingFaceHub\n",
        "\n",
        "Next we specify, the name of the model we want to load, provide our API token and make any further configurations to the model. Here, we have set:\n",
        "\n",
        "* **temperature**: This parameter influences the creativity of the language model's responses, with a scale ranging from 0 to 1. A higher value results in more inventive outputs. We set this to 0.8, allowing for a degree of unpredictability or 'hallucination' in responses, which is an aspect we aim to demonstrate to the user.\n",
        "\n",
        "* **max_lengt**: Defines the maximum length of the model's output, including both the input (such as the question and context) and the generated response. In this case, the limit is set to 1000 tokens. This setting helps in managing the verbosity and relevance of the model's replies.\n",
        "\n",
        "* **use_cache**: When set to False, this parameter ensures that the model generates fresh responses for each query rather than relying on previously generated answers stored in cache. This is particularly useful for demonstrating the model's capability to generate unique responses on every run, which is essential for understanding its dynamic nature."
      ]
    },
    {
      "cell_type": "code",
      "execution_count": 3,
      "metadata": {},
      "outputs": [
        {
          "name": "stderr",
          "output_type": "stream",
          "text": [
            "c:\\Users\\kaius\\.virtualenvs\\dl-tutorial-jB9oBwoe\\lib\\site-packages\\huggingface_hub\\utils\\_deprecation.py:127: FutureWarning: '__init__' (from 'huggingface_hub.inference_api') is deprecated and will be removed from version '1.0'. `InferenceApi` client is deprecated in favor of the more feature-complete `InferenceClient`. Check out this guide to learn how to convert your script to use it: https://huggingface.co/docs/huggingface_hub/guides/inference#legacy-inferenceapi-client.\n",
            "  warnings.warn(warning_message, FutureWarning)\n"
          ]
        }
      ],
      "source": [
        "# Define the ID of the model to be used from Hugging Face Hub\n",
        "model_id = \"tiiuae/falcon-7b-instruct\"\n",
        "\n",
        "# Initialize the HuggingFaceHub class with specified parameters\n",
        "# huggingfacehub_api_token: Uses the API token stored in the 'HF_API_TOKEN' environment variable\n",
        "# repo_id: Sets the repository ID to the specified model ID\n",
        "# model_kwargs: Sets additional parameters for the model as outlined above\n",
        "conv_model = HuggingFaceHub(\n",
        "    huggingfacehub_api_token=os.environ['HF_API_TOKEN'], \n",
        "    repo_id=model_id, \n",
        "    model_kwargs={\"temperature\":0.8,\"max_length\": 1000, \"use_cache\": False}\n",
        ")"
      ]
    },
    {
      "cell_type": "markdown",
      "metadata": {},
      "source": [
        "## Prompt Teamplates and LLMChain\n",
        "\n",
        "\n",
        "PromptTemplate from LangChain is a tool for creating structured prompts that are used to interact with language models. The structure and content of the prompt are designed to guide the language model in generating specific types of responses.\n",
        "\n",
        "In the code below, the PromptTemplate is being used to create a template for the language model, in this case, to act as a helpful assistant. The template includes a placeholder {human_message} where the user's query or statement will be inserted."
      ]
    },
    {
      "cell_type": "code",
      "execution_count": 4,
      "metadata": {},
      "outputs": [],
      "source": [
        "# Define a prompt template with a placeholder for user input.\n",
        "template = \"\"\"You are a helpful assistant that answers questions of the user.\n",
        "{human_message}\n",
        "\"\"\"\n",
        "\n",
        "# Create a PromptTemplate object, specifying 'human_message' as the dynamic input variable.\n",
        "prompt = PromptTemplate(template=template, input_variables=[\"human_message\"])"
      ]
    },
    {
      "cell_type": "markdown",
      "metadata": {},
      "source": [
        "This code snippet uses LLMCHain, a langchain function, to \"chain\" the language model and the prompt together into a pipeline. Using the LLMChain pipeline ensures that the prompt is fed into the LLM in the right way, so that it returns a response. The verbose=True parameter ensures that the function provides detailed output about the process."
      ]
    },
    {
      "cell_type": "code",
      "execution_count": 5,
      "metadata": {},
      "outputs": [],
      "source": [
        "# Create a LLMChain object for a conversational model, using the specified LLM model and prompt template, with verbose logging.\n",
        "conv_chain = LLMChain(llm=conv_model, prompt=prompt, verbose=True)"
      ]
    },
    {
      "cell_type": "markdown",
      "metadata": {},
      "source": [
        "## Response generation\n",
        "\n",
        "Finally, the code below runs the model chain with a specific question about the cost of a Lebkuchen Latte at Pret a Manger in Berlin Mitte. The run method takes the user's question, inserts it into the {human_message} placeholder in the template, and then feeds the complete prompt to the language model. The model then generates a response based on this prompt, which is printed out.\n",
        "\n",
        "The choice of an uncommon drink here is intentional, as the hope is that it provides a gap in the knowledge of the LLM. Notice that the model gives a fair estimate of how much a Lebkuchen Latte may cost at Pret a Manger in Berlin Mitte, but the price is actually false. Moreover, when rerunning the code several times, the model generates new price estimates. This example shows that the model hallucinates given it does not know the true price. In reality, a Lebkuchen Latte in Pret a Manger in Berlin costs 4.40 Euros. "
      ]
    },
    {
      "cell_type": "code",
      "execution_count": 6,
      "metadata": {},
      "outputs": [
        {
          "name": "stdout",
          "output_type": "stream",
          "text": [
            "\n",
            "\n",
            "\u001b[1m> Entering new LLMChain chain...\u001b[0m\n",
            "Prompt after formatting:\n",
            "\u001b[32;1m\u001b[1;3mYou are a helpful assistant that answers questions of the user.\n",
            "How much does a Lebkuchen Latte cost at Pret a Manger in Berlin Mitte?\n",
            "\u001b[0m\n",
            "\n",
            "\u001b[1m> Finished chain.\u001b[0m\n",
            "The price of a Lebkuchen Latte at Pret a Manger in Berlin Mitte is €3.50.\n"
          ]
        }
      ],
      "source": [
        "# Execute the conversational chain with a specific query and print the response.\n",
        "print(conv_chain.run(\"How much does a Lebkuchen Latte cost at Pret a Manger in Berlin Mitte?\"))"
      ]
    },
    {
      "cell_type": "markdown",
      "metadata": {},
      "source": [
        "## Avoiding hallucinations by providing relevant context\n",
        "\n",
        "Next, to resolve the issue encountered above, we can provide the model with some context about the prices of coffees at Pret a Manger in Berlin Mitte. For this, an excerpt of the menu is added from [Uber Eats](https://www.ubereats.com/de/store/pret-a-manger/t2FefGKTXUavHMqkEDVCVw) below.\n",
        "\n",
        "First, we paste the excerpt as a multi-line string into a list called llmchain_information. The list is then converted into a single string."
      ]
    },
    {
      "cell_type": "code",
      "execution_count": 15,
      "metadata": {},
      "outputs": [],
      "source": [
        "# List containing the menue of Pret a Manger in Berlin Mitte\n",
        "llmchain_information = [\n",
        "   \"\"\"Hot Drinks & Frappees - Pret A Manger - Berlin Mitte\n",
        "\n",
        "Latte - 1,5% Milch: 4,60 €\n",
        "Matcha Latte - Hafer: 5,40 €\n",
        "Flat White 0,1% Milch: 4,40 €\n",
        "Chai Latte - 1,5% Milch: 4,90 €\n",
        "Americano: 3,80 €\n",
        "Hot Chocolate - 1,5% Milch: 4,60 €\n",
        "Macchiato - 0,1% Milch: 2,65 €\n",
        "Espresso: 2,30 €\n",
        "Hot Chocolate - Hafer: 4,60 €\n",
        "Pumpkin Spice Latte - 0,1% Milch: 5,40 €\n",
        "Cappuccino - Hafer: 4,20 €\n",
        "Chai Latte - Soja: 4,90 €\n",
        "Espresso Doppio: 3,10 €\n",
        "Lebkuchen Latte: 4,40 € \"\"\"\n",
        "]\n",
        "\n",
        "# Converts the list of menu items into a single multi-line string.\n",
        "source_knowledge = \"\\n\".join(llmchain_information)"
      ]
    },
    {
      "cell_type": "markdown",
      "metadata": {},
      "source": [
        "Next we adapt our template to add a placeholder for the menu we want to add as context into the prompt."
      ]
    },
    {
      "cell_type": "code",
      "execution_count": 17,
      "metadata": {},
      "outputs": [],
      "source": [
        "# Template string defining the structure for interaction with an assistant, including context and user message.\n",
        "template_with_context = \"\"\"You are a helpful assistant that answers questions of the user, using the context provided below.\n",
        "\n",
        "Contexts:{source_knowledge}\n",
        "\n",
        "{human_message}\n",
        "\"\"\"\n",
        "\n",
        "# Creates an instance of PromptTemplate using the defined template and specifying input variables.\n",
        "prompt2 = PromptTemplate(template=template_with_context, input_variables=[\"human_message\", \"source_knowledge\"])\n"
      ]
    },
    {
      "cell_type": "markdown",
      "metadata": {},
      "source": [
        "Here is the prompt printed out with the context and the question we want to ask!"
      ]
    },
    {
      "cell_type": "code",
      "execution_count": 18,
      "metadata": {},
      "outputs": [
        {
          "name": "stdout",
          "output_type": "stream",
          "text": [
            "You are a helpful assistant that answers questions of the user, using the context provided below.\n",
            "\n",
            "Contexts:Hot Drinks & Frappees - Pret A Manger - Berlin Mitte\n",
            "\n",
            "Latte - 1,5% Milch: 4,60 €\n",
            "Matcha Latte - Hafer: 5,40 €\n",
            "Flat White 0,1% Milch: 4,40 €\n",
            "Chai Latte - 1,5% Milch: 4,90 €\n",
            "Americano: 3,80 €\n",
            "Hot Chocolate - 1,5% Milch: 4,60 €\n",
            "Macchiato - 0,1% Milch: 2,65 €\n",
            "Espresso: 2,30 €\n",
            "Hot Chocolate - Hafer: 4,60 €\n",
            "Pumpkin Spice Latte - 0,1% Milch: 5,40 €\n",
            "Cappuccino - Hafer: 4,20 €\n",
            "Chai Latte - Soja: 4,90 €\n",
            "Espresso Doppio: 3,10 €\n",
            "Lebkuchen Latte: 4,40 € \n",
            "\n",
            "How much does a Lebkuchen Latte cost at Pret a Manger in Berlin Mitte?\n",
            "\n"
          ]
        }
      ],
      "source": [
        "# Formats and prints the prompt with specific user query and source knowledge context.\n",
        "print(prompt2.format(human_message=\"How much does a Lebkuchen Latte cost at Pret a Manger in Berlin Mitte?\", source_knowledge=source_knowledge))"
      ]
    },
    {
      "cell_type": "markdown",
      "metadata": {},
      "source": [
        "Next, we adapt the LLMChain to use the new prompt we just created!"
      ]
    },
    {
      "cell_type": "code",
      "execution_count": 20,
      "metadata": {},
      "outputs": [],
      "source": [
        "# Initializes an LLMChain with a LLM  and the specified prompt template, enabling verbose output.\n",
        "context_chain = LLMChain(llm=conv_model, prompt=prompt2, verbose=True)"
      ]
    },
    {
      "cell_type": "markdown",
      "metadata": {},
      "source": [
        "Finally, the code below runs the model chain with a specific question about the cost of a Lebkuchen Latte at Pret a Manger in Berlin Mitte with the menu as context. The resulting response of the model is spot on! \n",
        "\n",
        "What we have done conceptually by providing further context to the model is that we have augumented the parametric knowledge of the LLM with source knowledge. And what we have implemented manually for a specific questions, can be scaled up to thousands of documents when we use a RAG pipeline.\n",
        "\n",
        "The important concept to remember as we explain the more complex RAG pipeline next, is that in essence we are doing nothing more but providing the LLM with relevant source knowledge to augument its parametric knowledge as we are doing in the simple example about coffee prices at Pret a Manger in Berlin Mitte. "
      ]
    },
    {
      "cell_type": "code",
      "execution_count": 25,
      "metadata": {},
      "outputs": [
        {
          "name": "stdout",
          "output_type": "stream",
          "text": [
            "\n",
            "\n",
            "\u001b[1m> Entering new LLMChain chain...\u001b[0m\n",
            "Prompt after formatting:\n",
            "\u001b[32;1m\u001b[1;3mYou are a helpful assistant that answers questions of the user, using the context provided below.\n",
            "\n",
            "Contexts:Hot Drinks & Frappees - Pret A Manger - Berlin Mitte\n",
            "\n",
            "Latte - 1,5% Milch: 4,60 €\n",
            "Matcha Latte - Hafer: 5,40 €\n",
            "Flat White 0,1% Milch: 4,40 €\n",
            "Chai Latte - 1,5% Milch: 4,90 €\n",
            "Americano: 3,80 €\n",
            "Hot Chocolate - 1,5% Milch: 4,60 €\n",
            "Macchiato - 0,1% Milch: 2,65 €\n",
            "Espresso: 2,30 €\n",
            "Hot Chocolate - Hafer: 4,60 €\n",
            "Pumpkin Spice Latte - 0,1% Milch: 5,40 €\n",
            "Cappuccino - Hafer: 4,20 €\n",
            "Chai Latte - Soja: 4,90 €\n",
            "Espresso Doppio: 3,10 €\n",
            "Lebkuchen Latte: 4,40 € \n",
            "\n",
            "How much does a Lebkuchen Latte cost at Pret a Manger in Berlin Mitte?\n",
            "\u001b[0m\n",
            "\n",
            "\u001b[1m> Finished chain.\u001b[0m\n",
            "A Lebkuchen Latte at Pret a Manger in Berlin Mitte costs 4,40 €.\n"
          ]
        }
      ],
      "source": [
        "# Executes the LLMChain with provided context and user message, and prints the result.\n",
        "print(context_chain.run({\n",
        "  'source_knowledge': source_knowledge,\n",
        "  'human_message': \"How much does a Lebkuchen Latte cost at Pret a Manger in Berlin Mitte?\"\n",
        "}))\n"
      ]
    },
    {
      "cell_type": "markdown",
      "metadata": {},
      "source": [
        "# RAG"
      ]
    },
    {
      "cell_type": "markdown",
      "metadata": {
        "id": "jXoiLncsU3pe"
      },
      "source": [
        "<a name=\"data-description\"></a>\n",
        "# Data Description\n",
        "\n",
        "In this section, kindly provide a brief description of the dataset that you will use in this tutorial. Specify information such as the data type or file format (e.g. text, image, video, tabular), size, spatial resolution, temporal resolution, labels or categories, etc. Explicitly name the source of your dataset. If you are introducing a new dataset, feel free to include additional information (e.g. field survey sampling methods, dataset annotation efforts, etc.) or provide external links and resources that discuss the specific details of the dataset.\n"
      ]
    },
    {
      "cell_type": "markdown",
      "metadata": {
        "id": "PoF-BxSM5Jkc"
      },
      "source": [
        "## Data Download\n",
        "Provide instructions on how to retrieve the necessary data.\n",
        "\n",
        "This may include bash scripts, Python scripts, or other means of downloading the data."
      ]
    },
    {
      "cell_type": "code",
      "execution_count": null,
      "metadata": {
        "id": "Qh5FKi6Nopbr"
      },
      "outputs": [],
      "source": [
        "# Insert data download code here, e.g.\n",
        "# !wget <data-download-link>.zip -O data.zip"
      ]
    },
    {
      "cell_type": "markdown",
      "metadata": {
        "id": "bSt6h_Q-oqjK"
      },
      "source": [
        "## Data Preprocessing\n",
        "Additionally, you can include any data preprocessing steps and exploratory data analyses (e.g. visualize data distributions, impute missing values, etc.) in this section to allow the users to better understand the dataset.\n",
        "\n",
        "In this section, you might also want to describe the different input and output variables, the train/val/test splits, and any data transformations."
      ]
    },
    {
      "cell_type": "code",
      "execution_count": null,
      "metadata": {
        "id": "0aBJ5aLZosk-"
      },
      "outputs": [],
      "source": [
        "# Insert data pre-processing and exploratory data analysis\n",
        "# code here. Feel free to break this up into several code\n",
        "# cells, interleaved with explanatory text."
      ]
    },
    {
      "cell_type": "markdown",
      "metadata": {
        "id": "qa9Iuu2GU52Z"
      },
      "source": [
        "<a name=\"methodology\"></a>\n",
        "# Methodology\n",
        "\n",
        "In this section, describe a step-by-step walkthrough of the methodology, in the form of code cells. Feel free to make use of markdown headings to break this section up into smaller subsections, preferrably one section per task.\n",
        "\n",
        "Reminders:\n",
        "*   Split the code into small, digestible chunks.\n",
        "*   Use text cells to describe each code block.\n",
        "*   Avoid duplicate code through modularization.\n",
        "*   Focus on learning outcomes."
      ]
    },
    {
      "cell_type": "markdown",
      "metadata": {
        "id": "yWXsiZ5freTG"
      },
      "source": [
        "## Subtask Heading 1\n",
        "Replace the heading with the appropriate title for each subtask."
      ]
    },
    {
      "cell_type": "code",
      "execution_count": null,
      "metadata": {
        "id": "6CeKQHfyrU7k"
      },
      "outputs": [],
      "source": [
        "# Insert code here. Feel free to break this up into several code\n",
        "# cells, interleaved with explanatory text."
      ]
    },
    {
      "cell_type": "markdown",
      "metadata": {
        "id": "o8L28axZ4NVj"
      },
      "source": [
        "## Subtask Heading 2\n",
        "Replace the heading with the appropriate title for each subtask."
      ]
    },
    {
      "cell_type": "code",
      "execution_count": null,
      "metadata": {
        "id": "_6HotiSW4Pe8"
      },
      "outputs": [],
      "source": [
        "# Insert code here. Feel free to break this up into several code\n",
        "# cells, interleaved with explanatory text."
      ]
    },
    {
      "cell_type": "markdown",
      "metadata": {
        "id": "ZhkmytKNU_Z2"
      },
      "source": [
        "<a name=\"CUI\"></a>\n",
        "# X. Deployment as Conversation User Interface\n",
        "\n",
        "Deploying the model as a Conversation User Interface (CUI) necessitates integrating it into a web framework and running it as a Python application on a web server. Given these technical intricacies, we cannot not run the code as part of this notebook. Instead, we'll provide selected bits of the code and give and overview of key considerations, as well as sharing the access to the repository from which we host the application for you to explore on your own. "
      ]
    },
    {
      "cell_type": "markdown",
      "metadata": {},
      "source": [
        "## Key Steps and Considerations\n",
        "\n",
        "- **Utilizing Chainlit Framework:** We employ Chainlit to convert the model into a web application. Chainlit, an asynchronous Python framework, supports numerous concurrent connections and operates on an event-driven basis. This setup allows for efficient processing and handling of user interactions.\n",
        "\n",
        "- **Event-Driven Execution:** Using Chainlit's event-driven approach, specific code segments are linked to particular user actions. For instance, when a user initiates a chat, the system loads and processes relevant documents, establishes the vector database, and loads the model. Subsequently, when a user poses a question, it feeds into the model as a query, computes a response, and presents associated sources.\n",
        "\n",
        "- **Adaptation for Compatibility:** To align with Chainlit's requirements, the model undergoes slight modifications, employing the native function ConversationRetrievalChain. While this enhances deployment optimization, it sacrifices some flexibility compared to earlier versions aimed at demonstrating RAG+C functionality to users.\n",
        "\n",
        "- **Deployment via HuggingFaceSpaces:** Hosting the application on a personal web server restricts access. Therefore, we utilize HuggingFaceSpaces, a free, open-source service from Hugging Face, for public deployment. The platform's interface resembles GitHub and simplifies the upload of data and applications. The docker file, containing all necessary commands to render the application, facilitates straightforward deployment via commands like \"chainlit run rag-chat.py.\"\n"
      ]
    },
    {
      "cell_type": "code",
      "execution_count": null,
      "metadata": {
        "id": "8LWo6UQzwj37",
        "tags": []
      },
      "outputs": [],
      "source": [
        "import os\n",
        "\n",
        "from langchain.document_loaders import DirectoryLoader\n",
        "from langchain.document_loaders import BSHTMLLoader\n",
        "from bs4 import SoupStrainer\n",
        "import re\n",
        "\n",
        "from langchain import HuggingFaceHub, PromptTemplate, LLMChain\n",
        "from langchain.embeddings import SentenceTransformerEmbeddings\n",
        "from langchain.vectorstores import Chroma\n",
        "\n",
        "from langchain.chains import ConversationalRetrievalChain\n",
        "from langchain.memory import ChatMessageHistory, ConversationBufferMemory\n",
        "\n",
        "import chainlit as cl\n",
        "\n",
        "# llm\n",
        "model_id = \"tiiuae/falcon-7b-instruct\"\n",
        "conv_model = HuggingFaceHub(\n",
        "    huggingfacehub_api_token=os.environ['HF_API_TOKEN'], \n",
        "    repo_id=model_id, \n",
        "    model_kwargs={\"temperature\":0.8,\"max_length\": 1000}\n",
        "    )\n",
        "\n",
        "# chroma\n",
        "data_path = \"data/html\"\n",
        "embed_model = \"all-MiniLM-L6-v2\" # Chroma defaults to \"sentence-transformers/all-MiniLM-L6-v2\"\n",
        "\n",
        "# load documents\n",
        "def load_documents(directory):\n",
        "\n",
        "    # define Beautiful Soup key word args\n",
        "    bs_kwargs = {\n",
        "        \"features\": \"html.parser\", \n",
        "        \"parse_only\": SoupStrainer(\"p\") # only include relevant text\n",
        "        }\n",
        "    \n",
        "    # define Loader key word args\n",
        "    loader_kwargs = {\n",
        "        \"open_encoding\": \"utf-8\",\n",
        "        \"bs_kwargs\": bs_kwargs\n",
        "        }\n",
        "    \n",
        "    # define Loader\n",
        "    loader = DirectoryLoader(\n",
        "        path=directory, \n",
        "        glob=\"*.html\", \n",
        "        loader_cls=BSHTMLLoader,\n",
        "        loader_kwargs=loader_kwargs\n",
        "        )\n",
        "    \n",
        "    documents = loader.load()\n",
        "    return documents\n",
        "\n",
        "    \n",
        "# prepare documents\n",
        "def prepare_documents(documents):\n",
        "    for doc in documents:\n",
        "        doc.page_content = doc.page_content.replace(\"\\n\", \" \").replace(\"\\t\", \" \")\n",
        "        doc.page_content = re.sub(\"\\\\s+\", \" \", doc.page_content)\n",
        "\n",
        "    # define Beautiful Soup key word args\n",
        "    bs_kwargs = {\n",
        "        \"features\": \"html.parser\", \n",
        "        \"parse_only\": SoupStrainer(\"title\") # only include relevant text\n",
        "        }\n",
        "        \n",
        "    # define Loader key word args\n",
        "    loader_kwargs = {\n",
        "        \"open_encoding\": \"utf-8\",\n",
        "        \"bs_kwargs\": bs_kwargs\n",
        "        }\n",
        "    \n",
        "    loader = DirectoryLoader(\n",
        "        path=data_path, \n",
        "        glob=\"*.html\", \n",
        "        loader_cls=BSHTMLLoader,\n",
        "        loader_kwargs=loader_kwargs\n",
        "        )\n",
        "\n",
        "    document_sources = loader.load()\n",
        "    \n",
        "    # convert source metadata into a list\n",
        "    source_list = [doc.metadata[\"title\"] for doc in document_sources]\n",
        "    \n",
        "    # update source metadata\n",
        "    i = 0\n",
        "    for doc in documents:\n",
        "        doc.metadata[\"source\"] = \" \".join([\"FAR\", source_list[i]])\n",
        "        i += 1\n",
        "    return documents\n",
        "\n",
        "@cl.on_chat_start\n",
        "async def on_chat_start():\n",
        "    # Instantiate the chain for that user session\n",
        "    embedding_func = SentenceTransformerEmbeddings(model_name=embed_model)\n",
        "\n",
        "    msg = cl.Message(\n",
        "        content=\"Loading and processing documents. This may take a while...\",\n",
        "        disable_human_feedback=True)\n",
        "    await msg.send()\n",
        "\n",
        "    documents = load_documents(data_path)\n",
        "    documents = prepare_documents(documents)\n",
        "\n",
        "    docsearch = await cl.make_async(Chroma.from_documents)(\n",
        "        documents,\n",
        "        embedding_func\n",
        "    )\n",
        "    \n",
        "    message_history = ChatMessageHistory()\n",
        "     \n",
        "    memory = ConversationBufferMemory(\n",
        "        memory_key=\"chat_history\",\n",
        "        output_key=\"answer\",\n",
        "        chat_memory=message_history,\n",
        "        return_messages=True,\n",
        "    )\n",
        "\n",
        "    chain = ConversationalRetrievalChain.from_llm(\n",
        "        conv_model,\n",
        "        chain_type=\"stuff\",\n",
        "        retriever=docsearch.as_retriever(),\n",
        "        memory=memory,\n",
        "        return_source_documents=True,\n",
        "    )\n",
        "    msg.content = \"Ready. You can now ask questions!\"\n",
        "\n",
        "    await msg.update()\n",
        "    cl.user_session.set(\"chain\", chain)\n",
        "\n",
        "\n",
        "@cl.on_message\n",
        "async def main(message):\n",
        "    chain = cl.user_session.get(\"chain\")  # type: ConversationalRetrievalChain\n",
        "    cb = cl.AsyncLangchainCallbackHandler()\n",
        "\n",
        "    res = await chain.acall(message.content, callbacks=[cb])\n",
        "    \n",
        "    answer = res[\"answer\"]\n",
        "    source_documents = res[\"source_documents\"]\n",
        "\n",
        "    text_elements = []\n",
        "\n",
        "    source_names = set()  # Use a set to store unique source names\n",
        "\n",
        "    for idx, source_doc in enumerate(source_documents):\n",
        "        source_name = source_doc.metadata[\"source\"]\n",
        "        text_elements.append(\n",
        "                cl.Text(content=source_doc.page_content, \n",
        "                        name=source_name))\n",
        "        source_names.add(source_name)  # Add the source name to the set\n",
        "\n",
        "    if source_names:\n",
        "            answer += f\"\\nSources: {', '.join(source_names)}\"\n",
        "    else:\n",
        "            answer += \"\\nNo sources found\"\n",
        "\n",
        "    await cl.Message(content=answer, elements=text_elements).send()"
      ]
    },
    {
      "cell_type": "markdown",
      "metadata": {},
      "source": [
        "NOTE: Add screenshot which shows that this can already be run from Terminal. Also add screenshot from HF Spaces Repo and the Docker File."
      ]
    },
    {
      "cell_type": "markdown",
      "metadata": {},
      "source": [
        "## Access our Federal Acquisition Regulation (FAR) Chat\n",
        "Access our \"FAR-Chat\" here: [FAR-Chat Deployment](https://huggingface.co/spaces/smkerr/rag-chat). Explore the repository and its files, especially the adapted Python application, via this link: [Repository and Files](https://huggingface.co/spaces/smkerr/rag-chat/tree/main)."
      ]
    },
    {
      "cell_type": "markdown",
      "metadata": {},
      "source": [
        "## Caveats on Usage and Performance\n",
        "\n",
        "- **Limited CPU Support:** HuggingFaceSpaces' free access comes with constrained CPU support. Consequently, working with the entire dataset of 4,000+ documents led to significant waiting times upon launching the chat. Thus, a random subset of 500 files was chosen primarily to showcase functionality.\n",
        "\n",
        "- **Model Performance:** As a result of the smaller dataset and the model's performance limitations compared to premium models like GPT-4, occasional erroneous or irrelevant answers might occur. Restarting the chat or rephrasing the question often rectifies such issues, as the model may require some \"warm-up\" time.\n",
        "\n",
        "- **Enhanced Performance Possibilities:** A small investment in GPU-supported web hosting and premium model access could substantially improve performance, mitigating these limitations.\n"
      ]
    },
    {
      "cell_type": "markdown",
      "metadata": {
        "id": "PkKqewK_-ZLD"
      },
      "source": [
        "<a name=\"references\"></a>\n",
        "# References\n",
        "\n",
        "Include all references used.\n",
        "\n",
        "For example, in this template:\n",
        "\n",
        "*   EarthCube Notebook Template: https://github.com/earthcube/NotebookTemplates\n",
        "*   Earth Engine Community Tutorials Style Guide: https://developers.google.com/earth-engine/tutorials/community/styleguide#colab\n",
        "*   Google Cloud Community Tutorial Style Guide: https://cloud.google.com/community/tutorials/styleguide\n",
        "*   Rule A, Birmingham A, Zuniga C, Altintas I, Huang S-C, Knight R, et al. (2019) Ten simple rules for writing and sharing computational analyses in Jupyter Notebooks. PLoS Comput Biol 15(7): e1007007. https://doi.org/10.1371/journal.pcbi.1007007\n",
        "\n",
        "\n"
      ]
    },
    {
      "cell_type": "markdown",
      "metadata": {
        "id": "YguJayU8RBmd"
      },
      "source": [
        "## Acknowledgement\n",
        "\n",
        "These guidelines are heavily based on the Climate Change AI template for the for the tutorials track at the [NeurIPS 2021 Workshop on Tackling Climate Change with Machine Learning](https://www.climatechange.ai/events/neurips2021)."
      ]
    }
  ],
  "metadata": {
    "colab": {
      "provenance": []
    },
    "kernelspec": {
      "display_name": "Python 3",
      "name": "python3"
    },
    "language_info": {
      "codemirror_mode": {
        "name": "ipython",
        "version": 3
      },
      "file_extension": ".py",
      "mimetype": "text/x-python",
      "name": "python",
      "nbconvert_exporter": "python",
      "pygments_lexer": "ipython3",
      "version": "3.10.0"
    }
  },
  "nbformat": 4,
  "nbformat_minor": 0
}
