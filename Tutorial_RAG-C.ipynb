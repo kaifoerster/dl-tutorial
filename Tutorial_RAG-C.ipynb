{
  "cells": [
    {
      "cell_type": "markdown",
      "metadata": {
        "id": "13i7KQ9t-CV8"
      },
      "source": [
        "# Tutorial: Retrieval Augmented Generation with Citation (RAG-C)\n",
        "## GRAD-E1394 Deep Learning -- Assignment 3\n",
        "Authors:\n",
        "*   Amin Oueslati, a.oueslati@students.hertie-school.org\n",
        "*   Steven Kerr, s.kerr@students.hertie-school.org\n",
        "*   Kai Foerster, k.foerster@students.hertie-school.org \n",
        "\n",
        "\n",
        "\n",
        "This comprehensive tutorial introduces Retrieval Augmented Generation with Citation (RAG-C) using Falcon 6B, a Large Language Model (LLM), and LangChain. It demonstrates how RAG-C enhances LLM responses by integrating external context, exemplified first through a practical case involving coffee prices in Berlin Mitte. Initially, the LLM is asked for coffee prices in Berlin Mitte without context, and then re-asked with specific context on coffee prices. The example illustrates the contrast between the LLM's hallucinated responses and context-informed answers. Participants will then engage in loading and embedding documents from the Federal Acquisition Regulation (FAR) and programme the RAG-C, followed by its application in querying detailed FAR-related information. The tutorial culminates in a comparative quiz on FAR-specific questions between a pure LLM and the RAG-C enhanced model. Assessing the RAG-C against the pure LLM showcases the significant improvement in response accuracy and contextual relevance brought by RAG-C, thereby underlining its value in advancing LLM applications."
      ]
    },
    {
      "cell_type": "markdown",
      "metadata": {
        "id": "yNv0ANr5WcD_"
      },
      "source": [
        "# Table of Contents\n",
        "\n",
        "\n",
        "*   [Memo](#memo)\n",
        "*   [Overview](#overview)\n",
        "*   [Background & Prerequisites](#background-and-prereqs)\n",
        "*   [Software Requirements](#software-requirements)\n",
        "*   [Data Description](#data-description)\n",
        "*   [Methodology](#methodology)\n",
        "*   [Results & Discussion](#results-and-discussion)\n",
        "*   [References](#references)\n"
      ]
    },
    {
      "cell_type": "markdown",
      "metadata": {
        "id": "rqD_ftUYJE1n"
      },
      "source": [
        "# General Guidelines\n",
        "*(Please remove this and other guideline sections from your final tutorial submission.)*\n",
        "\n",
        "This template should help you create your tutorial. You may introduce modifications and extensions but adhere to the general principles for writing the tutorial:\n",
        "\n",
        "*   Be brief.\n",
        "    *  Keep it short and simple. Avoid unnecessary complexity.\n",
        "*   Clearly illustrate how the content relates to public policy.\n",
        "    *  Identify the ways in which this tutorial would help the users (your collegues) in their work.\n",
        "*   Provide enough context.\n",
        "    *  Explain important concepts directly in the tutorial notebook, but feel free to direct users to external resources when necessary.  \n",
        "*   Avoid or minimize the use of jargon.\n",
        "    *  Ideally, the content can be understood by both an ML audience and by people who are relatively new to ML and deep learning.\n",
        "*   Focus on readability and usability.\n",
        "    *  Interleave code cells with explanatory text, keeping your audience in mind.\n",
        "*   Follow guidelines to avoid plagiarism.\n",
        "    * Any verbatim text needs to be put in quotation marks.\n",
        "    * Do not copy code.\n",
        "    * Clearly reference ideas and work of others.\n",
        "    * [Hertie School Code of Conduct](https://hertieschool-f4e6.kxcdn.com/fileadmin/5_WhoWeAre/Code_of_Conduct.pdf)\n",
        "* Ensure reproducibility.\n",
        "    * Ensure that your notebook can be rerun by somebody else on a different machine in a reasonable amount of time. If the task is computationally expensive, provide an additional, smaller data sample for fast reproduction, and use that in your tutorial.\n",
        "\n",
        "## Additional Instructions\n",
        "We highly recommend that you follow the [Ten simple rules for writing and sharing computational analyses using Jupyter Notebooks](https://journals.plos.org/ploscompbiol/article?id=10.1371/journal.pcbi.1007007). We summarize the ten rules as follows:\n",
        "\n",
        "<center><img src=\"https://journals.plos.org/ploscompbiol/article/figure/image?size=large&id=info:doi/10.1371/journal.pcbi.1007007.g001\" width=400>\n",
        "\n",
        "<small>Rule, Adam, et al. \"Ten simple rules for writing and sharing computational analyses in Jupyter Notebooks.\" PLoS computational biology 15.7 (2019).</small></center>\n",
        "\n",
        "### Rule 1: Tell a story for an audience\n",
        "* Interleave explanatory text and code to tell a compelling story.\n",
        "* Describe not just what you did but why you did it.\n",
        "* How you tell your story depends on your goal and your audience.\n",
        "\n",
        "### Rule 2: Document the process, not just the results\n",
        "* Document relevant interactive explorations.\n",
        "* Don't wait until the end to add explanatory text.\n",
        "* Generate publication-ready version of figures from the get-go.\n",
        "\n",
        "### Rule 3: Use cell divisions to make steps clear\n",
        "* Each cell should perform one meaningful step in the analysis.\n",
        "* Think one cell = one paragraph, function, or task (e.g. creating a plot).\n",
        "* Avoid long cells (50+ lines)\n",
        "* Organize your notebook into sections/subsections.  \n",
        "\n",
        "### Rule 4: Modularize code\n",
        "* Avoid duplicate code (no copy-pasting!)\n",
        "* Wrap the code that you want to reuse in a function.\n",
        "* Use descriptive and meaningful variable and function names.\n",
        "\n",
        "### Rule 5: Record dependencies\n",
        "* Manage your dependencies using a package or environment manager (e.g. pip,conda)\n",
        "* Feel free to use tools like Binder or Docker to generate a \"container\" for better reproducibility.\n",
        "\n",
        "### Rule 6: Use version control\n",
        "- Google colab allows you to view revision history.\n",
        "- You can also opt to use Git and Github for version control.\n",
        "- As Jupyter uses JSON for serialization, tracking raw changes on GitHub is difficult. [ReviewNB](https://www.reviewnb.com/) and [nbdime](https://github.com/jupyter/nbdime) can help to generate human-readable diffs.\n",
        "\n",
        "### Rule 7: Build a pipeline\n",
        "* A well-designed notebook can be generalized into a pipeline.\n",
        "* Place key variable declarations at the top/beginning of the notebook.\n",
        "* Make a habit of regularly restarting your kernel and rerunning all cells.\n",
        "* Before submitting, reinstall all dependencies and rerun all cells in a new enviroment to ensure reproducibility.\n",
        "\n",
        "### Rule 8: Share and explain your data\n",
        "* Properly reference the data you use.\n",
        "* If using your own data, make your data or a sample of your data publicly available along with the notebook.\n",
        "* You can opt to host public copies of your data.\n",
        "\n",
        "### Rule 9: Design your notebooks to be read, run, and explored\n",
        "* Read: For code hosted in a public repository, add README and LICENSE files.\n",
        "* Run: Consider using Google Colab, Binder, or Docker for seamless replication.\n",
        "* Explore: Consider how you can design your notebook so future users can built on top of your work.\n",
        "\n",
        "### Rule 10: Advocate for open research"
      ]
    },
    {
      "cell_type": "markdown",
      "metadata": {
        "id": "QH81wjfsJsv1"
      },
      "source": [
        "<a name=\"memo\"></a>\n",
        "# Memo\n",
        "\n",
        "SOMETHING LIKE THIS\n",
        "\n",
        "This tutorial offers a comprehensive exploration into the world of Retrieval Augmented Generation with Citation (RAG-C), utilizing the advanced capabilities of Falcon 6B, a Large Language Model (LLM), in conjunction with LangChain. Aimed at enhancing the proficiency of AI practitioners, this guide delves into the transformative impact of RAG-C on the quality and context-awareness of LLM responses.\n",
        "\n",
        "The journey begins with an engaging introduction to RAG-C, illustrating how it significantly refines the LLM's responses by incorporating external context into the generation process. This concept is vividly demonstrated through a practical example: querying the LLM about coffee prices in a Berlin Mitte café. Initially, the LLM's response is based solely on its internal knowledge. However, when provided with actual price data as context, the tutorial showcases the remarkable improvement in the LLM's accuracy and relevance in its second attempt.\n",
        "\n",
        "Further, participants will gain hands-on experience in loading and embedding documents from the Federal Acquisition Regulation (FAR), an essential step in programming the RAG-C system. This sets the stage for an immersive demonstration, where the newly implemented RAG-C is challenged with detailed inquiries about the FAR. The tutorial guides users through each step, ensuring a thorough understanding of the process.\n",
        "\n",
        "To quantify the effectiveness of RAG-C, the tutorial concludes with a compelling quiz. Participants will witness a head-to-head comparison between the standard LLM and the RAG-C enhanced model, analyzing their responses against the actual answers from the FAR quiz. This assessment not only highlights the enhanced performance and accuracy of the RAG-C system but also emphasizes the importance of context in generating reliable and precise responses.\n",
        "\n",
        "Through this tutorial, learners will not only grasp the technicalities of RAG-C but also appreciate its significant role in advancing the capabilities of language models, making it an invaluable resource for AI professionals seeking to leverage the full potential of LLMs in various applications.\n",
        "\n",
        "\n"
      ]
    },
    {
      "cell_type": "markdown",
      "metadata": {
        "id": "e2u40fYe3EOL"
      },
      "source": [
        "<a name=\"overview\"></a>\n",
        "# Overview\n",
        "\n",
        "This tutorial offers a focused exploration of Retrieval Augmented Generation with Citation (RAG-C), employing the Falcon 6B Large Language Model (LLM) and LangChain, to address the challenge of information accuracy in public policy-related inquiries. The primary goal is to demonstrate the significant enhancement in response quality when an LLM is augmented with specific contextual information. By initially presenting the LLM's base capability to generate responses without context – as seen in its attempt to provide coffee prices in Berlin Mitte – and then contrasting this with responses informed by specific contextual data, the tutorial highlights the issue of hallucination in LLMs and the importance of context for accuracy.\n",
        "\n",
        "The practical application involves programming the RAG-C using documents from the Federal Acquisition Regulation (FAR), a critical resource in public policy. This hands-on experience emphasizes how RAG-C can be tailored to deliver precise, contextually relevant information in policy-related fields. The tutorial culminates in a quiz focused on FAR, comparing the performance of the standard LLM against the RAG-C-enhanced model. This comparison not only showcases the effectiveness of RAG-C in reducing misinformation and enhancing accuracy but also serves as a learning outcome for users, demonstrating the practical implications of using augmented LLMs in public policy domains. \n",
        "\n",
        "A standout aspect of this tutorial is its commitment to open-source accessibility, ensuring that all models, codes, and methods demonstrated are available to everyone. Moreover, the tutorial is designed with computational efficiency in mind. Unlike the resource-heavy process of fine-tuning LLMs, the methods and applications showcased can be comfortably executed on standard laptops. This approach not only makes the tutorial more accessible but also practical for those with limited computational resources. \n",
        "\n",
        "A critical aspect covered in the tutorial is the potential for local server deployment, addressing the ever-important issue of data privacy. This theoretical adaptation allows for the hosting of both the LLM and the embedded database on local servers, presenting a practical solution for handling sensitive information, a common concern in policy-related applications. Additionally, the tutorial emphasizes the 'C' in RAG-C, which stands for Citation. This feature enhances the trustworthiness of the model's responses by citing the sources used in generating these responses. Such transparency is vital in public policy contexts, where the ability to verify and trust information is paramount.\n",
        "\n",
        "Overall, the tutorial is designed to provide users with a clear understanding of how advanced AI tools can be leveraged to improve the reliability and relevance of information in areas critical to effective policy-making."
      ]
    },
    {
      "cell_type": "markdown",
      "metadata": {
        "id": "gQgijl46pYzn"
      },
      "source": [
        "<a name=\"background-and-prereqs\"></a>\n",
        "# Background & Prerequisites\n",
        "\n",
        "You will need to specify the prerequisites and basic knowledge required for the tutorial. Afterwards, please provide a brief explanation of the most important concepts necessary for the users to follow the tutorial.\n",
        "\n",
        "ADD AN IMAGE OF THE RAG HERE AND EXPLAIN\n",
        "\n",
        "Retrieval Augmented Generation with Citation (RAG-C) is a sophisticated process that marries the expansive knowledge of a Large Language Model (LLM) with the precision of targeted information retrieval. To understand and engage with a tutorial on RAG-C, a user would typically need a foundational grasp of machine learning concepts, familiarity with natural language processing, and some experience with vector representations of data.\n",
        "\n",
        "The process starts with a user query that is transformed into a numerical representation known as a query vector. This transformation is accomplished through an embedding model, which digests the textual query and outputs a high-dimensional vector that captures its semantic essence. The magic lies in the embedding model's ability to encode the meaning of the text into a mathematical form that can be compared and matched against a vast repository of similarly encoded information.\n",
        "\n",
        "With the query vector in hand, the system then interacts with a vector database. This database is a curated collection of information that has been pre-processed and stored as vectors. The query vector serves as a key, unlocking a treasure trove of relevant contexts within this database—contexts that are semantically close to the intent and content of the initial query.\n",
        "\n",
        "The retrieved contexts, rich with information pertinent to the query, are then fed to the LLM along with the original query text. This hybrid input, augmented with specific, relevant information, enables the LLM to generate responses that are not only contextually rich but also grounded in the retrieved data.\n",
        "\n",
        "Finally, the 'C' in RAG-C brings an element of trust to the equation. As the LLM crafts its response, it also provides citations for the information it used from the vector database. This step is crucial, as it allows users to trace the origin of the information, ensuring the response's accuracy and allowing for independent verification.\n",
        "\n",
        "Through a RAG-C tutorial, users would explore these steps, learning to implement each one and understanding how they come together to enhance the LLM's capabilities. The tutorial would likely cover the principles of vector space models, the mechanics of information retrieval, and the methodology of combining these with a pre-trained language model. The result is an intelligent system that not only answers with greater precision but also offers transparency in its responses."
      ]
    },
    {
      "cell_type": "code",
      "execution_count": 9,
      "metadata": {},
      "outputs": [
        {
          "data": {
            "text/html": [
              "<img src=\"https://raw.githubusercontent.com/kaifoerster/dl-tutorial/main/RAG%20illustrationPNG.PNG\"/>"
            ],
            "text/plain": [
              "<IPython.core.display.Image object>"
            ]
          },
          "execution_count": 9,
          "metadata": {},
          "output_type": "execute_result"
        }
      ],
      "source": [
        "from IPython.display import Image\n",
        "Image(url=\"https://raw.githubusercontent.com/kaifoerster/dl-tutorial/main/RAG%20illustrationPNG.PNG\")"
      ]
    },
    {
      "cell_type": "markdown",
      "metadata": {
        "id": "Ag9dvWcxqmEq"
      },
      "source": [
        "## Videos\n",
        "You may also opt to include short videos explaining relevant concepts.\n",
        "\n",
        "Example:"
      ]
    },
    {
      "cell_type": "code",
      "execution_count": 1,
      "metadata": {
        "colab": {
          "base_uri": "https://localhost:8080/",
          "height": 321
        },
        "id": "E4aK3MI9qhfJ",
        "outputId": "044bd042-37c7-43d2-8a19-78dbc2dd6e46"
      },
      "outputs": [
        {
          "data": {
            "image/jpeg": "[encoded data removed]",
            "text/html": [
              "\n",
              "        <iframe\n",
              "            width=\"400\"\n",
              "            height=\"300\"\n",
              "            src=\"https://www.youtube.com/embed/LhnCsygAvzY\"\n",
              "            frameborder=\"0\"\n",
              "            allowfullscreen\n",
              "            \n",
              "        ></iframe>\n",
              "        "
            ],
            "text/plain": [
              "<IPython.lib.display.YouTubeVideo at 0x200d0097550>"
            ]
          },
          "execution_count": 1,
          "metadata": {},
          "output_type": "execute_result"
        }
      ],
      "source": [
        "from IPython.display import YouTubeVideo\n",
        "YouTubeVideo('LhnCsygAvzY')"
      ]
    },
    {
      "cell_type": "markdown",
      "metadata": {
        "id": "7BpQklEEIFDD"
      },
      "source": [
        "## Reading materials\n",
        "Please include additional resources (e.g. research papers, blog posts, textbooks) for the readers to further study the topic of your tutorial.\n"
      ]
    },
    {
      "cell_type": "markdown",
      "metadata": {
        "id": "rSRCNgYzUwaf"
      },
      "source": [
        "<a name=\"software-requirements\"></a>\n",
        "# Software Requirements\n",
        "Include in this section the software requirements, setup instructions, and library imports.\n",
        "\n",
        "Example:\n",
        "\n",
        "This notebook requires Python >= 3.7. The following libraries are required:\n",
        "*   pandas\n",
        "*   numpy\n",
        "*   matplotlib"
      ]
    },
    {
      "cell_type": "code",
      "execution_count": null,
      "metadata": {
        "id": "jObV5LtDk0Vm"
      },
      "outputs": [],
      "source": [
        "!pip install pandas numpy matplotlib"
      ]
    },
    {
      "cell_type": "code",
      "execution_count": null,
      "metadata": {
        "id": "xVzk4V7qUu2R"
      },
      "outputs": [],
      "source": [
        "# Data visualization\n",
        "import matplotlib.pyplot as plt\n",
        "\n",
        "# Data manipulation\n",
        "import pandas as pd\n",
        "import numpy as np"
      ]
    },
    {
      "cell_type": "markdown",
      "metadata": {
        "id": "jXoiLncsU3pe"
      },
      "source": [
        "<a name=\"data-description\"></a>\n",
        "# Data Description\n",
        "\n",
        "In this section, kindly provide a brief description of the dataset that you will use in this tutorial. Specify information such as the data type or file format (e.g. text, image, video, tabular), size, spatial resolution, temporal resolution, labels or categories, etc. Explicitly name the source of your dataset. If you are introducing a new dataset, feel free to include additional information (e.g. field survey sampling methods, dataset annotation efforts, etc.) or provide external links and resources that discuss the specific details of the dataset.\n"
      ]
    },
    {
      "cell_type": "markdown",
      "metadata": {
        "id": "PoF-BxSM5Jkc"
      },
      "source": [
        "## Data Download\n",
        "Provide instructions on how to retrieve the necessary data.\n",
        "\n",
        "This may include bash scripts, Python scripts, or other means of downloading the data."
      ]
    },
    {
      "cell_type": "code",
      "execution_count": null,
      "metadata": {
        "id": "Qh5FKi6Nopbr"
      },
      "outputs": [],
      "source": [
        "# Insert data download code here, e.g.\n",
        "# !wget <data-download-link>.zip -O data.zip"
      ]
    },
    {
      "cell_type": "markdown",
      "metadata": {
        "id": "bSt6h_Q-oqjK"
      },
      "source": [
        "## Data Preprocessing\n",
        "Additionally, you can include any data preprocessing steps and exploratory data analyses (e.g. visualize data distributions, impute missing values, etc.) in this section to allow the users to better understand the dataset.\n",
        "\n",
        "In this section, you might also want to describe the different input and output variables, the train/val/test splits, and any data transformations."
      ]
    },
    {
      "cell_type": "code",
      "execution_count": null,
      "metadata": {
        "id": "0aBJ5aLZosk-"
      },
      "outputs": [],
      "source": [
        "# Insert data pre-processing and exploratory data analysis\n",
        "# code here. Feel free to break this up into several code\n",
        "# cells, interleaved with explanatory text."
      ]
    },
    {
      "cell_type": "markdown",
      "metadata": {
        "id": "qa9Iuu2GU52Z"
      },
      "source": [
        "<a name=\"methodology\"></a>\n",
        "# Methodology\n",
        "\n",
        "In this section, describe a step-by-step walkthrough of the methodology, in the form of code cells. Feel free to make use of markdown headings to break this section up into smaller subsections, preferrably one section per task.\n",
        "\n",
        "Reminders:\n",
        "*   Split the code into small, digestible chunks.\n",
        "*   Use text cells to describe each code block.\n",
        "*   Avoid duplicate code through modularization.\n",
        "*   Focus on learning outcomes."
      ]
    },
    {
      "cell_type": "markdown",
      "metadata": {
        "id": "yWXsiZ5freTG"
      },
      "source": [
        "## Subtask Heading 1\n",
        "Replace the heading with the appropriate title for each subtask."
      ]
    },
    {
      "cell_type": "code",
      "execution_count": null,
      "metadata": {
        "id": "6CeKQHfyrU7k"
      },
      "outputs": [],
      "source": [
        "# Insert code here. Feel free to break this up into several code\n",
        "# cells, interleaved with explanatory text."
      ]
    },
    {
      "cell_type": "markdown",
      "metadata": {
        "id": "o8L28axZ4NVj"
      },
      "source": [
        "## Subtask Heading 2\n",
        "Replace the heading with the appropriate title for each subtask."
      ]
    },
    {
      "cell_type": "code",
      "execution_count": null,
      "metadata": {
        "id": "_6HotiSW4Pe8"
      },
      "outputs": [],
      "source": [
        "# Insert code here. Feel free to break this up into several code\n",
        "# cells, interleaved with explanatory text."
      ]
    },
    {
      "cell_type": "markdown",
      "metadata": {
        "id": "ZhkmytKNU_Z2"
      },
      "source": [
        "<a name=\"results-and-discussion\"></a>\n",
        "# Results & Discussion\n",
        "\n",
        "In this section, describe and contextualize the results shown in the tutorial. Briefly describe the performance metrics and cross validation techniques used."
      ]
    },
    {
      "cell_type": "code",
      "execution_count": null,
      "metadata": {
        "id": "8LWo6UQzwj37"
      },
      "outputs": [],
      "source": [
        "# Insert code here. Feel free to break this up into several code\n",
        "# cells, interleaved with explanatory text."
      ]
    },
    {
      "cell_type": "markdown",
      "metadata": {
        "id": "oHIjM6eMwlXY"
      },
      "source": [
        "Finally, include a discussion on the limitations and important takeaways from the exercise.\n",
        "\n",
        "## Limitations\n",
        "*   The tutorial is focused on education and learning. Explain all the simplifications you have made compared to applying a similar approach in the real world (for instance, if you have reduced your training data and performance).\n",
        "*   ML algorithms and datasets can reinforce or reflect unfair biases. Reflect on the potential biases in the dataset and/or analysis presented in your tutorial, including its potential societal impact, and discuss how readers might go about addressing this challenge."
      ]
    },
    {
      "cell_type": "markdown",
      "metadata": {
        "id": "CLLCQpv14Gsx"
      },
      "source": [
        "## Next Steps\n",
        "*   What do you recommend would be the next steps for your readers after finishing your tutorial?\n",
        "*   Discuss other potential policy- and government-related applications for the method or tool discussed in the tutorial.\n",
        "*   List anything else that you would want the reader to take away as they move on from the tutorial."
      ]
    },
    {
      "cell_type": "markdown",
      "metadata": {
        "id": "PkKqewK_-ZLD"
      },
      "source": [
        "<a name=\"references\"></a>\n",
        "# References\n",
        "\n",
        "Include all references used.\n",
        "\n",
        "For example, in this template:\n",
        "\n",
        "*   EarthCube Notebook Template: https://github.com/earthcube/NotebookTemplates\n",
        "*   Earth Engine Community Tutorials Style Guide: https://developers.google.com/earth-engine/tutorials/community/styleguide#colab\n",
        "*   Google Cloud Community Tutorial Style Guide: https://cloud.google.com/community/tutorials/styleguide\n",
        "*   Rule A, Birmingham A, Zuniga C, Altintas I, Huang S-C, Knight R, et al. (2019) Ten simple rules for writing and sharing computational analyses in Jupyter Notebooks. PLoS Comput Biol 15(7): e1007007. https://doi.org/10.1371/journal.pcbi.1007007\n",
        "\n",
        "\n"
      ]
    },
    {
      "cell_type": "markdown",
      "metadata": {
        "id": "YguJayU8RBmd"
      },
      "source": [
        "## Acknowledgement\n",
        "\n",
        "These guidelines are heavily based on the Climate Change AI template for the for the tutorials track at the [NeurIPS 2021 Workshop on Tackling Climate Change with Machine Learning](https://www.climatechange.ai/events/neurips2021)."
      ]
    }
  ],
  "metadata": {
    "colab": {
      "provenance": []
    },
    "kernelspec": {
      "display_name": "Python 3",
      "name": "python3"
    },
    "language_info": {
      "codemirror_mode": {
        "name": "ipython",
        "version": 3
      },
      "file_extension": ".py",
      "mimetype": "text/x-python",
      "name": "python",
      "nbconvert_exporter": "python",
      "pygments_lexer": "ipython3",
      "version": "3.10.0"
    }
  },
  "nbformat": 4,
  "nbformat_minor": 0
}
