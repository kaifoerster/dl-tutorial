{
 "cells": [
  {
   "cell_type": "markdown",
   "metadata": {},
   "source": [
    "# Tutorial\n",
    "\n",
    "Kai Foerster, Amin Oueslati, Steve Kerr"
   ]
  },
  {
   "cell_type": "markdown",
   "metadata": {},
   "source": [
    "## Introduction\n",
    "Policy motivation: many institutions want to use something like ChatGPT but with their own domain knowledge <br>\n",
    "Explain what a RAG chatbot is   <br>"
   ]
  },
  {
   "cell_type": "markdown",
   "metadata": {},
   "source": [
    "### Next steps\n",
    "\n",
    "\t- Add HF token in .env"
   ]
  },
  {
   "cell_type": "markdown",
   "metadata": {},
   "source": [
    "# Setup\n",
    "\n",
    "* Install dependencies\n",
    "* Configure an API key for Hugging Face"
   ]
  },
  {
   "cell_type": "code",
   "execution_count": 1,
   "metadata": {},
   "outputs": [
    {
     "name": "stdout",
     "output_type": "stream",
     "text": [
      "\u001b[1mLoading .env environment variables...\u001b[0m\n",
      "\u001b[32mCourtesy Notice\u001b[0m: Pipenv found itself running within a virtual environment, so it will automatically use that environment, instead of creating its own for any project. You can set \u001b[1mPIPENV_IGNORE_VIRTUALENVS=1\u001b[0m to force pipenv to ignore that environment and create its own instead. You can set \u001b[1mPIPENV_VERBOSITY=-1\u001b[0m to suppress this warning.\n",
      "\u001b[1;32mInstalling langchain\u001b[0m\u001b[1;33m...\u001b[0m\n",
      "\u001b[?25lResolving langchain\u001b[33m...\u001b[0m\n",
      "\u001b[2K✔ Installation Succeeded\n",
      "\u001b[2K\u001b[32m⠋\u001b[0m Installing langchain...\n",
      "\u001b[1A\u001b[2K\u001b[1mInstalling dependencies from Pipfile.lock \u001b[0m\u001b[1m(\u001b[0m\u001b[1mb78d33\u001b[0m\u001b[1m)\u001b[0m\u001b[1;33m...\u001b[0m\n",
      "To activate this project's virtualenv, run \u001b[33mpipenv shell\u001b[0m.\n",
      "Alternatively, run a command inside the virtualenv with \u001b[33mpipenv run\u001b[0m.\n",
      "\u001b[1mLoading .env environment variables...\u001b[0m\n",
      "\u001b[32mCourtesy Notice\u001b[0m: Pipenv found itself running within a virtual environment, so it will automatically use that environment, instead of creating its own for any project. You can set \u001b[1mPIPENV_IGNORE_VIRTUALENVS=1\u001b[0m to force pipenv to ignore that environment and create its own instead. You can set \u001b[1mPIPENV_VERBOSITY=-1\u001b[0m to suppress this warning.\n",
      "\u001b[1;32mInstalling sentence_transformers\u001b[0m\u001b[1;33m...\u001b[0m\n",
      "\u001b[?25lResolving sentence_transformers\u001b[33m...\u001b[0m\n",
      "\u001b[2K✔ Installation Succeeded\n",
      "\u001b[2K\u001b[32m⠋\u001b[0m Installing sentence_transformers...\n",
      "\u001b[1A\u001b[2K\u001b[1mInstalling dependencies from Pipfile.lock \u001b[0m\u001b[1m(\u001b[0m\u001b[1mb78d33\u001b[0m\u001b[1m)\u001b[0m\u001b[1;33m...\u001b[0m\n",
      "To activate this project's virtualenv, run \u001b[33mpipenv shell\u001b[0m.\n",
      "Alternatively, run a command inside the virtualenv with \u001b[33mpipenv run\u001b[0m.\n",
      "\u001b[1mLoading .env environment variables...\u001b[0m\n",
      "\u001b[32mCourtesy Notice\u001b[0m: Pipenv found itself running within a virtual environment, so it will automatically use that environment, instead of creating its own for any project. You can set \u001b[1mPIPENV_IGNORE_VIRTUALENVS=1\u001b[0m to force pipenv to ignore that environment and create its own instead. You can set \u001b[1mPIPENV_VERBOSITY=-1\u001b[0m to suppress this warning.\n",
      "\u001b[1;32mInstalling chromadb\u001b[0m\u001b[1;33m...\u001b[0m\n",
      "\u001b[?25lResolving chromadb\u001b[33m...\u001b[0m\n",
      "\u001b[2K✔ Installation Succeeded\n",
      "\u001b[2K\u001b[32m⠋\u001b[0m Installing chromadb...\n",
      "\u001b[1A\u001b[2K\u001b[1mInstalling dependencies from Pipfile.lock \u001b[0m\u001b[1m(\u001b[0m\u001b[1mb78d33\u001b[0m\u001b[1m)\u001b[0m\u001b[1;33m...\u001b[0m\n",
      "To activate this project's virtualenv, run \u001b[33mpipenv shell\u001b[0m.\n",
      "Alternatively, run a command inside the virtualenv with \u001b[33mpipenv run\u001b[0m.\n",
      "\u001b[1mLoading .env environment variables...\u001b[0m\n",
      "\u001b[32mCourtesy Notice\u001b[0m: Pipenv found itself running within a virtual environment, so it will automatically use that environment, instead of creating its own for any project. You can set \u001b[1mPIPENV_IGNORE_VIRTUALENVS=1\u001b[0m to force pipenv to ignore that environment and create its own instead. You can set \u001b[1mPIPENV_VERBOSITY=-1\u001b[0m to suppress this warning.\n",
      "\u001b[1;32mInstalling unstructured\u001b[0m\u001b[1;33m...\u001b[0m\n",
      "\u001b[?25lResolving unstructured\u001b[33m...\u001b[0m\n",
      "\u001b[2K✔ Installation Succeeded\n",
      "\u001b[2K\u001b[32m⠋\u001b[0m Installing unstructured...\n",
      "\u001b[1A\u001b[2K\u001b[1mInstalling dependencies from Pipfile.lock \u001b[0m\u001b[1m(\u001b[0m\u001b[1mb78d33\u001b[0m\u001b[1m)\u001b[0m\u001b[1;33m...\u001b[0m\n",
      "To activate this project's virtualenv, run \u001b[33mpipenv shell\u001b[0m.\n",
      "Alternatively, run a command inside the virtualenv with \u001b[33mpipenv run\u001b[0m.\n",
      "\u001b[1mLoading .env environment variables...\u001b[0m\n",
      "\u001b[32mCourtesy Notice\u001b[0m: Pipenv found itself running within a virtual environment, so it will automatically use that environment, instead of creating its own for any project. You can set \u001b[1mPIPENV_IGNORE_VIRTUALENVS=1\u001b[0m to force pipenv to ignore that environment and create its own instead. You can set \u001b[1mPIPENV_VERBOSITY=-1\u001b[0m to suppress this warning.\n",
      "\u001b[1;32mInstalling chainlit\u001b[0m\u001b[1;33m...\u001b[0m\n",
      "\u001b[?25lResolving chainlit\u001b[33m...\u001b[0m\n",
      "\u001b[2K✔ Installation Succeeded\n",
      "\u001b[2K\u001b[32m⠋\u001b[0m Installing chainlit...\n",
      "\u001b[1A\u001b[2K\u001b[1mInstalling dependencies from Pipfile.lock \u001b[0m\u001b[1m(\u001b[0m\u001b[1mb78d33\u001b[0m\u001b[1m)\u001b[0m\u001b[1;33m...\u001b[0m\n",
      "To activate this project's virtualenv, run \u001b[33mpipenv shell\u001b[0m.\n",
      "Alternatively, run a command inside the virtualenv with \u001b[33mpipenv run\u001b[0m.\n",
      "\u001b[1mLoading .env environment variables...\u001b[0m\n",
      "\u001b[32mCourtesy Notice\u001b[0m: Pipenv found itself running within a virtual environment, so it will automatically use that environment, instead of creating its own for any project. You can set \u001b[1mPIPENV_IGNORE_VIRTUALENVS=1\u001b[0m to force pipenv to ignore that environment and create its own instead. You can set \u001b[1mPIPENV_VERBOSITY=-1\u001b[0m to suppress this warning.\n",
      "\u001b[1;32mInstalling python-dotenv\u001b[0m\u001b[1;33m...\u001b[0m\n",
      "\u001b[?25lResolving python-dotenv\u001b[33m...\u001b[0m\n",
      "\u001b[2K✔ Installation Succeeded\n",
      "\u001b[2K\u001b[32m⠋\u001b[0m Installing python-dotenv...\n",
      "\u001b[1A\u001b[2K\u001b[1mInstalling dependencies from Pipfile.lock \u001b[0m\u001b[1m(\u001b[0m\u001b[1mb78d33\u001b[0m\u001b[1m)\u001b[0m\u001b[1;33m...\u001b[0m\n",
      "To activate this project's virtualenv, run \u001b[33mpipenv shell\u001b[0m.\n",
      "Alternatively, run a command inside the virtualenv with \u001b[33mpipenv run\u001b[0m.\n",
      "\u001b[1mLoading .env environment variables...\u001b[0m\n",
      "\u001b[32mCourtesy Notice\u001b[0m: Pipenv found itself running within a virtual environment, so it will automatically use that environment, instead of creating its own for any project. You can set \u001b[1mPIPENV_IGNORE_VIRTUALENVS=1\u001b[0m to force pipenv to ignore that environment and create its own instead. You can set \u001b[1mPIPENV_VERBOSITY=-1\u001b[0m to suppress this warning.\n",
      "\u001b[1;32mInstalling bs4\u001b[0m\u001b[1;33m...\u001b[0m\n",
      "\u001b[?25lResolving bs4\u001b[33m...\u001b[0m\n",
      "\u001b[2K✔ Installation Succeeded\n",
      "\u001b[2K\u001b[32m⠋\u001b[0m Installing bs4...\n",
      "\u001b[1A\u001b[2K\u001b[1mInstalling dependencies from Pipfile.lock \u001b[0m\u001b[1m(\u001b[0m\u001b[1mb78d33\u001b[0m\u001b[1m)\u001b[0m\u001b[1;33m...\u001b[0m\n",
      "To activate this project's virtualenv, run \u001b[33mpipenv shell\u001b[0m.\n",
      "Alternatively, run a command inside the virtualenv with \u001b[33mpipenv run\u001b[0m.\n",
      "\u001b[1mLoading .env environment variables...\u001b[0m\n",
      "\u001b[32mCourtesy Notice\u001b[0m: Pipenv found itself running within a virtual environment, so it will automatically use that environment, instead of creating its own for any project. You can set \u001b[1mPIPENV_IGNORE_VIRTUALENVS=1\u001b[0m to force pipenv to ignore that environment and create its own instead. You can set \u001b[1mPIPENV_VERBOSITY=-1\u001b[0m to suppress this warning.\n",
      "\u001b[1;32mInstalling tqdm\u001b[0m\u001b[1;33m...\u001b[0m\n",
      "\u001b[?25lResolving tqdm\u001b[33m...\u001b[0m\n",
      "\u001b[2K✔ Installation Succeeded\n",
      "\u001b[2K\u001b[32m⠋\u001b[0m Installing tqdm...\n",
      "\u001b[1A\u001b[2K\u001b[1mInstalling dependencies from Pipfile.lock \u001b[0m\u001b[1m(\u001b[0m\u001b[1mb78d33\u001b[0m\u001b[1m)\u001b[0m\u001b[1;33m...\u001b[0m\n",
      "To activate this project's virtualenv, run \u001b[33mpipenv shell\u001b[0m.\n",
      "Alternatively, run a command inside the virtualenv with \u001b[33mpipenv run\u001b[0m.\n",
      "\u001b[1mLoading .env environment variables...\u001b[0m\n",
      "\u001b[32mCourtesy Notice\u001b[0m: Pipenv found itself running within a virtual environment, so it will automatically use that environment, instead of creating its own for any project. You can set \u001b[1mPIPENV_IGNORE_VIRTUALENVS=1\u001b[0m to force pipenv to ignore that environment and create its own instead. You can set \u001b[1mPIPENV_VERBOSITY=-1\u001b[0m to suppress this warning.\n",
      "\u001b[1;32mInstalling pandas\u001b[0m\u001b[1;33m...\u001b[0m\n",
      "\u001b[?25lResolving pandas\u001b[33m...\u001b[0m\n",
      "\u001b[2K✔ Installation Succeeded\n",
      "\u001b[2K\u001b[32m⠋\u001b[0m Installing pandas...\n",
      "\u001b[1A\u001b[2K\u001b[1mInstalling dependencies from Pipfile.lock \u001b[0m\u001b[1m(\u001b[0m\u001b[1mb78d33\u001b[0m\u001b[1m)\u001b[0m\u001b[1;33m...\u001b[0m\n",
      "To activate this project's virtualenv, run \u001b[33mpipenv shell\u001b[0m.\n",
      "Alternatively, run a command inside the virtualenv with \u001b[33mpipenv run\u001b[0m.\n",
      "\u001b[1mLoading .env environment variables...\u001b[0m\n",
      "\u001b[32mCourtesy Notice\u001b[0m: Pipenv found itself running within a virtual environment, so it will automatically use that environment, instead of creating its own for any project. You can set \u001b[1mPIPENV_IGNORE_VIRTUALENVS=1\u001b[0m to force pipenv to ignore that environment and create its own instead. You can set \u001b[1mPIPENV_VERBOSITY=-1\u001b[0m to suppress this warning.\n",
      "\u001b[1;32mInstalling openpyxl\u001b[0m\u001b[1;33m...\u001b[0m\n",
      "\u001b[?25lResolving openpyxl\u001b[33m...\u001b[0m\n",
      "\u001b[2K✔ Installation Succeeded\n",
      "\u001b[2K\u001b[32m⠋\u001b[0m Installing openpyxl...\n",
      "\u001b[1A\u001b[2K\u001b[1mInstalling dependencies from Pipfile.lock \u001b[0m\u001b[1m(\u001b[0m\u001b[1mb78d33\u001b[0m\u001b[1m)\u001b[0m\u001b[1;33m...\u001b[0m\n",
      "To activate this project's virtualenv, run \u001b[33mpipenv shell\u001b[0m.\n",
      "Alternatively, run a command inside the virtualenv with \u001b[33mpipenv run\u001b[0m.\n",
      "\u001b[1mLoading .env environment variables...\u001b[0m\n",
      "\u001b[32mCourtesy Notice\u001b[0m: Pipenv found itself running within a virtual environment, so it will automatically use that environment, instead of creating its own for any project. You can set \u001b[1mPIPENV_IGNORE_VIRTUALENVS=1\u001b[0m to force pipenv to ignore that environment and create its own instead. You can set \u001b[1mPIPENV_VERBOSITY=-1\u001b[0m to suppress this warning.\n",
      "\u001b[1;32mInstalling scikit-learn\u001b[0m\u001b[1;33m...\u001b[0m\n",
      "\u001b[?25lResolving scikit-learn\u001b[33m...\u001b[0m\n",
      "\u001b[2K✔ Installation Succeeded\n",
      "\u001b[2K\u001b[32m⠋\u001b[0m Installing scikit-learn...\n",
      "\u001b[1A\u001b[2K\u001b[1mInstalling dependencies from Pipfile.lock \u001b[0m\u001b[1m(\u001b[0m\u001b[1mb78d33\u001b[0m\u001b[1m)\u001b[0m\u001b[1;33m...\u001b[0m\n",
      "To activate this project's virtualenv, run \u001b[33mpipenv shell\u001b[0m.\n",
      "Alternatively, run a command inside the virtualenv with \u001b[33mpipenv run\u001b[0m.\n",
      "Usage: pipenv [OPTIONS] COMMAND [ARGS]...\n",
      "Try 'pipenv -h' for help.\n",
      "\n",
      "Error: No such command 'numpy'.\n"
     ]
    }
   ],
   "source": [
    "# install dependencies\n",
    "!pipenv install langchain\n",
    "!pipenv install sentence_transformers\n",
    "!pipenv install chromadb\n",
    "!pipenv install unstructured\n",
    "!pipenv install chainlit\n",
    "!pipenv install python-dotenv\n",
    "!pipenv install bs4\n",
    "!pipenv install tqdm\n",
    "!pipenv install pandas\n",
    "!pipenv install openpyxl\n",
    "!pipenv install scikit-learn\n",
    "!pipenv numpy"
   ]
  },
  {
   "cell_type": "markdown",
   "metadata": {},
   "source": [
    "## Building a chatbot (no RAG)"
   ]
  },
  {
   "cell_type": "code",
   "execution_count": 2,
   "metadata": {},
   "outputs": [
    {
     "name": "stdout",
     "output_type": "stream",
     "text": [
      "2023-12-13 16:27:13 - Loaded .env file\n"
     ]
    }
   ],
   "source": [
    "import os\n",
    "import chainlit as cl\n",
    "from langchain import HuggingFaceHub, PromptTemplate, LLMChain\n",
    "from dotenv import load_dotenv"
   ]
  },
  {
   "cell_type": "code",
   "execution_count": 3,
   "metadata": {},
   "outputs": [],
   "source": [
    "load_dotenv()\n",
    "HF_API_TOKEN = os.getenv('HF_API_TOKEN')"
   ]
  },
  {
   "cell_type": "code",
   "execution_count": 4,
   "metadata": {},
   "outputs": [
    {
     "name": "stderr",
     "output_type": "stream",
     "text": [
      "/Users/steve/.local/share/virtualenvs/dl-tutorial-Si6gq9gB/lib/python3.11/site-packages/tqdm/auto.py:21: TqdmWarning: IProgress not found. Please update jupyter and ipywidgets. See https://ipywidgets.readthedocs.io/en/stable/user_install.html\n",
      "  from .autonotebook import tqdm as notebook_tqdm\n",
      "/Users/steve/.local/share/virtualenvs/dl-tutorial-Si6gq9gB/lib/python3.11/site-packages/huggingface_hub/utils/_deprecation.py:127: FutureWarning: '__init__' (from 'huggingface_hub.inference_api') is deprecated and will be removed from version '1.0'. `InferenceApi` client is deprecated in favor of the more feature-complete `InferenceClient`. Check out this guide to learn how to convert your script to use it: https://huggingface.co/docs/huggingface_hub/guides/inference#legacy-inferenceapi-client.\n",
      "  warnings.warn(warning_message, FutureWarning)\n"
     ]
    }
   ],
   "source": [
    "model_id = \"tiiuae/falcon-7b-instruct\"\n",
    "conv_model = HuggingFaceHub(\n",
    "    huggingfacehub_api_token=os.environ['HF_API_TOKEN'], \n",
    "    repo_id=model_id, \n",
    "    model_kwargs={\"temperature\":0.8,\"max_length\": 1000}\n",
    "    )"
   ]
  },
  {
   "cell_type": "code",
   "execution_count": 5,
   "metadata": {},
   "outputs": [],
   "source": [
    "template=\"\"\"You are a helpful assistant that answers questions of the user.\n",
    "{human_message}\n",
    "\"\"\"\n",
    "\n",
    "prompt=PromptTemplate(template=template, input_variables=[\"human_message\"])"
   ]
  },
  {
   "cell_type": "code",
   "execution_count": 6,
   "metadata": {},
   "outputs": [],
   "source": [
    "conv_chain = LLMChain(llm=conv_model, prompt=prompt, verbose=True)"
   ]
  },
  {
   "cell_type": "code",
   "execution_count": 7,
   "metadata": {},
   "outputs": [
    {
     "name": "stdout",
     "output_type": "stream",
     "text": [
      "\n",
      "\n",
      "\u001b[1m> Entering new LLMChain chain...\u001b[0m\n",
      "Prompt after formatting:\n",
      "\u001b[32;1m\u001b[1;3mYou are a helpful assistant that answers questions of the user.\n",
      "How much does a cappucino cost at Pret a Manger in Berlin Mitte?\n",
      "\u001b[0m\n",
      "\n",
      "\u001b[1m> Finished chain.\u001b[0m\n",
      "A cappucino at Pret a Manger in Berlin Mitte costs 3.25 EUR.\n"
     ]
    }
   ],
   "source": [
    "print(conv_chain.run(\"How much does a cappucino cost at Pret a Manger in Berlin Mitte?\"))"
   ]
  },
  {
   "cell_type": "markdown",
   "metadata": {},
   "source": [
    "### Hallucinations"
   ]
  },
  {
   "cell_type": "code",
   "execution_count": 8,
   "metadata": {},
   "outputs": [
    {
     "name": "stdout",
     "output_type": "stream",
     "text": [
      "\n",
      "\n",
      "\u001b[1m> Entering new LLMChain chain...\u001b[0m\n",
      "Prompt after formatting:\n",
      "\u001b[32;1m\u001b[1;3mYou are a helpful assistant that answers questions of the user.\n",
      "How much does a cappucino cost at Pret a Manger in Berlin Mitte?\n",
      "\u001b[0m\n",
      "\n",
      "\u001b[1m> Finished chain.\u001b[0m\n",
      "A cappucino at Pret a Manger in Berlin Mitte costs 3.25 EUR.\n"
     ]
    }
   ],
   "source": [
    "print(conv_chain.run(\"How much does a cappucino cost at Pret a Manger in Berlin Mitte?\"))"
   ]
  },
  {
   "cell_type": "markdown",
   "metadata": {},
   "source": [
    "### Source knowledging (manual)"
   ]
  },
  {
   "cell_type": "code",
   "execution_count": 9,
   "metadata": {},
   "outputs": [],
   "source": [
    "llmchain_information = [\n",
    "    \"A LLMChain is the most common type of chain. It consists of a PromptTemplate, a model (either an LLM or a ChatModel), and an optional output parser. This chain takes multiple input variables, uses the PromptTemplate to format them into a prompt. It then passes that to the model. Finally, it uses the OutputParser (if provided) to parse the output of the LLM into a final format.\",\n",
    "    \"Chains is an incredibly generic concept which returns to a sequence of modular components (or other chains) combined in a particular way to accomplish a common use case.\",\n",
    "    \"LangChain is a framework for developing applications powered by language models. We believe that the most powerful and differentiated applications will not only call out to a language model via an api, but will also: (1) Be data-aware: connect a language model to other sources of data, (2) Be agentic: Allow a language model to interact with its environment. As such, the LangChain framework is designed with the objective in mind to enable those types of applications.\"\n",
    "]\n",
    "\n",
    "source_knowledge = \"\\n\".join(llmchain_information)"
   ]
  },
  {
   "cell_type": "code",
   "execution_count": 10,
   "metadata": {},
   "outputs": [],
   "source": [
    "template_with_context=\"\"\"You are a helpful assistant that answers questions of the user, using the context provided below.\n",
    "\n",
    "Contexts:{source_knowledge}\n",
    "\n",
    "{human_message}\n",
    "\"\"\"\n",
    "\n",
    "prompt2=PromptTemplate(template=template_with_context, input_variables=[\"human_message\",  \"source_knowledge\"])"
   ]
  },
  {
   "cell_type": "code",
   "execution_count": 11,
   "metadata": {},
   "outputs": [
    {
     "name": "stdout",
     "output_type": "stream",
     "text": [
      "You are a helpful assistant that answers questions of the user, using the context provided below.\n",
      "\n",
      "Contexts:A LLMChain is the most common type of chain. It consists of a PromptTemplate, a model (either an LLM or a ChatModel), and an optional output parser. This chain takes multiple input variables, uses the PromptTemplate to format them into a prompt. It then passes that to the model. Finally, it uses the OutputParser (if provided) to parse the output of the LLM into a final format.\n",
      "Chains is an incredibly generic concept which returns to a sequence of modular components (or other chains) combined in a particular way to accomplish a common use case.\n",
      "LangChain is a framework for developing applications powered by language models. We believe that the most powerful and differentiated applications will not only call out to a language model via an api, but will also: (1) Be data-aware: connect a language model to other sources of data, (2) Be agentic: Allow a language model to interact with its environment. As such, the LangChain framework is designed with the objective in mind to enable those types of applications.\n",
      "\n",
      "What is a LLMChain?\n",
      "\n"
     ]
    }
   ],
   "source": [
    "print(prompt2.format(human_message=\"What is a LLMChain?\", source_knowledge=source_knowledge))"
   ]
  },
  {
   "cell_type": "code",
   "execution_count": 12,
   "metadata": {},
   "outputs": [],
   "source": [
    "context_chain = LLMChain(llm=conv_model, prompt=prompt2, verbose=True)"
   ]
  },
  {
   "cell_type": "code",
   "execution_count": 13,
   "metadata": {},
   "outputs": [
    {
     "name": "stdout",
     "output_type": "stream",
     "text": [
      "\n",
      "\n",
      "\u001b[1m> Entering new LLMChain chain...\u001b[0m\n",
      "Prompt after formatting:\n",
      "\u001b[32;1m\u001b[1;3mYou are a helpful assistant that answers questions of the user, using the context provided below.\n",
      "\n",
      "Contexts:A LLMChain is the most common type of chain. It consists of a PromptTemplate, a model (either an LLM or a ChatModel), and an optional output parser. This chain takes multiple input variables, uses the PromptTemplate to format them into a prompt. It then passes that to the model. Finally, it uses the OutputParser (if provided) to parse the output of the LLM into a final format.\n",
      "Chains is an incredibly generic concept which returns to a sequence of modular components (or other chains) combined in a particular way to accomplish a common use case.\n",
      "LangChain is a framework for developing applications powered by language models. We believe that the most powerful and differentiated applications will not only call out to a language model via an api, but will also: (1) Be data-aware: connect a language model to other sources of data, (2) Be agentic: Allow a language model to interact with its environment. As such, the LangChain framework is designed with the objective in mind to enable those types of applications.\n",
      "\n",
      "What is Langchain?\n",
      "\u001b[0m\n",
      "\n",
      "\u001b[1m> Finished chain.\u001b[0m\n",
      "\n",
      "LangChain is a framework that allows developers to develop applications powered by language models. LangChain provides an API that enables applications to call out to a language model via an API. LangChain also enables the language model to interact with its environment, encouraging agentic behavior.\n"
     ]
    }
   ],
   "source": [
    "print(context_chain.run({\n",
    "\n",
    "  'source_knowledge': source_knowledge,\n",
    "\n",
    "  'human_message': \"What is Langchain?\"\n",
    "\n",
    "}))"
   ]
  },
  {
   "cell_type": "markdown",
   "metadata": {},
   "source": [
    "## RAG \n",
    "### Create database to store your corpus on"
   ]
  },
  {
   "cell_type": "code",
   "execution_count": 14,
   "metadata": {},
   "outputs": [],
   "source": [
    "# load dependencies\n",
    "from langchain.document_loaders import DirectoryLoader\n",
    "from langchain.embeddings import SentenceTransformerEmbeddings\n",
    "from langchain.vectorstores import Chroma\n",
    "import shutil"
   ]
  },
  {
   "cell_type": "code",
   "execution_count": 15,
   "metadata": {},
   "outputs": [],
   "source": [
    "# set params\n",
    "DATA_PATH = \"data/html\"\n",
    "CHROMA_PATH = \"chroma_db\"\n",
    "EMBED_MODEL = \"all-MiniLM-L6-v2\" # Chroma defaults to \"sentence-transformers/all-MiniLM-L6-v2\"\n",
    "# alternative: \"BAAI/bge-small-en-v1.5\""
   ]
  },
  {
   "cell_type": "markdown",
   "metadata": {},
   "source": [
    "# Load Documents"
   ]
  },
  {
   "cell_type": "code",
   "execution_count": 16,
   "metadata": {},
   "outputs": [],
   "source": [
    "from bs4 import SoupStrainer\n",
    "from langchain.document_loaders import DirectoryLoader\n",
    "from langchain.document_loaders import BSHTMLLoader"
   ]
  },
  {
   "cell_type": "code",
   "execution_count": 17,
   "metadata": {},
   "outputs": [
    {
     "name": "stderr",
     "output_type": "stream",
     "text": [
      "  0%|          | 0/3487 [00:00<?, ?it/s]"
     ]
    },
    {
     "name": "stderr",
     "output_type": "stream",
     "text": [
      "100%|██████████| 3487/3487 [00:06<00:00, 521.92it/s]\n"
     ]
    },
    {
     "data": {
      "text/plain": [
       "3487"
      ]
     },
     "execution_count": 17,
     "metadata": {},
     "output_type": "execute_result"
    }
   ],
   "source": [
    "# define Beautiful Soup key word args\n",
    "bs_kwargs = {\n",
    "    \"features\": \"html.parser\", \n",
    "    \"parse_only\": SoupStrainer(\"p\") # only include relevant text\n",
    "}\n",
    "\n",
    "# define Loader key word args\n",
    "loader_kwargs = {\n",
    "    \"open_encoding\": \"utf-8\",\n",
    "    \"bs_kwargs\": bs_kwargs\n",
    "}\n",
    "\n",
    "# define Loader\n",
    "loader = DirectoryLoader(\n",
    "    path='data/html', \n",
    "    glob=\"*.html\", \n",
    "    loader_cls=BSHTMLLoader,\n",
    "    loader_kwargs=loader_kwargs,\n",
    "    show_progress=True\n",
    "    )\n",
    "\n",
    "# load docs\n",
    "documents = loader.load()\n",
    "len(documents)"
   ]
  },
  {
   "cell_type": "code",
   "execution_count": 18,
   "metadata": {},
   "outputs": [],
   "source": [
    "# clean up document content\n",
    "import re \n",
    "\n",
    "for doc in documents:\n",
    "    doc.page_content = doc.page_content.replace(\"\\n\", \" \").replace(\"\\t\", \" \")\n",
    "    doc.page_content = re.sub(\"\\\\s+\", \" \", doc.page_content)"
   ]
  },
  {
   "cell_type": "code",
   "execution_count": 19,
   "metadata": {},
   "outputs": [
    {
     "data": {
      "text/plain": [
       "Document(page_content='Warranties of data shall be developed and used in accordance with agency regulations.', metadata={'source': 'data/html/46.708.html', 'title': ''})"
      ]
     },
     "execution_count": 19,
     "metadata": {},
     "output_type": "execute_result"
    }
   ],
   "source": [
    "# inspect first doc\n",
    "documents[0]"
   ]
  },
  {
   "cell_type": "markdown",
   "metadata": {},
   "source": [
    "## Label Metadata"
   ]
  },
  {
   "cell_type": "code",
   "execution_count": 20,
   "metadata": {},
   "outputs": [],
   "source": [
    "# # add source label\n",
    "# for doc in documents:\n",
    "#     doc_source = re.search(\"\\d{1,2}[.]\\d+(\\-\\d)*\", doc.metadata[\"source\"]).group() \n",
    "#     doc.metadata[\"source\"] = \" \".join([\"FAR\", doc_source])"
   ]
  },
  {
   "cell_type": "code",
   "execution_count": 21,
   "metadata": {},
   "outputs": [
    {
     "name": "stderr",
     "output_type": "stream",
     "text": [
      "  0%|          | 0/3487 [00:00<?, ?it/s]"
     ]
    },
    {
     "name": "stderr",
     "output_type": "stream",
     "text": [
      "100%|██████████| 3487/3487 [00:03<00:00, 1075.74it/s]\n"
     ]
    }
   ],
   "source": [
    "# define Beautiful Soup key word args\n",
    "bs_kwargs = {\n",
    "    \"features\": \"html.parser\", \n",
    "    \"parse_only\": SoupStrainer(\"title\") # only include relevant text\n",
    "}\n",
    "\n",
    "# define Loader key word args\n",
    "loader_kwargs = {\n",
    "    \"open_encoding\": \"utf-8\",\n",
    "    \"bs_kwargs\": bs_kwargs\n",
    "}\n",
    "\n",
    "loader = DirectoryLoader(\n",
    "    path='data/html', \n",
    "    glob=\"*.html\", \n",
    "    loader_cls=BSHTMLLoader,\n",
    "    loader_kwargs=loader_kwargs,\n",
    "    show_progress=True\n",
    "    )\n",
    "\n",
    "document_titles = loader.load()\n",
    "\n",
    "# convert source metadata into a list\n",
    "title_list = [doc.metadata[\"title\"] for doc in document_titles]\n",
    "\n",
    "# add title label\n",
    "i = 0\n",
    "for doc in documents:\n",
    "    doc.metadata[\"source\"] = \" \".join([\"FAR\", title_list[i]])\n",
    "    i += 1"
   ]
  },
  {
   "cell_type": "code",
   "execution_count": 22,
   "metadata": {},
   "outputs": [],
   "source": [
    "# # add FAR part label\n",
    "# import re \n",
    "\n",
    "# for doc in docs:\n",
    "#     doc_part = re.search('^(\\d{1,2})', doc.metadata['source']).group()\n",
    "#     doc.metadata[\"part\"] = \" \".join([\"FAR Part\", doc_part])\n",
    "    \n",
    "#     print(doc.metadata[\"part\"])"
   ]
  },
  {
   "cell_type": "code",
   "execution_count": 23,
   "metadata": {},
   "outputs": [
    {
     "data": {
      "text/plain": [
       "[{'source': 'FAR 46.708 Warranties of data.', 'title': ''},\n",
       " {'source': 'FAR 9.405 Effect of listing.', 'title': ''},\n",
       " {'source': 'FAR 11.106 Purchase descriptions for service contracts.',\n",
       "  'title': ''},\n",
       " {'source': 'FAR 16.204 Fixed-price incentive contracts.', 'title': ''},\n",
       " {'source': 'FAR 7.201 [Reserved]', 'title': ''}]"
      ]
     },
     "execution_count": 23,
     "metadata": {},
     "output_type": "execute_result"
    }
   ],
   "source": [
    "# inspect metadata \n",
    "doc_metadata = [doc.metadata  for doc in documents]\n",
    "doc_metadata[0:5]"
   ]
  },
  {
   "cell_type": "markdown",
   "metadata": {},
   "source": [
    "# Embed Documents & Upload to Vector Database"
   ]
  },
  {
   "cell_type": "code",
   "execution_count": 24,
   "metadata": {},
   "outputs": [
    {
     "name": "stdout",
     "output_type": "stream",
     "text": [
      "2023-12-13 16:27:33 - Load pretrained SentenceTransformer: all-MiniLM-L6-v2\n",
      "2023-12-13 16:27:33 - Use pytorch device: cpu\n"
     ]
    }
   ],
   "source": [
    "# define text embedding model\n",
    "embedding_func = SentenceTransformerEmbeddings(model_name=EMBED_MODEL)\n",
    "\n",
    "# See https://huggingface.co/spaces/mteb/leaderboard"
   ]
  },
  {
   "cell_type": "code",
   "execution_count": 25,
   "metadata": {},
   "outputs": [
    {
     "name": "stdout",
     "output_type": "stream",
     "text": [
      "2023-12-13 16:27:34 - Anonymized telemetry enabled. See                     https://docs.trychroma.com/telemetry for more information.\n"
     ]
    },
    {
     "name": "stderr",
     "output_type": "stream",
     "text": [
      "Batches: 100%|██████████| 109/109 [02:00<00:00,  1.10s/it]\n"
     ]
    },
    {
     "name": "stdout",
     "output_type": "stream",
     "text": [
      "Saved 3487 chunks to chroma_db.\n"
     ]
    }
   ],
   "source": [
    "# first, clear out current db\n",
    "if os.path.exists(CHROMA_PATH):\n",
    "    shutil.rmtree(CHROMA_PATH)\n",
    "\n",
    "# initialize Chroma db and save locally\n",
    "db = Chroma.from_documents(\n",
    "    documents=documents, embedding=embedding_func, persist_directory=CHROMA_PATH\n",
    "    )\n",
    "\n",
    "db.persist()\n",
    "\n",
    "# print message\n",
    "print(f\"Saved {len(documents)} chunks to {CHROMA_PATH}.\")"
   ]
  },
  {
   "cell_type": "markdown",
   "metadata": {},
   "source": [
    "# Query Vector Database"
   ]
  },
  {
   "cell_type": "code",
   "execution_count": 26,
   "metadata": {},
   "outputs": [
    {
     "name": "stderr",
     "output_type": "stream",
     "text": [
      "Batches: 100%|██████████| 1/1 [00:00<00:00, 21.29it/s]\n"
     ]
    },
    {
     "data": {
      "text/plain": [
       "[(Document(page_content='The Federal Acquisition Regulations System is established for the codification and publication of uniform policies and procedures for acquisition by all executive agencies. The Federal Acquisition Regulations System consists of the Federal Acquisition Regulation (FAR), which is the primary document, and agency acquisition regulations that implement or supplement the FAR. The FAR System does not include internal agency guidance of the type described in 1.301(a)(2).', metadata={'source': 'FAR 1.101 Purpose.', 'title': ''}),\n",
       "  0.677825443885269),\n",
       " (Document(page_content='This part sets forth basic policies and general information about the Federal Acquisition Regulations System including purpose, authority, applicability, issuance, arrangement, numbering, dissemination, implementation, supplementation, maintenance, administration, and deviation. subparts 1.2,1.3, and 1.4 prescribe administrative procedures for maintaining the FAR System.', metadata={'source': 'FAR 1.000 Scope of part.', 'title': ''}),\n",
       "  0.6351669326334527)]"
      ]
     },
     "execution_count": 26,
     "metadata": {},
     "output_type": "execute_result"
    }
   ],
   "source": [
    "# query vector db\n",
    "query = \"What is the purpose of the Federal Acquisition Regulations?\"\n",
    "matching_docs = db.similarity_search_with_relevance_scores(\n",
    "    query=query, \n",
    "    k=4, # number of docs to return\n",
    "    score_threshold=.5,\n",
    "    #filter=[{\"\":\"\"}]\n",
    "    )\n",
    "\n",
    "matching_docs"
   ]
  },
  {
   "cell_type": "markdown",
   "metadata": {},
   "source": [
    "### Query data from your database based on your prompt"
   ]
  },
  {
   "cell_type": "code",
   "execution_count": 27,
   "metadata": {},
   "outputs": [],
   "source": [
    "### adapted version \n",
    "PROMPT_TEMPLATE = \"\"\"\n",
    "Answer the question based only on the following context:\n",
    "\n",
    "{context}\n",
    "\n",
    "---\n",
    "\n",
    "Answer the question based on the above context: {question}\n",
    "\"\"\"\n",
    "\n",
    "# TODO: verbose arg\n",
    "# TODO: when results not found, return generic message\n",
    "def RAG(query_text, verbose=True): \n",
    "    # Search the DB.\n",
    "    results = db.similarity_search_with_relevance_scores(query_text, k=5, score_threshold=.5)\n",
    "    if len(results) == 0 or results[0][1] < 0.5:\n",
    "        print(f\"Unable to find matching results.\")\n",
    "        return\n",
    "\n",
    "    context_text = \"\\n\\n---\\n\\n\".join([doc.page_content for doc, _score in results])\n",
    "    if len(context_text) > 1000:\n",
    "        context_text = context_text[:1000]\n",
    "        print(\"Warning: Context exceeded 1000 characters, trimming from the end.\")\n",
    "\n",
    "    prompt_template=PromptTemplate(template=PROMPT_TEMPLATE, input_variables=[\"context\",  \"question\"])\n",
    "    #prompt = prompt_template.format(context=context_text, question=query_text)\n",
    "    #print(prompt)\n",
    "\n",
    "    chain = LLMChain(llm=conv_model, prompt=prompt_template, verbose=True)\n",
    "    response_text = chain.run({\"context\": context_text, \"question\": query_text})\n",
    "    \n",
    "    sources = [doc.metadata.get(\"source\", None) for doc, _score in results]\n",
    "    formatted_response = f\"Response: {response_text}\\nSources: {sources}\"\n",
    "    \n",
    "    print(formatted_response) if verbose == True else None\n",
    "\n",
    "    return(response_text)"
   ]
  },
  {
   "cell_type": "markdown",
   "metadata": {},
   "source": [
    "### Parse the augumented prompt into the chatmodel"
   ]
  },
  {
   "cell_type": "code",
   "execution_count": 28,
   "metadata": {},
   "outputs": [
    {
     "name": "stderr",
     "output_type": "stream",
     "text": [
      "Batches: 100%|██████████| 1/1 [00:00<00:00, 35.72it/s]"
     ]
    },
    {
     "name": "stdout",
     "output_type": "stream",
     "text": [
      "Warning: Context exceeded 1000 characters, trimming from the end.\n",
      "\n",
      "\n",
      "\u001b[1m> Entering new LLMChain chain...\u001b[0m\n",
      "Prompt after formatting:\n",
      "\u001b[32;1m\u001b[1;3m\n",
      "Answer the question based only on the following context:\n",
      "\n",
      "The Federal Acquisition Regulations System is established for the codification and publication of uniform policies and procedures for acquisition by all executive agencies. The Federal Acquisition Regulations System consists of the Federal Acquisition Regulation (FAR), which is the primary document, and agency acquisition regulations that implement or supplement the FAR. The FAR System does not include internal agency guidance of the type described in 1.301(a)(2).\n",
      "\n",
      "---\n",
      "\n",
      "This part sets forth basic policies and general information about the Federal Acquisition Regulations System including purpose, authority, applicability, issuance, arrangement, numbering, dissemination, implementation, supplementation, maintenance, administration, and deviation. subparts 1.2,1.3, and 1.4 prescribe administrative procedures for maintaining the FAR System.\n",
      "\n",
      "---\n",
      "\n",
      "Agency acquisition regulations shall be limited to- (a) Those necessary to implement FAR policies and procedures within the agency; and (b) Addit\n",
      "\n",
      "---\n",
      "\n",
      "Answer the question based on the above context: What does the Federal Acquisition Regulations define?\n",
      "\u001b[0m\n"
     ]
    },
    {
     "name": "stderr",
     "output_type": "stream",
     "text": [
      "\n"
     ]
    },
    {
     "name": "stdout",
     "output_type": "stream",
     "text": [
      "\n",
      "\u001b[1m> Finished chain.\u001b[0m\n",
      "Response: The Federal Acquisition Regulations define the Federal Acquisition Regulations System. It consists of the Federal Acquisition Regulations (FAR), which is the primary document, and agency acquisition regulations that implement or supplement the FAR.\n",
      "Sources: ['FAR 1.101 Purpose.', 'FAR 1.000 Scope of part.', 'FAR 1.302 Limitations.']\n"
     ]
    },
    {
     "data": {
      "text/plain": [
       "'The Federal Acquisition Regulations define the Federal Acquisition Regulations System. It consists of the Federal Acquisition Regulations (FAR), which is the primary document, and agency acquisition regulations that implement or supplement the FAR.'"
      ]
     },
     "execution_count": 28,
     "metadata": {},
     "output_type": "execute_result"
    }
   ],
   "source": [
    "RAG(\"What does the Federal Acquisition Regulations define?\")"
   ]
  },
  {
   "cell_type": "markdown",
   "metadata": {},
   "source": [
    "### Human evaluation of RAG model\n",
    "To get an idea of whether our model is working as intended, we've selected 50 example questions based on training material prepared for government officials training to obtaining their Contracting Officer certification, requiring the ability to recall detailed information from the FAR."
   ]
  },
  {
   "cell_type": "code",
   "execution_count": 39,
   "metadata": {},
   "outputs": [
    {
     "data": {
      "text/html": [
       "<div>\n",
       "<style scoped>\n",
       "    .dataframe tbody tr th:only-of-type {\n",
       "        vertical-align: middle;\n",
       "    }\n",
       "\n",
       "    .dataframe tbody tr th {\n",
       "        vertical-align: top;\n",
       "    }\n",
       "\n",
       "    .dataframe thead th {\n",
       "        text-align: right;\n",
       "    }\n",
       "</style>\n",
       "<table border=\"1\" class=\"dataframe\">\n",
       "  <thead>\n",
       "    <tr style=\"text-align: right;\">\n",
       "      <th></th>\n",
       "      <th>question</th>\n",
       "      <th>question_edited</th>\n",
       "      <th>answer</th>\n",
       "      <th>answer_edited</th>\n",
       "      <th>response_no_context</th>\n",
       "      <th>response_context</th>\n",
       "      <th>source</th>\n",
       "    </tr>\n",
       "  </thead>\n",
       "  <tbody>\n",
       "    <tr>\n",
       "      <th>0</th>\n",
       "      <td>True or False? Contractors who provide product...</td>\n",
       "      <td>Is it true that contractors who provide produc...</td>\n",
       "      <td>True. Both FAR 1.102(b)(c) and FAR 1.102-3 not...</td>\n",
       "      <td>True. Both FAR 1.102(b)(c) and FAR 1.102-3 not...</td>\n",
       "      <td>NaN</td>\n",
       "      <td>NaN</td>\n",
       "      <td>https://publiccontractinginstitute.com/far-kno...</td>\n",
       "    </tr>\n",
       "    <tr>\n",
       "      <th>1</th>\n",
       "      <td>Who are the principal customers for the produc...</td>\n",
       "      <td>Who are the principal customers for the produc...</td>\n",
       "      <td>FAR 1.102-2 provides that the principal custom...</td>\n",
       "      <td>FAR 1.102-2 provides that the principal custom...</td>\n",
       "      <td>NaN</td>\n",
       "      <td>NaN</td>\n",
       "      <td>https://publiccontractinginstitute.com/far-kno...</td>\n",
       "    </tr>\n",
       "    <tr>\n",
       "      <th>2</th>\n",
       "      <td>True or False? A contracting officer may unila...</td>\n",
       "      <td>Can a contracting officer unilaterally incorpo...</td>\n",
       "      <td>False. FAR 1.108(d)(3) provides that “Contract...</td>\n",
       "      <td>False. FAR 1.108(d)(3) provides that “Contract...</td>\n",
       "      <td>NaN</td>\n",
       "      <td>NaN</td>\n",
       "      <td>https://publiccontractinginstitute.com/far-kno...</td>\n",
       "    </tr>\n",
       "    <tr>\n",
       "      <th>3</th>\n",
       "      <td>What three government officials are personally...</td>\n",
       "      <td>What three government officials are personally...</td>\n",
       "      <td>FAR 1.202 provides that “Agency compliance wit...</td>\n",
       "      <td>FAR 1.202 provides that “Agency compliance wit...</td>\n",
       "      <td>NaN</td>\n",
       "      <td>NaN</td>\n",
       "      <td>https://publiccontractinginstitute.com/far-kno...</td>\n",
       "    </tr>\n",
       "    <tr>\n",
       "      <th>4</th>\n",
       "      <td>What is a D&amp;F?</td>\n",
       "      <td>What is a D&amp;F?</td>\n",
       "      <td>FAR 1.701 provides that a “Determination and F...</td>\n",
       "      <td>FAR 1.701 provides that a “Determination and F...</td>\n",
       "      <td>NaN</td>\n",
       "      <td>NaN</td>\n",
       "      <td>https://publiccontractinginstitute.com/far-kno...</td>\n",
       "    </tr>\n",
       "  </tbody>\n",
       "</table>\n",
       "</div>"
      ],
      "text/plain": [
       "                                            question  \\\n",
       "0  True or False? Contractors who provide product...   \n",
       "1  Who are the principal customers for the produc...   \n",
       "2  True or False? A contracting officer may unila...   \n",
       "3  What three government officials are personally...   \n",
       "4                                     What is a D&F?   \n",
       "\n",
       "                                     question_edited  \\\n",
       "0  Is it true that contractors who provide produc...   \n",
       "1  Who are the principal customers for the produc...   \n",
       "2  Can a contracting officer unilaterally incorpo...   \n",
       "3  What three government officials are personally...   \n",
       "4                                     What is a D&F?   \n",
       "\n",
       "                                              answer  \\\n",
       "0  True. Both FAR 1.102(b)(c) and FAR 1.102-3 not...   \n",
       "1  FAR 1.102-2 provides that the principal custom...   \n",
       "2  False. FAR 1.108(d)(3) provides that “Contract...   \n",
       "3  FAR 1.202 provides that “Agency compliance wit...   \n",
       "4  FAR 1.701 provides that a “Determination and F...   \n",
       "\n",
       "                                       answer_edited  response_no_context  \\\n",
       "0  True. Both FAR 1.102(b)(c) and FAR 1.102-3 not...                  NaN   \n",
       "1  FAR 1.102-2 provides that the principal custom...                  NaN   \n",
       "2  False. FAR 1.108(d)(3) provides that “Contract...                  NaN   \n",
       "3  FAR 1.202 provides that “Agency compliance wit...                  NaN   \n",
       "4  FAR 1.701 provides that a “Determination and F...                  NaN   \n",
       "\n",
       "   response_context                                             source  \n",
       "0               NaN  https://publiccontractinginstitute.com/far-kno...  \n",
       "1               NaN  https://publiccontractinginstitute.com/far-kno...  \n",
       "2               NaN  https://publiccontractinginstitute.com/far-kno...  \n",
       "3               NaN  https://publiccontractinginstitute.com/far-kno...  \n",
       "4               NaN  https://publiccontractinginstitute.com/far-kno...  "
      ]
     },
     "execution_count": 39,
     "metadata": {},
     "output_type": "execute_result"
    }
   ],
   "source": [
    "import pandas as pd\n",
    "\n",
    "# load spreadsheet\n",
    "df = pd.read_excel('data/RAG+C_Q&A.xlsx')\n",
    "\n",
    "# preview \n",
    "df.head(5)"
   ]
  },
  {
   "cell_type": "code",
   "execution_count": 40,
   "metadata": {},
   "outputs": [
    {
     "data": {
      "text/plain": [
       "50"
      ]
     },
     "execution_count": 40,
     "metadata": {},
     "output_type": "execute_result"
    }
   ],
   "source": [
    "# number of questions & answers\n",
    "df.shape[0]"
   ]
  },
  {
   "cell_type": "markdown",
   "metadata": {},
   "source": [
    "We feed our list of questions into our RAG pipeline and record the responses."
   ]
  },
  {
   "cell_type": "code",
   "execution_count": 41,
   "metadata": {},
   "outputs": [
    {
     "name": "stderr",
     "output_type": "stream",
     "text": [
      "Batches:   0%|          | 0/1 [00:00<?, ?it/s]"
     ]
    },
    {
     "name": "stderr",
     "output_type": "stream",
     "text": [
      "Batches: 100%|██████████| 1/1 [00:00<00:00,  6.51it/s]\n",
      "/Users/steve/.local/share/virtualenvs/dl-tutorial-Si6gq9gB/lib/python3.11/site-packages/langchain_core/vectorstores.py:325: UserWarning: No relevant docs were retrieved using the relevance score threshold 0.5\n",
      "  warnings.warn(\n"
     ]
    },
    {
     "name": "stdout",
     "output_type": "stream",
     "text": [
      "Unable to find matching results.\n"
     ]
    },
    {
     "name": "stderr",
     "output_type": "stream",
     "text": [
      "Batches: 100%|██████████| 1/1 [00:00<00:00, 43.13it/s]\n"
     ]
    },
    {
     "name": "stdout",
     "output_type": "stream",
     "text": [
      "Warning: Context exceeded 1000 characters, trimming from the end.\n",
      "\n",
      "\n",
      "\u001b[1m> Entering new LLMChain chain...\u001b[0m\n",
      "Prompt after formatting:\n",
      "\u001b[32;1m\u001b[1;3m\n",
      "Answer the question based only on the following context:\n",
      "\n",
      " (a) The vision for the Federal Acquisition System is to deliver on a timely basis the best value product or service to the customer, while maintaining the public’s trust and fulfilling public policy objectives. Participants in the acquisition process should work together as a team and should be empowered to make decisions within their area of responsibility. (b) The Federal Acquisition System will- (1) Satisfy the customer in terms of cost, quality, and timeliness of the delivered product or service by, for example- (i) Maximizing the use of commercial products and commercial services; (ii) Using contractors who have a track record of successful past performance or who demonstrate a current superior ability to perform; and (iii) Promoting competition; (2) Minimize administrative operating costs; (3) Conduct business with integrity, fairness, and openness; and (4) Fulfill public policy objectives. (c) The Acquisition Team consists of all participants in Government acquisition including\n",
      "\n",
      "---\n",
      "\n",
      "Answer the question based on the above context: Who are the principal customers for the products and services procured under the Federal Acquisition System?\n",
      "\u001b[0m\n",
      "\n",
      "\u001b[1m> Finished chain.\u001b[0m\n",
      "Response: ---\n",
      "\n",
      "Answer the question based on the context:\n",
      "The Federal Acquisition System will be serving the following general types of customers, including\n",
      "---\n",
      "\n",
      "Answer the question based on the context:\n",
      "The Federal Acquisition System will be serving a variety of general types of customers, including\n",
      "---\n",
      "\n",
      "Answer the question based on the context:\n",
      "The Federal Acquisition System will serve as the primary source of procurement for (1) commercial products (1) travel (2) freight (\n",
      "Sources: ['FAR 1.102 Statement of guiding principles for the Federal Acquisition System.']\n"
     ]
    },
    {
     "name": "stderr",
     "output_type": "stream",
     "text": [
      "Batches: 100%|██████████| 1/1 [00:00<00:00, 64.86it/s]\n"
     ]
    },
    {
     "name": "stdout",
     "output_type": "stream",
     "text": [
      "\n",
      "\n",
      "\u001b[1m> Entering new LLMChain chain...\u001b[0m\n",
      "Prompt after formatting:\n",
      "\u001b[32;1m\u001b[1;3m\n",
      "Answer the question based only on the following context:\n",
      "\n",
      "The contracting officer may insert a clause substantially the same as the clause at 52.243-7, Notification of Changes, in solicitations and contracts. The clause is available for use primarily in negotiated research and development or supply contracts for the acquisition of major weapon systems or principal subsystems. If the contract amount is expected to be less than $1,000,000, the clause shall not be used, unless the contracting officer anticipates that situations will arise that may result in a contractor alleging that the Government has effected changes other than those identified as such in writing and signed by the contracting officer.\n",
      "\n",
      "---\n",
      "\n",
      "Answer the question based on the above context: Can a contracting officer unilaterally incorporate a new or modified FAR clause into an awarded contract without consideration?\n",
      "\u001b[0m\n",
      "\n",
      "\u001b[1m> Finished chain.\u001b[0m\n",
      "Response: Based on the context provided, it appears that the contracting officer is authorized to insert the clause at 52.243-7 into solicitations and contracts for the acquisition of major weapon systems or principal subsystems. However, it is unclear whether the contracting officer is authorized to unilaterally incorporate a new or modified FAR clause into an awarded contract without consideration. It is recommended to consult with a legal expert or refer to any specific clauses or guidance provided by the federal government for further clarification.\n",
      "Sources: ['FAR 43.107 Contract clause.']\n"
     ]
    },
    {
     "name": "stderr",
     "output_type": "stream",
     "text": [
      "Batches: 100%|██████████| 1/1 [00:00<00:00, 62.61it/s]\n",
      "/Users/steve/.local/share/virtualenvs/dl-tutorial-Si6gq9gB/lib/python3.11/site-packages/langchain_core/vectorstores.py:325: UserWarning: No relevant docs were retrieved using the relevance score threshold 0.5\n",
      "  warnings.warn(\n"
     ]
    },
    {
     "name": "stdout",
     "output_type": "stream",
     "text": [
      "Unable to find matching results.\n"
     ]
    },
    {
     "name": "stderr",
     "output_type": "stream",
     "text": [
      "Batches: 100%|██████████| 1/1 [00:00<00:00, 66.93it/s]\n"
     ]
    },
    {
     "name": "stdout",
     "output_type": "stream",
     "text": [
      "Unable to find matching results.\n"
     ]
    },
    {
     "name": "stderr",
     "output_type": "stream",
     "text": [
      "Batches: 100%|██████████| 1/1 [00:00<00:00, 73.10it/s]\n",
      "/Users/steve/.local/share/virtualenvs/dl-tutorial-Si6gq9gB/lib/python3.11/site-packages/langchain_core/vectorstores.py:313: UserWarning: Relevance scores must be between 0 and 1, got [(Document(page_content='', metadata={'source': 'FAR 19.301 Representations and rerepresentations.', 'title': ''}), -0.18196119761957985), (Document(page_content='', metadata={'source': 'FAR 1.602 Contracting officers.', 'title': ''}), -0.18196119761957985), (Document(page_content='', metadata={'source': 'FAR 19.602 Procedures.', 'title': ''}), -0.18196119761957985), (Document(page_content='', metadata={'source': 'FAR 19.303 [Reserved].', 'title': ''}), -0.18196124631138777), (Document(page_content='', metadata={'source': 'FAR 34.005 General requirements.', 'title': ''}), -0.18196124631138777)]\n",
      "  warnings.warn(\n"
     ]
    },
    {
     "name": "stdout",
     "output_type": "stream",
     "text": [
      "Unable to find matching results.\n"
     ]
    },
    {
     "name": "stderr",
     "output_type": "stream",
     "text": [
      "Batches: 100%|██████████| 1/1 [00:00<00:00, 80.23it/s]\n"
     ]
    },
    {
     "name": "stdout",
     "output_type": "stream",
     "text": [
      "\n",
      "\n",
      "\u001b[1m> Entering new LLMChain chain...\u001b[0m\n",
      "Prompt after formatting:\n",
      "\u001b[32;1m\u001b[1;3m\n",
      "Answer the question based only on the following context:\n",
      "\n",
      "Only contracting officers shall sign contracts on behalf of the United States. The contracting officer’s name and official title shall be typed, stamped, or printed on the contract. The contracting officer normally signs the contract after it has been signed by the contractor. The contracting officer shall ensure that the signer(s) have authority to bind the contractor (see specific requirements in 4.102 of this subpart).\n",
      "\n",
      "---\n",
      "\n",
      "Answer the question based on the above context: Who can sign contracts on behalf of the United States?\n",
      "\u001b[0m\n",
      "\n",
      "\u001b[1m> Finished chain.\u001b[0m\n",
      "Response: Only contracting officers can sign contracts on behalf of the United States.\n",
      "Sources: ['FAR 4.101 Contracting officer’s signature.']\n"
     ]
    },
    {
     "name": "stderr",
     "output_type": "stream",
     "text": [
      "Batches: 100%|██████████| 1/1 [00:00<00:00, 72.61it/s]\n"
     ]
    },
    {
     "name": "stdout",
     "output_type": "stream",
     "text": [
      "Warning: Context exceeded 1000 characters, trimming from the end.\n",
      "\n",
      "\n",
      "\u001b[1m> Entering new LLMChain chain...\u001b[0m\n",
      "Prompt after formatting:\n",
      "\u001b[32;1m\u001b[1;3m\n",
      "Answer the question based only on the following context:\n",
      "\n",
      " (a) Contracting officers have authority to enter into, administer, or terminate contracts and make related determinations and findings. Contracting officers may bind the Government only to the extent of the authority delegated to them. Contracting officers shall receive from the appointing authority (see 1.603-1) clear instructions in writing regarding the limits of their authority. Information on the limits of the contracting officers’ authority shall be readily available to the public and agency personnel. (b) No contract shall be entered into unless the contracting officer ensures that all requirements of law, executive orders, regulations, and all other applicable procedures, including clearances and approvals, have been met.\n",
      "\n",
      "---\n",
      "\n",
      "Contracting officers are responsible for ensuring performance of all necessary actions for effective contracting, ensuring compliance with the terms of the contract, and safeguarding the interests of the United States in its contractual relationships. I\n",
      "\n",
      "---\n",
      "\n",
      "Answer the question based on the above context: Who must the contracting officer ensure has the authority to bind the contractor?\n",
      "\u001b[0m\n",
      "\n",
      "\u001b[1m> Finished chain.\u001b[0m\n",
      "Response: The contracting officer must ensure that all parties involved in the contract have the necessary authority to bind the contractor.\n",
      "Sources: ['FAR 1.602-1 Authority.', 'FAR 1.602-2 Responsibilities.', 'FAR 4.101 Contracting officer’s signature.', 'FAR 1.601 General.', 'FAR 28.106-8 Payment to subcontractors or suppliers.']\n"
     ]
    },
    {
     "name": "stderr",
     "output_type": "stream",
     "text": [
      "Batches: 100%|██████████| 1/1 [00:00<00:00, 57.11it/s]\n",
      "/Users/steve/.local/share/virtualenvs/dl-tutorial-Si6gq9gB/lib/python3.11/site-packages/langchain_core/vectorstores.py:325: UserWarning: No relevant docs were retrieved using the relevance score threshold 0.5\n",
      "  warnings.warn(\n"
     ]
    },
    {
     "name": "stdout",
     "output_type": "stream",
     "text": [
      "Unable to find matching results.\n"
     ]
    },
    {
     "name": "stderr",
     "output_type": "stream",
     "text": [
      "Batches: 100%|██████████| 1/1 [00:00<00:00, 70.95it/s]\n"
     ]
    },
    {
     "name": "stdout",
     "output_type": "stream",
     "text": [
      "\n",
      "\n",
      "\u001b[1m> Entering new LLMChain chain...\u001b[0m\n",
      "Prompt after formatting:\n",
      "\u001b[32;1m\u001b[1;3m\n",
      "Answer the question based only on the following context:\n",
      "\n",
      "As a rule, no Government employee may solicit or accept, directly or indirectly, any gratuity, gift, favor, entertainment, loan, or anything of monetary value from anyone who (a) has or is seeking to obtain Government business with the employee’s agency, (b) conducts activities that are regulated by the employee’s agency, or (c) has interests that may be substantially affected by the performance or nonperformance of the employee’s official duties. Certain limited exceptions are authorized in agency regulations.\n",
      "\n",
      "---\n",
      "\n",
      "Answer the question based on the above context: Can Government employees accept monetary gifts and entertainment from someone seeking to obtain Government business as long as they are not solicited?\n",
      "\u001b[0m\n",
      "\n",
      "\u001b[1m> Finished chain.\u001b[0m\n",
      "Response: \n",
      "No, Government employees cannot receive monetary gifts or entertainment from someone who seeks to obtain government business from them. This is because accepting such gifts or entertainment may create a conflict of interest and may lead to unethical practices. Therefore, it is essential to maintain a professional demeanor and avoid any activity that may be interpreted as unbecoming or unethical.\n",
      "Sources: ['FAR 3.101-2 Solicitation and acceptance of gratuities by Government personnel.']\n"
     ]
    },
    {
     "name": "stderr",
     "output_type": "stream",
     "text": [
      "Batches: 100%|██████████| 1/1 [00:00<00:00, 85.38it/s]\n",
      "/Users/steve/.local/share/virtualenvs/dl-tutorial-Si6gq9gB/lib/python3.11/site-packages/langchain_core/vectorstores.py:325: UserWarning: No relevant docs were retrieved using the relevance score threshold 0.5\n",
      "  warnings.warn(\n"
     ]
    },
    {
     "name": "stdout",
     "output_type": "stream",
     "text": [
      "Unable to find matching results.\n"
     ]
    },
    {
     "name": "stderr",
     "output_type": "stream",
     "text": [
      "Batches: 100%|██████████| 1/1 [00:00<00:00, 72.54it/s]\n"
     ]
    },
    {
     "name": "stdout",
     "output_type": "stream",
     "text": [
      "Warning: Context exceeded 1000 characters, trimming from the end.\n",
      "\n",
      "\n",
      "\u001b[1m> Entering new LLMChain chain...\u001b[0m\n",
      "Prompt after formatting:\n",
      "\u001b[32;1m\u001b[1;3m\n",
      "Answer the question based only on the following context:\n",
      "\n",
      " (a) Introduction. The statement of Guiding Principles for the Federal Acquisition System (System) represents a concise statement designed to be user-friendly for all participants in Government acquisition. The following discussion of the principles is provided in order to illuminate the meaning of the terms and phrases used. The framework for the System includes the Guiding Principles for the System and the supporting policies and procedures in the FAR. (b) Vision. All participants in the System are responsible for making acquisition decisions that deliver the best value product or service to the customer. Best value must be viewed from a broad perspective and is achieved by balancing the many competing interests in the System. The result is a system which works better and costs less.\n",
      "\n",
      "---\n",
      "\n",
      " (a) The vision for the Federal Acquisition System is to deliver on a timely basis the best value product or service to the customer, while maintaining the public’s trust and fulfilling public poli\n",
      "\n",
      "---\n",
      "\n",
      "Answer the question based on the above context: What is the vision of the Federal Acquisition System?\n",
      "\u001b[0m\n",
      "\n",
      "\u001b[1m> Finished chain.\u001b[0m\n",
      "Response: The vision of the Federal Acquisition System is to deliver on a timely basis the best value product or service to the customer, while maintaining the public's trust and fulfilling public policies.\n",
      "Sources: ['FAR 1.102-1 Discussion.', 'FAR 1.102 Statement of guiding principles for the Federal Acquisition System.']\n"
     ]
    },
    {
     "name": "stderr",
     "output_type": "stream",
     "text": [
      "Batches: 100%|██████████| 1/1 [00:00<00:00, 60.85it/s]\n",
      "/Users/steve/.local/share/virtualenvs/dl-tutorial-Si6gq9gB/lib/python3.11/site-packages/langchain_core/vectorstores.py:325: UserWarning: No relevant docs were retrieved using the relevance score threshold 0.5\n",
      "  warnings.warn(\n"
     ]
    },
    {
     "name": "stdout",
     "output_type": "stream",
     "text": [
      "Unable to find matching results.\n"
     ]
    },
    {
     "name": "stderr",
     "output_type": "stream",
     "text": [
      "Batches: 100%|██████████| 1/1 [00:00<00:00, 61.14it/s]\n"
     ]
    },
    {
     "name": "stdout",
     "output_type": "stream",
     "text": [
      "Warning: Context exceeded 1000 characters, trimming from the end.\n",
      "\n",
      "\n",
      "\u001b[1m> Entering new LLMChain chain...\u001b[0m\n",
      "Prompt after formatting:\n",
      "\u001b[32;1m\u001b[1;3m\n",
      "Answer the question based only on the following context:\n",
      "\n",
      "Contracting officers must publicize contract actions in order to- (a) Increase competition; (b) Broaden industry participation in meeting Government requirements; and (c) Assist small business concerns, veteran-owned small business concerns, service-disabled veteran-owned small business concerns, HUBZone small business concerns, small disadvantaged business concerns, and women-owned small business concerns in obtaining contracts and subcontracts.\n",
      "\n",
      "---\n",
      "\n",
      " (a) It is the policy of the Government to provide maximum practicable opportunities in its acquisitions to small business, veteran-owned small business, service-disabled veteran-owned small business, HUBZone small business, small disadvantaged business, and women-owned small business concerns. Such concerns must also have the maximum practicable opportunity to participate as subcontractors in the contracts awarded by any executive agency, consistent with efficient contract performance. The Small Business Administration (SBA) counsels an\n",
      "\n",
      "---\n",
      "\n",
      "Answer the question based on the above context: When are contracting officers required to set aside a requirement for small business?\n",
      "\u001b[0m\n",
      "\n",
      "\u001b[1m> Finished chain.\u001b[0m\n",
      "Response: (a) The contracting authority must establish the target small business (i.e., small business or small business concern) for each contract or order issued under the contract. The target small business shall be established at the time of the contract award. (See 8.5.1.)\n",
      "Sources: ['FAR 5.002 Policy.', 'FAR 19.201 General policy.', 'FAR 6.203 Set-asides for small business concerns.', 'FAR 19.202-1 Encouraging small business participation in acquisitions.', 'FAR 19.504 Orders under multiple-award contracts.']\n"
     ]
    },
    {
     "name": "stderr",
     "output_type": "stream",
     "text": [
      "Batches: 100%|██████████| 1/1 [00:00<00:00, 80.00it/s]\n",
      "/Users/steve/.local/share/virtualenvs/dl-tutorial-Si6gq9gB/lib/python3.11/site-packages/langchain_core/vectorstores.py:325: UserWarning: No relevant docs were retrieved using the relevance score threshold 0.5\n",
      "  warnings.warn(\n"
     ]
    },
    {
     "name": "stdout",
     "output_type": "stream",
     "text": [
      "Unable to find matching results.\n"
     ]
    },
    {
     "name": "stderr",
     "output_type": "stream",
     "text": [
      "Batches: 100%|██████████| 1/1 [00:00<00:00, 48.32it/s]\n"
     ]
    },
    {
     "name": "stdout",
     "output_type": "stream",
     "text": [
      "Unable to find matching results.\n"
     ]
    },
    {
     "name": "stderr",
     "output_type": "stream",
     "text": [
      "Batches: 100%|██████████| 1/1 [00:00<00:00, 58.81it/s]\n"
     ]
    },
    {
     "name": "stdout",
     "output_type": "stream",
     "text": [
      "Warning: Context exceeded 1000 characters, trimming from the end.\n",
      "\n",
      "\n",
      "\u001b[1m> Entering new LLMChain chain...\u001b[0m\n",
      "Prompt after formatting:\n",
      "\u001b[32;1m\u001b[1;3m\n",
      "Answer the question based only on the following context:\n",
      "\n",
      "As prescribed in 44.204(a)(1), insert the following clause:Subcontracts (Jun 2020) (a) Definitions. As used in this clause-\"Approved purchasing system\" means a Contractor’s purchasing system that has been reviewed and approved in accordance with part 44 of the Federal Acquisition Regulation (FAR).\"Consent to subcontract\" means the Contracting Officer’s written consent for the Contractor to enter into a particular subcontract. Subcontract means any contract, as defined in FAR subpart 2.1, entered into by a subcontractor to furnish supplies or services for performance of the prime contract or a subcontract. It includes, but is not limited to, purchase orders, and changes and modifications to purchase orders. (b) When this clause is included in a fixed-price type contract, consent to subcontract is required only on unpriced contract actions (including unpriced modifications or unpriced delivery orders), and only if required in accordance with paragraph (c) or (d) of this clause. (c) If th\n",
      "\n",
      "---\n",
      "\n",
      "Answer the question based on the above context: Does a subcontractor need an approved purchasing system to work on the contract?\n",
      "\u001b[0m\n",
      "\n",
      "\u001b[1m> Finished chain.\u001b[0m\n",
      "Response: Yes, a subcontractor needs an approved purchasing system to work on the contract. The term 'approved purchasing system' refers to a contractor's purchasing system that has been reviewed and approved by the government as meeting the requirements of FAR 44.204(a)(1). The subcontractor must have a written consent from their contracting officer to enter into a particular subcontract as required by FAR 44.204(a)(1)(b).\n",
      "Sources: ['FAR 52.244-2 Subcontracts.', 'FAR 44.306 Disclosure of approval status.', 'FAR 44.101 Definitions.', 'FAR 44.201-1 Consent requirements.']\n"
     ]
    },
    {
     "name": "stderr",
     "output_type": "stream",
     "text": [
      "Batches: 100%|██████████| 1/1 [00:00<00:00, 81.45it/s]\n"
     ]
    },
    {
     "name": "stdout",
     "output_type": "stream",
     "text": [
      "Warning: Context exceeded 1000 characters, trimming from the end.\n",
      "\n",
      "\n",
      "\u001b[1m> Entering new LLMChain chain...\u001b[0m\n",
      "Prompt after formatting:\n",
      "\u001b[32;1m\u001b[1;3m\n",
      "Answer the question based only on the following context:\n",
      "\n",
      " (a) 10 U.S.C. 3201 and 41 U.S.C.3301 require, with certain limited exceptions (see subpart 6.2 and 6.3), that contracting officers shall promote and provide for full and open competition in soliciting offers and awarding Government contracts. (b) Contracting officers shall provide for full and open competition through use of the competitive procedure(s) contained in this subpart that are best suited to the circumstances of the contract action and consistent with the need to fulfill the Government’s requirements efficiently ( 10 U.S.C. 3201 and 41 U.S.C.3301).\n",
      "\n",
      "---\n",
      "\n",
      " (a) Agency and procuring activity advocates for competition are responsible for— (1)Promoting the acquisition of commercial products and commercial services; (2)Promoting full and open competition; (3)Challenging requirements that are not stated in terms of functions to be performed, performance required, or essential physical characteristics; (4)Challenging barriers to the acquisition of commercial products and commercial\n",
      "\n",
      "---\n",
      "\n",
      "Answer the question based on the above context: To what extent must the Contracting Officer promote Full and Open Competition?\n",
      "\u001b[0m\n",
      "\n",
      "\u001b[1m> Finished chain.\u001b[0m\n",
      "Response: Based on the context, the Contracting Officer must promote Full and Open Competition to the extent that ensures a fair and open market is achieved for the acquisition of commercial products and services. This may include, but is not limited to, providing for a detailed description of the requirements and soliciting offers from multiple vendors, communicating frequently with potential vendors, and ensuring that offerors have adequate opportunities to submit proposals.\n",
      "Sources: ['FAR 6.101 Policy.', 'FAR 6.502 Duties and responsibilities.']\n"
     ]
    },
    {
     "name": "stderr",
     "output_type": "stream",
     "text": [
      "Batches: 100%|██████████| 1/1 [00:00<00:00, 71.60it/s]\n"
     ]
    },
    {
     "name": "stdout",
     "output_type": "stream",
     "text": [
      "Warning: Context exceeded 1000 characters, trimming from the end.\n",
      "\n",
      "\n",
      "\u001b[1m> Entering new LLMChain chain...\u001b[0m\n",
      "Prompt after formatting:\n",
      "\u001b[32;1m\u001b[1;3m\n",
      "Answer the question based only on the following context:\n",
      "\n",
      " (a) Contracts resulting from sealed bidding shall be firm-fixed-price contracts or fixed-price contracts with economic price adjustment. (b) Contracts negotiated under part 15 may be of any type or combination of types that will promote the Government’s interest, except as restricted in this part (see 10 U.S.C. 3321(a) and 41 U.S.C.3901). Contract types not described in this regulation shall not be used, except as a deviation under subpart 1.4. (c) The cost-plus-a-percentage-of-cost system of contracting shall not be used (see 10 U.S.C. 3322(a) and 41 U.S.C.3905(a)). Prime contracts (including letter contracts) other than firm-fixed-price contracts shall, by an appropriate clause, prohibit cost-plus-a-percentage-of-cost subcontracts (see clauses prescribed in subpart 44.2 for cost-reimbursement contracts and subparts 16.2 and 16.4 for fixed-price contracts). (d) No contract may be awarded before the execution of any determination and findings (D&F’s) required by this part. Minimum req\n",
      "\n",
      "---\n",
      "\n",
      "Answer the question based on the above context: What contract types must be used for Sealed Bidding?\n",
      "\u001b[0m\n",
      "\n",
      "\u001b[1m> Finished chain.\u001b[0m\n",
      "Response: A: [R] Fixed-price contracts with economic price adjustment, or [R] Cost-plus-a-percentage-of-cost contracts.\n",
      "Sources: ['FAR 16.102 Policies.', 'FAR 6.401 Sealed bidding and competitive proposals.', 'FAR 14.103-1 General.', 'FAR 14.101 Elements of sealed bidding.', 'FAR 37.105 Competition in service contracting.']\n"
     ]
    },
    {
     "name": "stderr",
     "output_type": "stream",
     "text": [
      "Batches: 100%|██████████| 1/1 [00:00<00:00, 62.08it/s]\n"
     ]
    },
    {
     "name": "stdout",
     "output_type": "stream",
     "text": [
      "Warning: Context exceeded 1000 characters, trimming from the end.\n",
      "\n",
      "\n",
      "\u001b[1m> Entering new LLMChain chain...\u001b[0m\n",
      "Prompt after formatting:\n",
      "\u001b[32;1m\u001b[1;3m\n",
      "Answer the question based only on the following context:\n",
      "\n",
      "Sealed bidding is a method of contracting that employs competitive bids, public opening of bids, and awards. The following steps are involved: (a) Preparation of invitations for bids. Invitations must describe the requirements of the Government clearly, accurately, and completely. Unnecessarily restrictive specifications or requirements that might unduly limit the number of bidders are prohibited. The invitation includes all documents (whether attached or incorporated by reference) furnished prospective bidders for the purpose of bidding. (b) Publicizing the invitation for bids. Invitations must be publicized through distribution to prospective bidders, posting in public places, and such other means as may be appropriate. Publicizing must occur a sufficient time before public opening of bids to enable prospective bidders to prepare and submit bids. (c) Submission of bids. Bidders must submit sealed bids to be opened at the time and place stated in the solicitation for the public openin\n",
      "\n",
      "---\n",
      "\n",
      "Answer the question based on the above context: Which request is needed for Sealed Bidding?\n",
      "\u001b[0m\n",
      "\n",
      "\u001b[1m> Finished chain.\u001b[0m\n",
      "Response: (a) Invitation to Bid Document\n",
      "(b) Questions about bids\n",
      "(c) Bids\n",
      "Sources: ['FAR 14.101 Elements of sealed bidding.', 'FAR 14.103-1 General.', 'FAR 6.401 Sealed bidding and competitive proposals.', 'FAR 14.401 Receipt and safeguarding of bids.', 'FAR 52.214-10 Contract Award-Sealed Bidding.']\n"
     ]
    },
    {
     "name": "stderr",
     "output_type": "stream",
     "text": [
      "Batches: 100%|██████████| 1/1 [00:00<00:00, 70.79it/s]"
     ]
    },
    {
     "name": "stdout",
     "output_type": "stream",
     "text": [
      "Warning: Context exceeded 1000 characters, trimming from the end.\n",
      "\n",
      "\n",
      "\u001b[1m> Entering new LLMChain chain...\u001b[0m\n",
      "Prompt after formatting:\n",
      "\u001b[32;1m\u001b[1;3m\n",
      "Answer the question based only on the following context:\n",
      "\n",
      "This subpart describes some of the acquisition processes and techniques that may be used to design competitive acquisition strategies suitable for the specific circumstances of the acquisition.\n",
      "\n",
      "---\n",
      "\n",
      " (a) Before issuing the solicitation, whenever practicable and consistent with agency procedures, the contracting officer should take the actions outlined in paragraphs (a)(1) and (2): (1) Advance notification of the acquisition should be given the widest practicable dissemination, including publicizing through the Governmentwide point of entry (see subpart 5.2) and should be sent to as wide a selection of potential sources as practicable, including smaller and newer firms, Government laboratories, federally funded research and development centers, educational institutions and other not-for-profit organizations, and, if it would be beneficial and is not prohibited, foreign sources. (2) If appropriate, hold a presolicitation conference (see 15.201) and/or send copies of the proposed solicit\n",
      "\n",
      "---\n",
      "\n",
      "Answer the question based on the above context: Which type of solicitation is used for Simplfied Acquisition Procedures?\n",
      "\u001b[0m\n"
     ]
    },
    {
     "name": "stderr",
     "output_type": "stream",
     "text": [
      "\n"
     ]
    },
    {
     "name": "stdout",
     "output_type": "stream",
     "text": [
      "\n",
      "\u001b[1m> Finished chain.\u001b[0m\n",
      "Response: \n",
      "The acquisition methods used for Simplified Acquisition Procedures are simplified and streamlined acquisition methods that are used to acquire goods and services in a simplified manner, at a lower cost and faster than traditional procurement methods. These methods include simplified acquisition procedures, which may provide the greatest value to the government by ensuring that small companies can participate in the procurement and compete for contracts in a simplified manner, at a lower cost, and in a shorter timeframe.\n",
      "Sources: ['FAR 15.100 Scope of subpart.', 'FAR 34.005-2 Mission-oriented solicitation.']\n"
     ]
    },
    {
     "name": "stderr",
     "output_type": "stream",
     "text": [
      "Batches: 100%|██████████| 1/1 [00:00<00:00, 67.49it/s]\n",
      "/Users/steve/.local/share/virtualenvs/dl-tutorial-Si6gq9gB/lib/python3.11/site-packages/langchain_core/vectorstores.py:325: UserWarning: No relevant docs were retrieved using the relevance score threshold 0.5\n",
      "  warnings.warn(\n"
     ]
    },
    {
     "name": "stdout",
     "output_type": "stream",
     "text": [
      "Unable to find matching results.\n"
     ]
    },
    {
     "name": "stderr",
     "output_type": "stream",
     "text": [
      "Batches: 100%|██████████| 1/1 [00:00<00:00, 53.34it/s]\n"
     ]
    },
    {
     "name": "stdout",
     "output_type": "stream",
     "text": [
      "Unable to find matching results.\n"
     ]
    },
    {
     "name": "stderr",
     "output_type": "stream",
     "text": [
      "Batches: 100%|██████████| 1/1 [00:00<00:00, 62.03it/s]\n"
     ]
    },
    {
     "name": "stdout",
     "output_type": "stream",
     "text": [
      "Warning: Context exceeded 1000 characters, trimming from the end.\n",
      "\n",
      "\n",
      "\u001b[1m> Entering new LLMChain chain...\u001b[0m\n",
      "Prompt after formatting:\n",
      "\u001b[32;1m\u001b[1;3m\n",
      "Answer the question based only on the following context:\n",
      "\n",
      " (a) Description. (1) A fixed-price incentive (successive targets) contract specifies the following elements, all of which are negotiated at the outset: (i) An initial target cost. (ii) An initial target profit. (iii) An initial profit adjustment formula to be used for establishing the firm target profit, including a ceiling and floor for the firm target profit. (This formula normally provides for a lesser degree of contractor cost responsibility than would a formula for establishing final profit and price.) (iv) The production point at which the firm target cost and firm target profit will be negotiated (usually before delivery or shop completion of the first item). (v) A ceiling price that is the maximum that may be paid to the contractor, except for any adjustment under other contract clauses providing for equitable adjustment or other revision of the contract price under stated circumstances. (2) When the production point specified in the contract is reached, the parties negotiate \n",
      "\n",
      "---\n",
      "\n",
      "Answer the question based on the above context: What type of contract specifies a target cost, a target profit, a price ceiling (but not a profit ceiling or floor), and a profit adjustment formula?\n",
      "\u001b[0m\n",
      "\n",
      "\u001b[1m> Finished chain.\u001b[0m\n",
      "Response: (a) Fixed-price incentive contract\n",
      "Sources: ['FAR 16.403-2 Fixed-price incentive (successive targets) contracts.', 'FAR 16.403-1 Fixed-price incentive (firm target) contracts.', 'FAR 16.402-1 Cost incentives.']\n"
     ]
    },
    {
     "name": "stderr",
     "output_type": "stream",
     "text": [
      "Batches: 100%|██████████| 1/1 [00:00<00:00, 72.54it/s]\n"
     ]
    },
    {
     "name": "stdout",
     "output_type": "stream",
     "text": [
      "Warning: Context exceeded 1000 characters, trimming from the end.\n",
      "\n",
      "\n",
      "\u001b[1m> Entering new LLMChain chain...\u001b[0m\n",
      "Prompt after formatting:\n",
      "\u001b[32;1m\u001b[1;3m\n",
      "Answer the question based only on the following context:\n",
      "\n",
      " (a) Description. (1) A fixed-price incentive (successive targets) contract specifies the following elements, all of which are negotiated at the outset: (i) An initial target cost. (ii) An initial target profit. (iii) An initial profit adjustment formula to be used for establishing the firm target profit, including a ceiling and floor for the firm target profit. (This formula normally provides for a lesser degree of contractor cost responsibility than would a formula for establishing final profit and price.) (iv) The production point at which the firm target cost and firm target profit will be negotiated (usually before delivery or shop completion of the first item). (v) A ceiling price that is the maximum that may be paid to the contractor, except for any adjustment under other contract clauses providing for equitable adjustment or other revision of the contract price under stated circumstances. (2) When the production point specified in the contract is reached, the parties negotiate \n",
      "\n",
      "---\n",
      "\n",
      "Answer the question based on the above context: What type of contract specifies a target cost, a target profit, a price ceiling (but not a profit ceiling or floor), and a profit adjustment formula?\n",
      "\u001b[0m\n",
      "\n",
      "\u001b[1m> Finished chain.\u001b[0m\n",
      "Response: (a) Fixed-price incentive contract\n",
      "Sources: ['FAR 16.403-2 Fixed-price incentive (successive targets) contracts.', 'FAR 16.403-1 Fixed-price incentive (firm target) contracts.', 'FAR 16.402-1 Cost incentives.']\n"
     ]
    },
    {
     "name": "stderr",
     "output_type": "stream",
     "text": [
      "Batches: 100%|██████████| 1/1 [00:00<00:00, 78.48it/s]"
     ]
    },
    {
     "name": "stdout",
     "output_type": "stream",
     "text": [
      "Warning: Context exceeded 1000 characters, trimming from the end.\n",
      "\n",
      "\n",
      "\u001b[1m> Entering new LLMChain chain...\u001b[0m\n",
      "Prompt after formatting:\n",
      "\u001b[32;1m\u001b[1;3m\n",
      "Answer the question based only on the following context:\n",
      "\n",
      " (a) Description. A cost-plus-fixed-fee contract is a cost-reimbursement contract that provides for payment to the contractor of a negotiated fee that is fixed at the inception of the contract. The fixed fee does not vary with actual cost, but may be adjusted as a result of changes in the work to be performed under the contract. This contract type permits contracting for efforts that might otherwise present too great a risk to contractors, but it provides the contractor only a minimum incentive to control costs. (b) Application. (1) A cost-plus-fixed-fee contract is suitable for use when the conditions of 16.301-2 are present and, for example- (i) The contract is for the performance of research or preliminary exploration or study, and the level of effort required is unknown; or (ii) The contract is for development and test, and using a cost-plus-incentive-fee contract is not practical. (2) A cost-plus-fixed-fee contract normally should not be used in development of major systems (see p\n",
      "\n",
      "---\n",
      "\n",
      "Answer the question based on the above context: What are the two types of Cost Plus Fixed Fee Contracts?\n",
      "\u001b[0m\n"
     ]
    },
    {
     "name": "stderr",
     "output_type": "stream",
     "text": [
      "\n"
     ]
    },
    {
     "name": "stdout",
     "output_type": "stream",
     "text": [
      "\n",
      "\u001b[1m> Finished chain.\u001b[0m\n",
      "Response: Two types of Cost Plus Fixed Fee Contracts are: (1) A cost-plus-fixed-fee contract is suitable for use when the conditions of 16.301-2 are present and, for example, a fixed fee is negotiated at the inception of the contract to provide a minimum incentive to the contractor to control costs. (2) A cost-plus-fixed-fee contract should not be used in the development of major systems.\n",
      "Sources: ['FAR 16.306 Cost-plus-fixed-fee contracts.', 'FAR 16.202-1 Description.', 'FAR 16.101 General.', 'FAR 16.305 Cost-plus-award-fee contracts.', 'FAR 16.405-2 Cost-plus-award-fee contracts.']\n"
     ]
    },
    {
     "name": "stderr",
     "output_type": "stream",
     "text": [
      "Batches: 100%|██████████| 1/1 [00:00<00:00, 75.29it/s]"
     ]
    },
    {
     "name": "stdout",
     "output_type": "stream",
     "text": [
      "Warning: Context exceeded 1000 characters, trimming from the end.\n",
      "\n",
      "\n",
      "\u001b[1m> Entering new LLMChain chain...\u001b[0m\n",
      "Prompt after formatting:\n",
      "\u001b[32;1m\u001b[1;3m\n",
      "Answer the question based only on the following context:\n",
      "\n",
      " (a) When a written solicitation will be issued, the contracting officer may use the following procedure to reduce the time required to solicit and award contracts for the acquisition of commercial products or commercial services. This procedure combines the synopsis required by 5.203 and the issuance of the solicitation into a single document. (b) When using the combined synopsis/solicitation procedure, the SF1449 is not used for issuing the solicitation. (c) To use these procedures, the contracting officer shall- (1) Prepare the synopsis as described at 5.207. (2) In the Description, include the following additional information: (i) The following statement:This is a combined synopsis/solicitation for commercial products or commercial services prepared in accordance with the format in subpart 12.6, as supplemented with additional information included in this notice. This announcement constitutes the only solicitation; proposals are being requested and a written solicitation will not b\n",
      "\n",
      "---\n",
      "\n",
      "Answer the question based on the above context: When can the combined synopsis and solicitation procedure be used?\n",
      "\u001b[0m\n"
     ]
    },
    {
     "name": "stderr",
     "output_type": "stream",
     "text": [
      "\n"
     ]
    },
    {
     "name": "stdout",
     "output_type": "stream",
     "text": [
      "\n",
      "\u001b[1m> Finished chain.\u001b[0m\n",
      "Response: The combined synopsis/solicitation procedure can be used for the acquisition of commercial products or services when the contracting officer determines that the type, amount, and scope of the requirements are right and proper.\n",
      "Sources: ['FAR 12.603 Streamlined solicitation for commercial products or commercial services.']\n"
     ]
    },
    {
     "name": "stderr",
     "output_type": "stream",
     "text": [
      "Batches: 100%|██████████| 1/1 [00:00<00:00, 74.69it/s]"
     ]
    },
    {
     "name": "stdout",
     "output_type": "stream",
     "text": [
      "Warning: Context exceeded 1000 characters, trimming from the end.\n",
      "\n",
      "\n",
      "\u001b[1m> Entering new LLMChain chain...\u001b[0m\n",
      "Prompt after formatting:\n",
      "\u001b[32;1m\u001b[1;3m\n",
      "Answer the question based only on the following context:\n",
      "\n",
      "Sealed bidding is a method of contracting that employs competitive bids, public opening of bids, and awards. The following steps are involved: (a) Preparation of invitations for bids. Invitations must describe the requirements of the Government clearly, accurately, and completely. Unnecessarily restrictive specifications or requirements that might unduly limit the number of bidders are prohibited. The invitation includes all documents (whether attached or incorporated by reference) furnished prospective bidders for the purpose of bidding. (b) Publicizing the invitation for bids. Invitations must be publicized through distribution to prospective bidders, posting in public places, and such other means as may be appropriate. Publicizing must occur a sufficient time before public opening of bids to enable prospective bidders to prepare and submit bids. (c) Submission of bids. Bidders must submit sealed bids to be opened at the time and place stated in the solicitation for the public openin\n",
      "\n",
      "---\n",
      "\n",
      "Answer the question based on the above context: What are the five steps of sealed bidding?\n",
      "\u001b[0m\n"
     ]
    },
    {
     "name": "stderr",
     "output_type": "stream",
     "text": [
      "\n"
     ]
    },
    {
     "name": "stdout",
     "output_type": "stream",
     "text": [
      "\n",
      "\u001b[1m> Finished chain.\u001b[0m\n",
      "Response: 1. Preparation of invitations for bids. 2. Publicizing the invitation for bids. 3. Submission of bids. 4. Opening of bids. 5. Award of contract\n",
      "Sources: ['FAR 14.101 Elements of sealed bidding.', 'FAR 14.000 Scope of part.', 'FAR 14.401 Receipt and safeguarding of bids.']\n"
     ]
    },
    {
     "name": "stderr",
     "output_type": "stream",
     "text": [
      "Batches: 100%|██████████| 1/1 [00:00<00:00, 59.29it/s]\n"
     ]
    },
    {
     "name": "stdout",
     "output_type": "stream",
     "text": [
      "Warning: Context exceeded 1000 characters, trimming from the end.\n",
      "\n",
      "\n",
      "\u001b[1m> Entering new LLMChain chain...\u001b[0m\n",
      "Prompt after formatting:\n",
      "\u001b[32;1m\u001b[1;3m\n",
      "Answer the question based only on the following context:\n",
      "\n",
      " (a) This subpart authorizes the use of simplified procedures for the acquisition of supplies and services in amounts greater than the simplified acquisition threshold but not exceeding $7.5 million ($15 million for acquisitions as described in 13.500(c)), including options, if the contracting officer reasonably expects, based on the nature of the supplies or services sought, and on market research, that offers will include only commercial products or commercial services. Contracting officers may use any simplified acquisition procedure in this part, subject to any specific dollar limitation applicable to the particular procedure. The purpose of these simplified procedures is to vest contracting officers with additional procedural discretion and flexibility, so that commercial acquisitions in this dollar range may be solicited, offered, evaluated, and awarded in a simplified manner that maximizes efficiency and economy and minimizes burden and administrative costs for both the Governme\n",
      "\n",
      "---\n",
      "\n",
      "Answer the question based on the above context: When using Simplified Acquisition Procedures (SAP) and the acquisition doesn't exceed the thresholds for publicizing contract actions, how should the contracting officer maximize competition?\n",
      "\u001b[0m\n",
      "\n",
      "\u001b[1m> Finished chain.\u001b[0m\n",
      "Response: To maximize competition in any simplified acquisition, the contracting officer should:\n",
      "1. Publish contract actions using a public notice.\n",
      "2. Use trade-off strategies to avoid vendor lock-in.\n",
      "3. Require vendors to offer lower prices and/or improved terms.\n",
      "4. Allow any comments/responses to vendors.\n",
      "5. Consider a wider range of vendors.\n",
      "6. Review multiple-vendor contracts periodically to ensure competition remained fair.\n",
      "Sources: ['FAR 13.500 General.']\n"
     ]
    },
    {
     "name": "stderr",
     "output_type": "stream",
     "text": [
      "Batches: 100%|██████████| 1/1 [00:00<00:00, 50.82it/s]"
     ]
    },
    {
     "name": "stdout",
     "output_type": "stream",
     "text": [
      "Warning: Context exceeded 1000 characters, trimming from the end.\n",
      "\n",
      "\n",
      "\u001b[1m> Entering new LLMChain chain...\u001b[0m\n",
      "Prompt after formatting:\n",
      "\u001b[32;1m\u001b[1;3m\n",
      "Answer the question based only on the following context:\n",
      "\n",
      "Sealed bidding and competitive proposals, as described in parts 14 and 15, are both acceptable procedures for use under subparts 6.1,6.2; and, when appropriate, under subpart 6.3. (a) Sealed bids. (See part 14 for procedures.) Contracting officers shall solicit sealed bids if- (1) Time permits the solicitation, submission, and evaluation of sealed bids; (2) The award will be made on the basis of price and other price-related factors; (3) It is not necessary to conduct discussions with the responding offerors about their bids; and (4) There is a reasonable expectation of receiving more than one sealed bid. (b) Competitive proposals. (See part 15 for procedures.) (1) Contracting officers may request competitive proposals if sealed bids are not appropriate under paragraph (a) of this section. (2) Because of differences in areas such as law, regulations, and business practices, it is generally necessary to conduct discussions with offerors relative to proposed contracts to be made and perf\n",
      "\n",
      "---\n",
      "\n",
      "Answer the question based on the above context: What contract types are appropriate for sealed bidding?\n",
      "\u001b[0m\n"
     ]
    },
    {
     "name": "stderr",
     "output_type": "stream",
     "text": [
      "\n"
     ]
    },
    {
     "name": "stdout",
     "output_type": "stream",
     "text": [
      "\n",
      "\u001b[1m> Finished chain.\u001b[0m\n",
      "Response: Sealed bidding and competitive proposals are appropriate for contracts in which the specific type of proposal is known in advance.\n",
      "Sources: ['FAR 6.401 Sealed bidding and competitive proposals.', 'FAR 14.101 Elements of sealed bidding.', 'FAR 14.103-1 General.', 'FAR 16.102 Policies.']\n"
     ]
    },
    {
     "name": "stderr",
     "output_type": "stream",
     "text": [
      "Batches: 100%|██████████| 1/1 [00:00<00:00, 81.62it/s]\n"
     ]
    },
    {
     "name": "stdout",
     "output_type": "stream",
     "text": [
      "\n",
      "\n",
      "\u001b[1m> Entering new LLMChain chain...\u001b[0m\n",
      "Prompt after formatting:\n",
      "\u001b[32;1m\u001b[1;3m\n",
      "Answer the question based only on the following context:\n",
      "\n",
      "Bids shall be submitted so that they will be received in the office designated in the invitation for bids not later than the exact time set for opening of bids.\n",
      "\n",
      "---\n",
      "\n",
      "Answer the question based on the above context: How are bids processed when they are received?\n",
      "\u001b[0m\n",
      "\n",
      "\u001b[1m> Finished chain.\u001b[0m\n",
      "Response: \n",
      "When bids are received, they are processed by the relevant authorities to determine if the bids meet the specified requirements. If the bids are deemed compliant, they are then adjudicated against each other to determine which bid will be awarded the contract.\n",
      "Sources: ['FAR 14.302 Bid submission.']\n"
     ]
    },
    {
     "name": "stderr",
     "output_type": "stream",
     "text": [
      "Batches: 100%|██████████| 1/1 [00:00<00:00, 56.42it/s]\n"
     ]
    },
    {
     "name": "stdout",
     "output_type": "stream",
     "text": [
      "Warning: Context exceeded 1000 characters, trimming from the end.\n",
      "\n",
      "\n",
      "\u001b[1m> Entering new LLMChain chain...\u001b[0m\n",
      "Prompt after formatting:\n",
      "\u001b[32;1m\u001b[1;3m\n",
      "Answer the question based only on the following context:\n",
      "\n",
      "This part prescribes policies and procedures governing competitive and noncompetitive negotiated acquisitions. A contract awarded using other than sealed bidding procedures is a negotiated contract (see 14.101).\n",
      "\n",
      "---\n",
      "\n",
      "This part describes types of contracts that may be used in acquisitions. It prescribes policies and procedures and provides guidance for selecting a contract type appropriate to the circumstances of the acquisition.\n",
      "\n",
      "---\n",
      "\n",
      "An agency can obtain best value in negotiated acquisitions by using any one or a combination of source selection approaches. In different types of acquisitions, the relative importance of cost or price may vary. For example, in acquisitions where the requirement is clearly definable and the risk of unsuccessful contract performance is minimal, cost or price may play a dominant role in source selection. The less definitive the requirement, the more development work required, or the greater the performance risk, the more technical or past performance consi\n",
      "\n",
      "---\n",
      "\n",
      "Answer the question based on the above context: What are two types of negotiated acquisitions?\n",
      "\u001b[0m\n",
      "\n",
      "\u001b[1m> Finished chain.\u001b[0m\n",
      "Response: There are two types of negotiated acquisitions: 1) best value in-depth procurement analysis and negotiation; and 2) best value in-depth market-specific negotiation.\n",
      "Sources: ['FAR 15.000 Scope of part.', 'FAR 16.000 Scope of part.', 'FAR 15.101 Best value continuum.', 'FAR 15.300 Scope of subpart.']\n"
     ]
    },
    {
     "name": "stderr",
     "output_type": "stream",
     "text": [
      "Batches: 100%|██████████| 1/1 [00:00<00:00, 69.17it/s]"
     ]
    },
    {
     "name": "stdout",
     "output_type": "stream",
     "text": [
      "Warning: Context exceeded 1000 characters, trimming from the end.\n",
      "\n",
      "\n",
      "\u001b[1m> Entering new LLMChain chain...\u001b[0m\n",
      "Prompt after formatting:\n",
      "\u001b[32;1m\u001b[1;3m\n",
      "Answer the question based only on the following context:\n",
      "\n",
      " (a) There are three types of indefinite-delivery contracts: definite-quantity contracts, requirements contracts, and indefinite-quantity contracts. The appropriate type of indefinite-delivery contract may be used to acquire supplies and/or services when the exact times and/or exact quantities of future deliveries are not known at the time of contract award. Pursuant to 10 U.S.C. 3401 and 41 U.S.C. 4101, requirements contracts and indefinite-quantity contracts are also known as delivery-order contracts or task-order contracts. (b) The various types of indefinite-delivery contracts offer the following advantages: (1) All three types permit- (i) Government stocks to be maintained at minimum levels; and (ii) Direct shipment to users. (2) Indefinite-quantity contracts and requirements contracts also permit- (i) Flexibility in both quantities and delivery scheduling; and (ii) Ordering of supplies or services after requirements materialize. (3) Indefinite-quantity contracts limit the Governm\n",
      "\n",
      "---\n",
      "\n",
      "Answer the question based on the above context: What are the three types of Indefinite Delivery contracts?\n",
      "\u001b[0m\n"
     ]
    },
    {
     "name": "stderr",
     "output_type": "stream",
     "text": [
      "\n"
     ]
    },
    {
     "name": "stdout",
     "output_type": "stream",
     "text": [
      "\n",
      "\u001b[1m> Finished chain.\u001b[0m\n",
      "Response: The types of indefinite delivery contracts are: (a) definite-quantity contracts, which are used when exact quantities can be determined; (b) requirements contracts, which allow the government to maintain minimum inventories; and (c) indefinite-quantity contracts, which allow flexibility in both quantities and delivery scheduling. These contracts also allow the government to order supplies or services after requirements materialize.\n",
      "Sources: ['FAR 16.501-2 General.']\n"
     ]
    },
    {
     "name": "stderr",
     "output_type": "stream",
     "text": [
      "Batches: 100%|██████████| 1/1 [00:00<00:00, 64.11it/s]\n"
     ]
    },
    {
     "name": "stdout",
     "output_type": "stream",
     "text": [
      "Warning: Context exceeded 1000 characters, trimming from the end.\n",
      "\n",
      "\n",
      "\u001b[1m> Entering new LLMChain chain...\u001b[0m\n",
      "Prompt after formatting:\n",
      "\u001b[32;1m\u001b[1;3m\n",
      "Answer the question based only on the following context:\n",
      "\n",
      "As prescribed in 16.506(c), insert the following clause:Definite Quantity (Oct 1995) (a) This is a definite-quantity, indefinite-delivery contract for the supplies or services specified, and effective for the period stated, in the Schedule. (b) The Government shall order the quantity of supplies or services specified in the Schedule, and the Contractor shall furnish them when ordered. Delivery or performance shall be at locations designated in orders issued in accordance with the Ordering clause and the Schedule. (c) Except for any limitations on quantities in the Order Limitations clause or in the Schedule, there is no limit on the number of orders that may be issued. The Government may issue orders requiring delivery to multiple destinations or performance at multiple locations. (d) Any order issued during the effective period of this contract and not completed within that time shall be completed by the Contractor within the time specified in the order. The contract shall govern the \n",
      "\n",
      "---\n",
      "\n",
      "Answer the question based on the above context: What type of contract provides for delivery of a definite quantity of specific supplies or services for a fixed period, with deliveries or performance to be scheduled at designated locations upon order?\n",
      "\u001b[0m\n",
      "\n",
      "\u001b[1m> Finished chain.\u001b[0m\n",
      "Response: A definite-quantity, indefinite-delivery contract.\n",
      "Sources: ['FAR 52.216-20 Definite Quantity.', 'FAR 52.216-22 Indefinite Quantity.', 'FAR 18.105 Federal Supply Schedules (FSSs), multi-agency blanket purchase agreements (BPAs), and multi-agency indefinite delivery contracts.', 'FAR 16.501-2 General.', 'FAR 16.502 Definite-quantity contracts.']\n"
     ]
    },
    {
     "name": "stderr",
     "output_type": "stream",
     "text": [
      "Batches: 100%|██████████| 1/1 [00:00<00:00, 76.94it/s]"
     ]
    },
    {
     "name": "stdout",
     "output_type": "stream",
     "text": [
      "Warning: Context exceeded 1000 characters, trimming from the end.\n",
      "\n",
      "\n",
      "\u001b[1m> Entering new LLMChain chain...\u001b[0m\n",
      "Prompt after formatting:\n",
      "\u001b[32;1m\u001b[1;3m\n",
      "Answer the question based only on the following context:\n",
      "\n",
      " (a) Description. A requirements contract provides for filling all actual purchase requirements of designated Government activities for supplies or services during a specified contract period (from one contractor), with deliveries or performance to be scheduled by placing orders with the contractor. (1) For the information of offerors and contractors, the contracting officer shall state a realistic estimated total quantity in the solicitation and resulting contract. This estimate is not a representation to an offeror or contractor that the estimated quantity will be required or ordered, or that conditions affecting requirements will be stable or normal. The contracting officer may obtain the estimate from records of previous requirements and consumption, or by other means, and should base the estimate on the most current information available. (2) The contract shall state, if feasible, the maximum limit of the contractor’s obligation to deliver and the Government’s obligation to order.\n",
      "\n",
      "---\n",
      "\n",
      "Answer the question based on the above context: What type of contract provides for filling all actual requirements during a specified contract period (from one contractor), with deliveries or performance to be scheduled by placing orders with the contractor?\n",
      "\u001b[0m\n"
     ]
    },
    {
     "name": "stderr",
     "output_type": "stream",
     "text": [
      "\n"
     ]
    },
    {
     "name": "stdout",
     "output_type": "stream",
     "text": [
      "\n",
      "\u001b[1m> Finished chain.\u001b[0m\n",
      "Response: A contract under which a single contractor is required to supply all the necessary requirements during a specified contract period, subject to the contractor's obligation to perform the required purchases and deliveries.\n",
      "Sources: ['FAR 16.503 Requirements contracts.', 'FAR 11.402 Factors to consider in establishing schedules.', 'FAR 11.404 Contract clauses.', 'FAR 16.501-2 General.', 'FAR 52.216-20 Definite Quantity.']\n"
     ]
    },
    {
     "name": "stderr",
     "output_type": "stream",
     "text": [
      "Batches: 100%|██████████| 1/1 [00:00<00:00, 47.37it/s]\n"
     ]
    },
    {
     "name": "stdout",
     "output_type": "stream",
     "text": [
      "Warning: Context exceeded 1000 characters, trimming from the end.\n",
      "\n",
      "\n",
      "\u001b[1m> Entering new LLMChain chain...\u001b[0m\n",
      "Prompt after formatting:\n",
      "\u001b[32;1m\u001b[1;3m\n",
      "Answer the question based only on the following context:\n",
      "\n",
      " (a) Description. An indefinite-quantity contract provides for an indefinite quantity, within stated limits, of supplies or services during a fixed period. The Government places orders for individual requirements. Quantity limits may be stated as number of units or as dollar values. (1) The contract must require the Government to order and the contractor to furnish at least a stated minimum quantity of supplies or services. In addition, if ordered, the contractor must furnish any additional quantities, not to exceed the stated maximum. The contracting officer should establish a reasonable maximum quantity based on market research, trends on recent contracts for similar supplies or services, survey of potential users, or any other rational basis. (2) To ensure that the contract is binding, the minimum quantity must be more than a nominal quantity, but it should not exceed the amount that the Government is fairly certain to order. (3) The contract may also specify maximum or minimum quan\n",
      "\n",
      "---\n",
      "\n",
      "Answer the question based on the above context: What type of contract provides for an indefinite quantity quantity, within stated limits, of supplies or services during a fixed period, the Government places orders for individual requirements, quantity limits may be stated as number of units or as dollar values, and the contractor must furnish any additional quantities, not to exceed the stated maximum?\n",
      "\u001b[0m\n",
      "\n",
      "\u001b[1m> Finished chain.\u001b[0m\n",
      "Response: DIN 3.0.2-0 - The Contract Clause required by the Canadian Government for all solicitations.\n",
      "Abstract: The government may require suppliers to provide for a maximum (or minimum) quantity to be ordered for a fixed period of time.\n",
      "Sources: ['FAR 16.504 Indefinite-quantity contracts.', 'FAR 16.501-2 General.', 'FAR 11.701 Supply contracts.', 'FAR 52.216-22 Indefinite Quantity.', 'FAR 16.502 Definite-quantity contracts.']\n"
     ]
    },
    {
     "name": "stderr",
     "output_type": "stream",
     "text": [
      "Batches: 100%|██████████| 1/1 [00:00<00:00, 69.36it/s]\n"
     ]
    },
    {
     "name": "stdout",
     "output_type": "stream",
     "text": [
      "\n",
      "\n",
      "\u001b[1m> Entering new LLMChain chain...\u001b[0m\n",
      "Prompt after formatting:\n",
      "\u001b[32;1m\u001b[1;3m\n",
      "Answer the question based only on the following context:\n",
      "\n",
      "As prescribed in 16.506(f), insert the following provision:Single or Multiple Awards (Oct 1995) The Government may elect to award a single delivery order contract or task order contract or to award multiple delivery order contracts or task order contracts for the same or similar supplies or services to two or more sources under this solicitation.(End of provision)\n",
      "\n",
      "---\n",
      "\n",
      "As prescribed in 16.506(g), insert the following provision:Multiple Awards for Advisory and Assistance Services (Oct 1995) The Government intends to award multiple contracts for the same or similar advisory and assistance services to two or more sources under this solicitation unless the Government determines, after evaluation of offers, that only one offeror is capable of providing the services at the level of quality required.(End of provision)\n",
      "\n",
      "---\n",
      "\n",
      "Answer the question based on the above context: What type of contract involves a contracting agency awarding two or more contracts from one solicitation for comparable supplies and services where the award to a single supplier would be impractical or fail to satisfy the total requirements?\n",
      "\u001b[0m\n",
      "\n",
      "\u001b[1m> Finished chain.\u001b[0m\n",
      "Response: The type of contract involved is a Multiple Awards contract, as specified in 16.506(f) and 16.506(g).\n",
      "Sources: ['FAR 52.216-27 Single or Multiple Awards.', 'FAR 52.216-28 Multiple Awards for Advisory and Assistance Services.']\n"
     ]
    },
    {
     "name": "stderr",
     "output_type": "stream",
     "text": [
      "Batches: 100%|██████████| 1/1 [00:00<00:00, 64.21it/s]"
     ]
    },
    {
     "name": "stdout",
     "output_type": "stream",
     "text": [
      "Warning: Context exceeded 1000 characters, trimming from the end.\n",
      "\n",
      "\n",
      "\u001b[1m> Entering new LLMChain chain...\u001b[0m\n",
      "Prompt after formatting:\n",
      "\u001b[32;1m\u001b[1;3m\n",
      "Answer the question based only on the following context:\n",
      "\n",
      "As prescribed in 16.601(f)(3), insert the following provision:Time-and-Materials/Labor-Hour Proposal Requirements—Commercial Acquisition (Nov 2021) (a) The Government contemplates award of a Time-and-Materials or Labor-Hour type of contract resulting from this solicitation. (b) The offeror must specify fixed hourly rates in its offer that include wages, overhead, general and administrative expenses, and profit. The offeror must specify whether the fixed hourly rate for each labor category applies to labor performed by- (1) The offeror; (2) Subcontractors; and/or (3) Divisions, subsidiaries, or affiliates of the offeror under a common control.(End of provision)\n",
      "\n",
      "---\n",
      "\n",
      " (a) Definitions for the purposes of Time-and-Materials Contracts. Direct materials means those materials that enter directly into the end product, or that are used or consumed directly in connection with the furnishing of the end product or service. Hourly rate means the rate(s) prescribed in the contract for payment for l\n",
      "\n",
      "---\n",
      "\n",
      "Answer the question based on the above context: What type of contract provides for direct labor hours at specified fixed hourly rates that include wages overhead, general and administrative expenses and profit plus actual cost of materials?\n",
      "\u001b[0m\n"
     ]
    },
    {
     "name": "stderr",
     "output_type": "stream",
     "text": [
      "\n"
     ]
    },
    {
     "name": "stdout",
     "output_type": "stream",
     "text": [
      "\n",
      "\u001b[1m> Finished chain.\u001b[0m\n",
      "Response: Time-and-Materials/Labor-Hour Proposal Requirements - Commercial Acquisition\n",
      "The type of contract provided for in the context is a direct labor contract with a fixed hourly rate that includes wages, overhead, general and administrative expenses, and profit. This type of contract is used when the government needs a contractor to perform specific labor- or material-related tasks. The fixed hourly rate for each labor category applies to labor performed by the contractor and its subcontractors. The direct labor rate may also include expenses\n",
      "Sources: ['FAR 52.216-31 Time-and-Materials/Labor-Hour Proposal Requirements—Commercial Acquisition.', 'FAR 16.601 Time-and-materials contracts.', 'FAR 52.216-29 Time-and-Materials/Labor-Hour Proposal Requirements—Other Than Commercial Acquisition With Adequate Price Competition.', 'FAR 52.216-30 Time-and-Materials/Labor-Hour Proposal Requirements—Other Than Commercial Acquisition Without Adequate Price Competition.', 'FAR 16.602 Labor-hour contracts.']\n"
     ]
    },
    {
     "name": "stderr",
     "output_type": "stream",
     "text": [
      "Batches: 100%|██████████| 1/1 [00:00<00:00, 48.77it/s]\n"
     ]
    },
    {
     "name": "stdout",
     "output_type": "stream",
     "text": [
      "Warning: Context exceeded 1000 characters, trimming from the end.\n",
      "\n",
      "\n",
      "\u001b[1m> Entering new LLMChain chain...\u001b[0m\n",
      "Prompt after formatting:\n",
      "\u001b[32;1m\u001b[1;3m\n",
      "Answer the question based only on the following context:\n",
      "\n",
      " (a) Except for DoD, NASA, and the Coast Guard, the contracting officer may enter into a multi-year contract if the head of the contracting activity determines that- (1) The need for the supplies or services is reasonably firm and continuing over the period of the contract; and (2) A multi-year contract will serve the best interests of the United States by encouraging full and open competition or promoting economy in administration, performance, and operation of the agency’s programs. (b) For DoD, NASA, and the Coast Guard, the head of the agency may enter into a multi-year contract for supplies if- (1) The use of such a contract will result in significant savings of the total estimated costs of carrying out the program through annual contracts; (2) The minimum need to be purchased is expected to remain substantially unchanged during the contemplated contract period in terms of production rate, procurement rate, and total quantities; (3) There is a stable design for the supplies to be \n",
      "\n",
      "---\n",
      "\n",
      "Answer the question based on the above context: What type of contract provides for the purchase of supplies or services for more than one, but not more than five program years?\n",
      "\u001b[0m\n",
      "\n",
      "\u001b[1m> Finished chain.\u001b[0m\n",
      "Response: DoD and NASA use a type of contract called a Cost-Plus-Fixed-Fee (CPFF) contract, while the Coast Guard uses a type of contract called a Cost-Plus-Award-Fee (CPFF) contract. These contracts are used in DoD and NASA procurements for non-industrial supplies, and in the procurement of services and construction.\n",
      "Sources: ['FAR 17.105-1 Uses.']\n"
     ]
    },
    {
     "name": "stderr",
     "output_type": "stream",
     "text": [
      "Batches: 100%|██████████| 1/1 [00:00<00:00, 63.98it/s]\n"
     ]
    },
    {
     "name": "stdout",
     "output_type": "stream",
     "text": [
      "Warning: Context exceeded 1000 characters, trimming from the end.\n",
      "\n",
      "\n",
      "\u001b[1m> Entering new LLMChain chain...\u001b[0m\n",
      "Prompt after formatting:\n",
      "\u001b[32;1m\u001b[1;3m\n",
      "Answer the question based only on the following context:\n",
      "\n",
      "The Government acquires unlimited rights in the following data except for copyrighted works as provided in 27.404-3: (a) Data first produced in the performance of a contract (except to the extent the data constitute minor modifications to data that are limited rights data or restricted computer software). (b) Form, fit, and function data delivered under contract. (c) Data (except as may be included with restricted computer software) that constitute manuals or instructional and training material for installation, operation, or routine maintenance and repair of items, components, or processes delivered or furnished for use under a contract. (d) All other data delivered under the contract other than limited rights data or restricted computer software (see 27.404-2).\n",
      "\n",
      "---\n",
      "\n",
      " (a) General. The basic clause at 52.227-14, Rights in Data-General, enables the contractor to protect qualifying limited rights data and restricted computer software by withholding the data from the Government and inste\n",
      "\n",
      "---\n",
      "\n",
      "Answer the question based on the above context: What are the four type of Data License rights?\n",
      "\u001b[0m\n",
      "\n",
      "\u001b[1m> Finished chain.\u001b[0m\n",
      "Response: The four types of data license rights are: 1. General License: allows the contractor to distribute the data to the public; 2. Limited Use License: allows the contractor to distribute the data to its customers; 3. System License: allows the contractor to distribute the data to the public on a single system; and 4. Non-Exclusive License: allows the contractor to distribute the data to multiple systems.\n",
      "Sources: ['FAR 27.404-1 Unlimited rights data.', 'FAR 27.404-2 Limited rights data and restricted computer software.']\n"
     ]
    },
    {
     "name": "stderr",
     "output_type": "stream",
     "text": [
      "Batches: 100%|██████████| 1/1 [00:00<00:00, 66.51it/s]\n",
      "/Users/steve/.local/share/virtualenvs/dl-tutorial-Si6gq9gB/lib/python3.11/site-packages/langchain_core/vectorstores.py:325: UserWarning: No relevant docs were retrieved using the relevance score threshold 0.5\n",
      "  warnings.warn(\n"
     ]
    },
    {
     "name": "stdout",
     "output_type": "stream",
     "text": [
      "Unable to find matching results.\n"
     ]
    },
    {
     "name": "stderr",
     "output_type": "stream",
     "text": [
      "Batches: 100%|██████████| 1/1 [00:00<00:00, 65.24it/s]\n"
     ]
    },
    {
     "name": "stdout",
     "output_type": "stream",
     "text": [
      "Unable to find matching results.\n"
     ]
    },
    {
     "name": "stderr",
     "output_type": "stream",
     "text": [
      "Batches: 100%|██████████| 1/1 [00:00<00:00, 75.32it/s]\n"
     ]
    },
    {
     "name": "stdout",
     "output_type": "stream",
     "text": [
      "\n",
      "\n",
      "\u001b[1m> Entering new LLMChain chain...\u001b[0m\n",
      "Prompt after formatting:\n",
      "\u001b[32;1m\u001b[1;3m\n",
      "Answer the question based only on the following context:\n",
      "\n",
      "The contracting officer may insert the clause at 52.236-15, Schedules for Construction Contracts, in solicitations and contracts when a fixed-price construction contract is contemplated, the contract amount is expected to exceed the simplified acquisition threshold, and the period of actual work performance exceeds 60 days. This clause may also be inserted in such solicitations and contracts when work performance is expected to last less than 60 days and an unusual situation exists that warrants imposition of the requirements. This clause should not be used in the same contract with clauses covering other management approaches for ensuring that a contractor makes adequate progress.\n",
      "\n",
      "---\n",
      "\n",
      "Answer the question based on the above context: How many days must the contracting officer solicit if the requirement is over the SAT?\n",
      "\u001b[0m\n",
      "\n",
      "\u001b[1m> Finished chain.\u001b[0m\n",
      "Response: The contracting officer must solicit a minimum of 120 days for a construction contract over the simplified acquisition threshold (SAT) that includes the \"requirement for a fixed-price, time and materials, cost-reimbursement, or cost-plus-fixed-fee contract.\" If the requirement is less than 120 days, the contracting officer can solicit a minimum of 60 days for a contract amount that includes the requirement.\n",
      "Sources: ['FAR 36.515 Schedules for construction contracts.']\n"
     ]
    },
    {
     "name": "stderr",
     "output_type": "stream",
     "text": [
      "Batches: 100%|██████████| 1/1 [00:00<00:00, 69.11it/s]\n"
     ]
    },
    {
     "name": "stdout",
     "output_type": "stream",
     "text": [
      "\n",
      "\n",
      "\u001b[1m> Entering new LLMChain chain...\u001b[0m\n",
      "Prompt after formatting:\n",
      "\u001b[32;1m\u001b[1;3m\n",
      "Answer the question based only on the following context:\n",
      "\n",
      "The contracting officer may insert the clause at 52.236-15, Schedules for Construction Contracts, in solicitations and contracts when a fixed-price construction contract is contemplated, the contract amount is expected to exceed the simplified acquisition threshold, and the period of actual work performance exceeds 60 days. This clause may also be inserted in such solicitations and contracts when work performance is expected to last less than 60 days and an unusual situation exists that warrants imposition of the requirements. This clause should not be used in the same contract with clauses covering other management approaches for ensuring that a contractor makes adequate progress.\n",
      "\n",
      "---\n",
      "\n",
      "Answer the question based on the above context: How much time must the contracting officer solicit if the requirement is at or below the SAT?\n",
      "\u001b[0m\n",
      "\n",
      "\u001b[1m> Finished chain.\u001b[0m\n",
      "Response: The contracting officer must solicit at least 10 days in such circumstances.\n",
      "Sources: ['FAR 36.515 Schedules for construction contracts.']\n"
     ]
    },
    {
     "name": "stderr",
     "output_type": "stream",
     "text": [
      "Batches: 100%|██████████| 1/1 [00:00<00:00, 61.02it/s]\n",
      "/Users/steve/.local/share/virtualenvs/dl-tutorial-Si6gq9gB/lib/python3.11/site-packages/langchain_core/vectorstores.py:325: UserWarning: No relevant docs were retrieved using the relevance score threshold 0.5\n",
      "  warnings.warn(\n"
     ]
    },
    {
     "name": "stdout",
     "output_type": "stream",
     "text": [
      "Unable to find matching results.\n"
     ]
    },
    {
     "name": "stderr",
     "output_type": "stream",
     "text": [
      "Batches: 100%|██████████| 1/1 [00:00<00:00, 77.24it/s]\n"
     ]
    },
    {
     "name": "stdout",
     "output_type": "stream",
     "text": [
      "Unable to find matching results.\n"
     ]
    },
    {
     "name": "stderr",
     "output_type": "stream",
     "text": [
      "Batches: 100%|██████████| 1/1 [00:00<00:00, 68.05it/s]\n"
     ]
    },
    {
     "name": "stdout",
     "output_type": "stream",
     "text": [
      "Unable to find matching results.\n"
     ]
    },
    {
     "name": "stderr",
     "output_type": "stream",
     "text": [
      "Batches: 100%|██████████| 1/1 [00:00<00:00, 79.21it/s]"
     ]
    },
    {
     "name": "stdout",
     "output_type": "stream",
     "text": [
      "Warning: Context exceeded 1000 characters, trimming from the end.\n",
      "\n",
      "\n",
      "\u001b[1m> Entering new LLMChain chain...\u001b[0m\n",
      "Prompt after formatting:\n",
      "\u001b[32;1m\u001b[1;3m\n",
      "Answer the question based only on the following context:\n",
      "\n",
      "The contracting officer shall insert the clause at 52.236-10, Operations and Storage Areas, in solicitations and contracts when a fixed-price construction contract or a fixed-price dismantling, demolition, or removal of improvements contract is contemplated and the contract amount is expected to exceed the simplified acquisition threshold. The contracting officer may insert the clause in solicitations and contracts when a fixed-price construction or a fixed-price contract for dismantling, demolition, or removal of improvements is contemplated and the contract amount is expected to be at or below the simplified acquisition threshold.\n",
      "\n",
      "---\n",
      "\n",
      "The contracting officer shall insert the clause at 52.236-8, Other Contracts, in solicitations and contracts when a fixed-price construction contract or a fixed-price dismantling, demolition, or removal of improvements contract is contemplated and the contract amount is expected to exceed the simplified acquisition threshold. The contracting officer m\n",
      "\n",
      "---\n",
      "\n",
      "Answer the question based on the above context: The Simplified Acquisition Procedures can not be done on contracts above what amount?\n",
      "\u001b[0m\n"
     ]
    },
    {
     "name": "stderr",
     "output_type": "stream",
     "text": [
      "\n"
     ]
    },
    {
     "name": "stdout",
     "output_type": "stream",
     "text": [
      "\n",
      "\u001b[1m> Finished chain.\u001b[0m\n",
      "Response: The Simplified Acquisition Procedures may be conducted on contracts as high as $10,000.\n",
      "Sources: ['FAR 36.510 Operations and storage areas.', 'FAR 36.508 Other contracts.', 'FAR 36.502 Differing site conditions.', 'FAR 36.509 Protection of existing vegetation, structures, equipment, utilities, and improvements.', 'FAR 36.512 Cleaning up.']\n"
     ]
    },
    {
     "name": "stderr",
     "output_type": "stream",
     "text": [
      "Batches: 100%|██████████| 1/1 [00:00<00:00, 68.57it/s]\n"
     ]
    },
    {
     "name": "stdout",
     "output_type": "stream",
     "text": [
      "Warning: Context exceeded 1000 characters, trimming from the end.\n",
      "\n",
      "\n",
      "\u001b[1m> Entering new LLMChain chain...\u001b[0m\n",
      "Prompt after formatting:\n",
      "\u001b[32;1m\u001b[1;3m\n",
      "Answer the question based only on the following context:\n",
      "\n",
      " (a) This subpart authorizes the use of simplified procedures for the acquisition of supplies and services in amounts greater than the simplified acquisition threshold but not exceeding $7.5 million ($15 million for acquisitions as described in 13.500(c)), including options, if the contracting officer reasonably expects, based on the nature of the supplies or services sought, and on market research, that offers will include only commercial products or commercial services. Contracting officers may use any simplified acquisition procedure in this part, subject to any specific dollar limitation applicable to the particular procedure. The purpose of these simplified procedures is to vest contracting officers with additional procedural discretion and flexibility, so that commercial acquisitions in this dollar range may be solicited, offered, evaluated, and awarded in a simplified manner that maximizes efficiency and economy and minimizes burden and administrative costs for both the Governme\n",
      "\n",
      "---\n",
      "\n",
      "Answer the question based on the above context: In a deployed contingency environment, the Simplified Acquisition Procedures can not be done on contracts above what amount?\n",
      "\u001b[0m\n",
      "\n",
      "\u001b[1m> Finished chain.\u001b[0m\n",
      "Response: $15 million\n",
      "Sources: ['FAR 13.500 General.']\n"
     ]
    },
    {
     "name": "stderr",
     "output_type": "stream",
     "text": [
      "Batches: 100%|██████████| 1/1 [00:00<00:00, 23.81it/s]"
     ]
    },
    {
     "name": "stdout",
     "output_type": "stream",
     "text": [
      "Warning: Context exceeded 1000 characters, trimming from the end.\n",
      "\n",
      "\n",
      "\u001b[1m> Entering new LLMChain chain...\u001b[0m\n",
      "Prompt after formatting:\n",
      "\u001b[32;1m\u001b[1;3m\n",
      "Answer the question based only on the following context:\n",
      "\n",
      "The contracting officer shall cooperate with Department of Labor representatives in the examination of records, interviews with service employees, and all other aspects of investigations undertaken by the Department. When asked, agencies shall furnish the Wage and Hour Administrator or a designee, any available information on contractors, subcontractors, their contracts, and the nature of the contract services. The contracting officer shall promptly refer, in writing to the appropriate regional office of the Department, apparent violations and complaints received. Employee complaints shall not be disclosed to the employer.\n",
      "\n",
      "---\n",
      "\n",
      "Contracting officers are responsible for ensuring performance of all necessary actions for effective contracting, ensuring compliance with the terms of the contract, and safeguarding the interests of the United States in its contractual relationships. In order to perform these responsibilities, contracting officers should be allowed wide latitude to exercise bu\n",
      "\n",
      "---\n",
      "\n",
      "Answer the question based on the above context: What are the responsibilities of the Contracting Officer?\n",
      "\u001b[0m\n"
     ]
    },
    {
     "name": "stderr",
     "output_type": "stream",
     "text": [
      "\n"
     ]
    },
    {
     "name": "stdout",
     "output_type": "stream",
     "text": [
      "\n",
      "\u001b[1m> Finished chain.\u001b[0m\n",
      "Response: \n",
      "1. To cooperate fully with Department of Labor representatives in the examination of records and interviews with service employees. \n",
      "2. To furnish available information on contractors, subcontractors, their contracts, and the nature of the contract services.\n",
      "3. To promptly refer apparent violations and complaints to the appropriate regional office of the Department.\n",
      "4. To ensure compliance with all necessary actions for effective contracting.\n",
      "5. To safeguard the interests of the United States in its contractual relationships.\n",
      "Sources: ['FAR 22.1024 Cooperation with the Department of Labor.', 'FAR 1.602-2 Responsibilities.', 'FAR 5.403 Requests from Members of Congress.', 'FAR 1.601 General.', 'FAR 1.602-1 Authority.']\n",
      "\n",
      "\n",
      "\u001b[1m> Entering new LLMChain chain...\u001b[0m\n",
      "Prompt after formatting:\n",
      "\u001b[32;1m\u001b[1;3mYou are a helpful assistant that answers questions of the user.\n",
      "Is it true that contractors who provide products or services to the Federal Government are to be considered members of the Government’s “Federal Acquisition Team”?\n",
      "\u001b[0m\n",
      "\n",
      "\u001b[1m> Finished chain.\u001b[0m\n",
      "\n",
      "\n",
      "\u001b[1m> Entering new LLMChain chain...\u001b[0m\n",
      "Prompt after formatting:\n",
      "\u001b[32;1m\u001b[1;3mYou are a helpful assistant that answers questions of the user.\n",
      "Who are the principal customers for the products and services procured under the Federal Acquisition System?\n",
      "\u001b[0m\n",
      "\n",
      "\u001b[1m> Finished chain.\u001b[0m\n",
      "\n",
      "\n",
      "\u001b[1m> Entering new LLMChain chain...\u001b[0m\n",
      "Prompt after formatting:\n",
      "\u001b[32;1m\u001b[1;3mYou are a helpful assistant that answers questions of the user.\n",
      "Can a contracting officer unilaterally incorporate a new or modified FAR clause into an awarded contract without consideration?\n",
      "\u001b[0m\n",
      "\n",
      "\u001b[1m> Finished chain.\u001b[0m\n",
      "\n",
      "\n",
      "\u001b[1m> Entering new LLMChain chain...\u001b[0m\n",
      "Prompt after formatting:\n",
      "\u001b[32;1m\u001b[1;3mYou are a helpful assistant that answers questions of the user.\n",
      "What three government officials are personally responsible for compliance with the FAR?\n",
      "\u001b[0m\n",
      "\n",
      "\u001b[1m> Finished chain.\u001b[0m\n",
      "\n",
      "\n",
      "\u001b[1m> Entering new LLMChain chain...\u001b[0m\n",
      "Prompt after formatting:\n",
      "\u001b[32;1m\u001b[1;3mYou are a helpful assistant that answers questions of the user.\n",
      "What is a D&F?\n",
      "\u001b[0m\n",
      "\n",
      "\u001b[1m> Finished chain.\u001b[0m\n",
      "\n",
      "\n",
      "\u001b[1m> Entering new LLMChain chain...\u001b[0m\n",
      "Prompt after formatting:\n",
      "\u001b[32;1m\u001b[1;3mYou are a helpful assistant that answers questions of the user.\n",
      "What is the FAR?\n",
      "\u001b[0m\n",
      "\n",
      "\u001b[1m> Finished chain.\u001b[0m\n",
      "\n",
      "\n",
      "\u001b[1m> Entering new LLMChain chain...\u001b[0m\n",
      "Prompt after formatting:\n",
      "\u001b[32;1m\u001b[1;3mYou are a helpful assistant that answers questions of the user.\n",
      "Who can sign contracts on behalf of the United States?\n",
      "\u001b[0m\n",
      "\n",
      "\u001b[1m> Finished chain.\u001b[0m\n",
      "\n",
      "\n",
      "\u001b[1m> Entering new LLMChain chain...\u001b[0m\n",
      "Prompt after formatting:\n",
      "\u001b[32;1m\u001b[1;3mYou are a helpful assistant that answers questions of the user.\n",
      "Who must the contracting officer ensure has the authority to bind the contractor?\n",
      "\u001b[0m\n",
      "\n",
      "\u001b[1m> Finished chain.\u001b[0m\n",
      "\n",
      "\n",
      "\u001b[1m> Entering new LLMChain chain...\u001b[0m\n",
      "Prompt after formatting:\n",
      "\u001b[32;1m\u001b[1;3mYou are a helpful assistant that answers questions of the user.\n",
      "With regard to the Standards of Conduct, should Government personnel conduct themselves in such a way that they should have no reluctance to make a full public disclosure of their actions?\n",
      "\u001b[0m\n",
      "\n",
      "\u001b[1m> Finished chain.\u001b[0m\n",
      "\n",
      "\n",
      "\u001b[1m> Entering new LLMChain chain...\u001b[0m\n",
      "Prompt after formatting:\n",
      "\u001b[32;1m\u001b[1;3mYou are a helpful assistant that answers questions of the user.\n",
      "Can Government employees accept monetary gifts and entertainment from someone seeking to obtain Government business as long as they are not solicited?\n",
      "\u001b[0m\n",
      "\n",
      "\u001b[1m> Finished chain.\u001b[0m\n",
      "\n",
      "\n",
      "\u001b[1m> Entering new LLMChain chain...\u001b[0m\n",
      "Prompt after formatting:\n",
      "\u001b[32;1m\u001b[1;3mYou are a helpful assistant that answers questions of the user.\n",
      "What is a contingent fee?\n",
      "\u001b[0m\n",
      "\n",
      "\u001b[1m> Finished chain.\u001b[0m\n",
      "\n",
      "\n",
      "\u001b[1m> Entering new LLMChain chain...\u001b[0m\n",
      "Prompt after formatting:\n",
      "\u001b[32;1m\u001b[1;3mYou are a helpful assistant that answers questions of the user.\n",
      "What is the vision of the Federal Acquisition System?\n",
      "\u001b[0m\n",
      "\n",
      "\u001b[1m> Finished chain.\u001b[0m\n",
      "\n",
      "\n",
      "\u001b[1m> Entering new LLMChain chain...\u001b[0m\n",
      "Prompt after formatting:\n",
      "\u001b[32;1m\u001b[1;3mYou are a helpful assistant that answers questions of the user.\n",
      "Between what dollar values must a Contracting Officer set-aside an acquisition?\n",
      "\u001b[0m\n",
      "\n",
      "\u001b[1m> Finished chain.\u001b[0m\n",
      "\n",
      "\n",
      "\u001b[1m> Entering new LLMChain chain...\u001b[0m\n",
      "Prompt after formatting:\n",
      "\u001b[32;1m\u001b[1;3mYou are a helpful assistant that answers questions of the user.\n",
      "When are contracting officers required to set aside a requirement for small business?\n",
      "\u001b[0m\n",
      "\n",
      "\u001b[1m> Finished chain.\u001b[0m\n",
      "\n",
      "\n",
      "\u001b[1m> Entering new LLMChain chain...\u001b[0m\n",
      "Prompt after formatting:\n",
      "\u001b[32;1m\u001b[1;3mYou are a helpful assistant that answers questions of the user.\n",
      "What is the size standard of a commodity?\n",
      "\u001b[0m\n",
      "\n",
      "\u001b[1m> Finished chain.\u001b[0m\n",
      "\n",
      "\n",
      "\u001b[1m> Entering new LLMChain chain...\u001b[0m\n",
      "Prompt after formatting:\n",
      "\u001b[32;1m\u001b[1;3mYou are a helpful assistant that answers questions of the user.\n",
      "What is the size standard of a service?\n",
      "\u001b[0m\n",
      "\n",
      "\u001b[1m> Finished chain.\u001b[0m\n",
      "\n",
      "\n",
      "\u001b[1m> Entering new LLMChain chain...\u001b[0m\n",
      "Prompt after formatting:\n",
      "\u001b[32;1m\u001b[1;3mYou are a helpful assistant that answers questions of the user.\n",
      "Does a subcontractor need an approved purchasing system to work on the contract?\n",
      "\u001b[0m\n",
      "\n",
      "\u001b[1m> Finished chain.\u001b[0m\n",
      "\n",
      "\n",
      "\u001b[1m> Entering new LLMChain chain...\u001b[0m\n",
      "Prompt after formatting:\n",
      "\u001b[32;1m\u001b[1;3mYou are a helpful assistant that answers questions of the user.\n",
      "To what extent must the Contracting Officer promote Full and Open Competition?\n",
      "\u001b[0m\n",
      "\n",
      "\u001b[1m> Finished chain.\u001b[0m\n",
      "\n",
      "\n",
      "\u001b[1m> Entering new LLMChain chain...\u001b[0m\n",
      "Prompt after formatting:\n",
      "\u001b[32;1m\u001b[1;3mYou are a helpful assistant that answers questions of the user.\n",
      "What contract types must be used for Sealed Bidding?\n",
      "\u001b[0m\n",
      "\n",
      "\u001b[1m> Finished chain.\u001b[0m\n",
      "\n",
      "\n",
      "\u001b[1m> Entering new LLMChain chain...\u001b[0m\n",
      "Prompt after formatting:\n",
      "\u001b[32;1m\u001b[1;3mYou are a helpful assistant that answers questions of the user.\n",
      "Which request is needed for Sealed Bidding?\n",
      "\u001b[0m\n",
      "\n",
      "\u001b[1m> Finished chain.\u001b[0m\n",
      "\n",
      "\n",
      "\u001b[1m> Entering new LLMChain chain...\u001b[0m\n",
      "Prompt after formatting:\n",
      "\u001b[32;1m\u001b[1;3mYou are a helpful assistant that answers questions of the user.\n",
      "Which type of solicitation is used for Simplfied Acquisition Procedures?\n",
      "\u001b[0m\n",
      "\n",
      "\u001b[1m> Finished chain.\u001b[0m\n",
      "\n",
      "\n",
      "\u001b[1m> Entering new LLMChain chain...\u001b[0m\n",
      "Prompt after formatting:\n",
      "\u001b[32;1m\u001b[1;3mYou are a helpful assistant that answers questions of the user.\n",
      "Which type of solicitation is used for negotations?\n",
      "\u001b[0m\n",
      "\n",
      "\u001b[1m> Finished chain.\u001b[0m\n",
      "\n",
      "\n",
      "\u001b[1m> Entering new LLMChain chain...\u001b[0m\n",
      "Prompt after formatting:\n",
      "\u001b[32;1m\u001b[1;3mYou are a helpful assistant that answers questions of the user.\n",
      "At minimum, how many sources are required to ensure competition exists when the acquisition does not require a synopsis?\n",
      "\u001b[0m\n",
      "\n",
      "\u001b[1m> Finished chain.\u001b[0m\n",
      "\n",
      "\n",
      "\u001b[1m> Entering new LLMChain chain...\u001b[0m\n",
      "Prompt after formatting:\n",
      "\u001b[32;1m\u001b[1;3mYou are a helpful assistant that answers questions of the user.\n",
      "What type of contract specifies a target cost, a target profit, a price ceiling (but not a profit ceiling or floor), and a profit adjustment formula?\n",
      "\u001b[0m\n",
      "\n",
      "\u001b[1m> Finished chain.\u001b[0m\n",
      "\n",
      "\n",
      "\u001b[1m> Entering new LLMChain chain...\u001b[0m\n",
      "Prompt after formatting:\n",
      "\u001b[32;1m\u001b[1;3mYou are a helpful assistant that answers questions of the user.\n",
      "What type of contract specifies a target cost, a target profit, a price ceiling (but not a profit ceiling or floor), and a profit adjustment formula?\n",
      "\u001b[0m\n",
      "\n",
      "\u001b[1m> Finished chain.\u001b[0m\n",
      "\n",
      "\n",
      "\u001b[1m> Entering new LLMChain chain...\u001b[0m\n",
      "Prompt after formatting:\n",
      "\u001b[32;1m\u001b[1;3mYou are a helpful assistant that answers questions of the user.\n",
      "What are the two types of Cost Plus Fixed Fee Contracts?\n",
      "\u001b[0m\n",
      "\n",
      "\u001b[1m> Finished chain.\u001b[0m\n",
      "\n",
      "\n",
      "\u001b[1m> Entering new LLMChain chain...\u001b[0m\n",
      "Prompt after formatting:\n",
      "\u001b[32;1m\u001b[1;3mYou are a helpful assistant that answers questions of the user.\n",
      "When can the combined synopsis and solicitation procedure be used?\n",
      "\u001b[0m\n",
      "\n",
      "\u001b[1m> Finished chain.\u001b[0m\n",
      "\n",
      "\n",
      "\u001b[1m> Entering new LLMChain chain...\u001b[0m\n",
      "Prompt after formatting:\n",
      "\u001b[32;1m\u001b[1;3mYou are a helpful assistant that answers questions of the user.\n",
      "What are the five steps of sealed bidding?\n",
      "\u001b[0m\n",
      "\n",
      "\u001b[1m> Finished chain.\u001b[0m\n",
      "\n",
      "\n",
      "\u001b[1m> Entering new LLMChain chain...\u001b[0m\n",
      "Prompt after formatting:\n",
      "\u001b[32;1m\u001b[1;3mYou are a helpful assistant that answers questions of the user.\n",
      "When using Simplified Acquisition Procedures (SAP) and the acquisition doesn't exceed the thresholds for publicizing contract actions, how should the contracting officer maximize competition?\n",
      "\u001b[0m\n",
      "\n",
      "\u001b[1m> Finished chain.\u001b[0m\n",
      "\n",
      "\n",
      "\u001b[1m> Entering new LLMChain chain...\u001b[0m\n",
      "Prompt after formatting:\n",
      "\u001b[32;1m\u001b[1;3mYou are a helpful assistant that answers questions of the user.\n",
      "What contract types are appropriate for sealed bidding?\n",
      "\u001b[0m\n",
      "\n",
      "\u001b[1m> Finished chain.\u001b[0m\n",
      "\n",
      "\n",
      "\u001b[1m> Entering new LLMChain chain...\u001b[0m\n",
      "Prompt after formatting:\n",
      "\u001b[32;1m\u001b[1;3mYou are a helpful assistant that answers questions of the user.\n",
      "How are bids processed when they are received?\n",
      "\u001b[0m\n",
      "\n",
      "\u001b[1m> Finished chain.\u001b[0m\n",
      "\n",
      "\n",
      "\u001b[1m> Entering new LLMChain chain...\u001b[0m\n",
      "Prompt after formatting:\n",
      "\u001b[32;1m\u001b[1;3mYou are a helpful assistant that answers questions of the user.\n",
      "What are two types of negotiated acquisitions?\n",
      "\u001b[0m\n",
      "\n",
      "\u001b[1m> Finished chain.\u001b[0m\n",
      "\n",
      "\n",
      "\u001b[1m> Entering new LLMChain chain...\u001b[0m\n",
      "Prompt after formatting:\n",
      "\u001b[32;1m\u001b[1;3mYou are a helpful assistant that answers questions of the user.\n",
      "What are the three types of Indefinite Delivery contracts?\n",
      "\u001b[0m\n",
      "\n",
      "\u001b[1m> Finished chain.\u001b[0m\n",
      "\n",
      "\n",
      "\u001b[1m> Entering new LLMChain chain...\u001b[0m\n",
      "Prompt after formatting:\n",
      "\u001b[32;1m\u001b[1;3mYou are a helpful assistant that answers questions of the user.\n",
      "What type of contract provides for delivery of a definite quantity of specific supplies or services for a fixed period, with deliveries or performance to be scheduled at designated locations upon order?\n",
      "\u001b[0m\n",
      "\n",
      "\u001b[1m> Finished chain.\u001b[0m\n",
      "\n",
      "\n",
      "\u001b[1m> Entering new LLMChain chain...\u001b[0m\n",
      "Prompt after formatting:\n",
      "\u001b[32;1m\u001b[1;3mYou are a helpful assistant that answers questions of the user.\n",
      "What type of contract provides for filling all actual requirements during a specified contract period (from one contractor), with deliveries or performance to be scheduled by placing orders with the contractor?\n",
      "\u001b[0m\n",
      "\n",
      "\u001b[1m> Finished chain.\u001b[0m\n",
      "\n",
      "\n",
      "\u001b[1m> Entering new LLMChain chain...\u001b[0m\n",
      "Prompt after formatting:\n",
      "\u001b[32;1m\u001b[1;3mYou are a helpful assistant that answers questions of the user.\n",
      "What type of contract provides for an indefinite quantity quantity, within stated limits, of supplies or services during a fixed period, the Government places orders for individual requirements, quantity limits may be stated as number of units or as dollar values, and the contractor must furnish any additional quantities, not to exceed the stated maximum?\n",
      "\u001b[0m\n",
      "\n",
      "\u001b[1m> Finished chain.\u001b[0m\n",
      "\n",
      "\n",
      "\u001b[1m> Entering new LLMChain chain...\u001b[0m\n",
      "Prompt after formatting:\n",
      "\u001b[32;1m\u001b[1;3mYou are a helpful assistant that answers questions of the user.\n",
      "What type of contract involves a contracting agency awarding two or more contracts from one solicitation for comparable supplies and services where the award to a single supplier would be impractical or fail to satisfy the total requirements?\n",
      "\u001b[0m\n",
      "\n",
      "\u001b[1m> Finished chain.\u001b[0m\n",
      "\n",
      "\n",
      "\u001b[1m> Entering new LLMChain chain...\u001b[0m\n",
      "Prompt after formatting:\n",
      "\u001b[32;1m\u001b[1;3mYou are a helpful assistant that answers questions of the user.\n",
      "What type of contract provides for direct labor hours at specified fixed hourly rates that include wages overhead, general and administrative expenses and profit plus actual cost of materials?\n",
      "\u001b[0m\n",
      "\n",
      "\u001b[1m> Finished chain.\u001b[0m\n",
      "\n",
      "\n",
      "\u001b[1m> Entering new LLMChain chain...\u001b[0m\n",
      "Prompt after formatting:\n",
      "\u001b[32;1m\u001b[1;3mYou are a helpful assistant that answers questions of the user.\n",
      "What type of contract provides for the purchase of supplies or services for more than one, but not more than five program years?\n",
      "\u001b[0m\n",
      "\n",
      "\u001b[1m> Finished chain.\u001b[0m\n",
      "\n",
      "\n",
      "\u001b[1m> Entering new LLMChain chain...\u001b[0m\n",
      "Prompt after formatting:\n",
      "\u001b[32;1m\u001b[1;3mYou are a helpful assistant that answers questions of the user.\n",
      "What are the four type of Data License rights?\n",
      "\u001b[0m\n",
      "\n",
      "\u001b[1m> Finished chain.\u001b[0m\n",
      "\n",
      "\n",
      "\u001b[1m> Entering new LLMChain chain...\u001b[0m\n",
      "Prompt after formatting:\n",
      "\u001b[32;1m\u001b[1;3mYou are a helpful assistant that answers questions of the user.\n",
      "What is the definition of Government Property?\n",
      "\u001b[0m\n",
      "\n",
      "\u001b[1m> Finished chain.\u001b[0m\n",
      "\n",
      "\n",
      "\u001b[1m> Entering new LLMChain chain...\u001b[0m\n",
      "Prompt after formatting:\n",
      "\u001b[32;1m\u001b[1;3mYou are a helpful assistant that answers questions of the user.\n",
      "Proposed contract actions expected to exceed what amount must be disseminated to FedBizOpps and/or another Government-Wide Point of Entry by Contracting Officers?\n",
      "\u001b[0m\n",
      "\n",
      "\u001b[1m> Finished chain.\u001b[0m\n",
      "\n",
      "\n",
      "\u001b[1m> Entering new LLMChain chain...\u001b[0m\n",
      "Prompt after formatting:\n",
      "\u001b[32;1m\u001b[1;3mYou are a helpful assistant that answers questions of the user.\n",
      "How many days must the contracting officer solicit if the requirement is over the SAT?\n",
      "\u001b[0m\n",
      "\n",
      "\u001b[1m> Finished chain.\u001b[0m\n",
      "\n",
      "\n",
      "\u001b[1m> Entering new LLMChain chain...\u001b[0m\n",
      "Prompt after formatting:\n",
      "\u001b[32;1m\u001b[1;3mYou are a helpful assistant that answers questions of the user.\n",
      "How much time must the contracting officer solicit if the requirement is at or below the SAT?\n",
      "\u001b[0m\n",
      "\n",
      "\u001b[1m> Finished chain.\u001b[0m\n",
      "\n",
      "\n",
      "\u001b[1m> Entering new LLMChain chain...\u001b[0m\n",
      "Prompt after formatting:\n",
      "\u001b[32;1m\u001b[1;3mYou are a helpful assistant that answers questions of the user.\n",
      "What must requirements that range between the Micro-Purchase Threshold to the SAT be reserved for? \n",
      "\u001b[0m\n",
      "\n",
      "\u001b[1m> Finished chain.\u001b[0m\n",
      "\n",
      "\n",
      "\u001b[1m> Entering new LLMChain chain...\u001b[0m\n",
      "Prompt after formatting:\n",
      "\u001b[32;1m\u001b[1;3mYou are a helpful assistant that answers questions of the user.\n",
      "What type of item is sold to the general public?\n",
      "\u001b[0m\n",
      "\n",
      "\u001b[1m> Finished chain.\u001b[0m\n",
      "\n",
      "\n",
      "\u001b[1m> Entering new LLMChain chain...\u001b[0m\n",
      "Prompt after formatting:\n",
      "\u001b[32;1m\u001b[1;3mYou are a helpful assistant that answers questions of the user.\n",
      "Can a contractor challenge the cancellation of a sealed bid?\n",
      "\u001b[0m\n",
      "\n",
      "\u001b[1m> Finished chain.\u001b[0m\n",
      "\n",
      "\n",
      "\u001b[1m> Entering new LLMChain chain...\u001b[0m\n",
      "Prompt after formatting:\n",
      "\u001b[32;1m\u001b[1;3mYou are a helpful assistant that answers questions of the user.\n",
      "The Simplified Acquisition Procedures can not be done on contracts above what amount?\n",
      "\u001b[0m\n",
      "\n",
      "\u001b[1m> Finished chain.\u001b[0m\n",
      "\n",
      "\n",
      "\u001b[1m> Entering new LLMChain chain...\u001b[0m\n",
      "Prompt after formatting:\n",
      "\u001b[32;1m\u001b[1;3mYou are a helpful assistant that answers questions of the user.\n",
      "In a deployed contingency environment, the Simplified Acquisition Procedures can not be done on contracts above what amount?\n",
      "\u001b[0m\n",
      "\n",
      "\u001b[1m> Finished chain.\u001b[0m\n",
      "\n",
      "\n",
      "\u001b[1m> Entering new LLMChain chain...\u001b[0m\n",
      "Prompt after formatting:\n",
      "\u001b[32;1m\u001b[1;3mYou are a helpful assistant that answers questions of the user.\n",
      "What are the responsibilities of the Contracting Officer?\n",
      "\u001b[0m\n",
      "\n",
      "\u001b[1m> Finished chain.\u001b[0m\n"
     ]
    }
   ],
   "source": [
    "# TODO: Add verbose arg to RAG()\n",
    "\n",
    "# create list of questions\n",
    "question_list = df[\"question_edited\"]\n",
    "\n",
    "# create list of responses\n",
    "response_list = [RAG(question) for question in question_list]\n",
    "\n",
    "# create list of baseline responses\n",
    "baseline_response_list = [conv_chain.run(question) for question in question_list]"
   ]
  },
  {
   "cell_type": "code",
   "execution_count": null,
   "metadata": {},
   "outputs": [],
   "source": [
    "# TODO: text preprocessing"
   ]
  },
  {
   "cell_type": "markdown",
   "metadata": {},
   "source": [
    "To systematically evaluate the performance of our model relative to the baseline, we will convert our questions and responses (both those provided with and without context) to text embeddings. We will then calculate the cosine similarity between the human-generated responses and the AI-generated responses. We will calculate this metric for both those AI-generated responses which used context as well as those which did not."
   ]
  },
  {
   "cell_type": "code",
   "execution_count": 42,
   "metadata": {},
   "outputs": [
    {
     "name": "stdout",
     "output_type": "stream",
     "text": [
      "2023-12-13 16:38:00 - Load pretrained SentenceTransformer: sentence-transformers/all-MiniLM-L6-v2\n",
      "2023-12-13 16:38:00 - Use pytorch device: cpu\n"
     ]
    }
   ],
   "source": [
    "from sentence_transformers import SentenceTransformer\n",
    "\n",
    "embedding_model = SentenceTransformer('sentence-transformers/all-MiniLM-L6-v2')"
   ]
  },
  {
   "cell_type": "markdown",
   "metadata": {},
   "source": [
    "For consistency, we use the same text embedding model as earlier. "
   ]
  },
  {
   "cell_type": "code",
   "execution_count": 45,
   "metadata": {},
   "outputs": [
    {
     "name": "stderr",
     "output_type": "stream",
     "text": [
      "Batches: 100%|██████████| 1/1 [00:00<00:00, 17.09it/s]\n",
      "Batches: 100%|██████████| 1/1 [00:00<00:00, 42.75it/s]\n",
      "Batches: 100%|██████████| 1/1 [00:00<00:00, 52.97it/s]\n",
      "Batches: 100%|██████████| 1/1 [00:00<00:00, 35.24it/s]\n",
      "Batches: 100%|██████████| 1/1 [00:00<00:00, 21.48it/s]\n",
      "Batches: 100%|██████████| 1/1 [00:00<00:00, 30.36it/s]\n",
      "Batches: 100%|██████████| 1/1 [00:00<00:00, 31.89it/s]\n",
      "Batches: 100%|██████████| 1/1 [00:00<00:00, 15.15it/s]\n",
      "Batches: 100%|██████████| 1/1 [00:00<00:00, 25.65it/s]\n",
      "Batches: 100%|██████████| 1/1 [00:00<00:00, 28.85it/s]\n",
      "Batches: 100%|██████████| 1/1 [00:00<00:00, 33.30it/s]\n",
      "Batches: 100%|██████████| 1/1 [00:00<00:00, 25.49it/s]\n",
      "Batches: 100%|██████████| 1/1 [00:00<00:00, 46.99it/s]\n",
      "Batches: 100%|██████████| 1/1 [00:00<00:00, 19.74it/s]\n",
      "Batches: 100%|██████████| 1/1 [00:00<00:00, 31.22it/s]\n",
      "Batches: 100%|██████████| 1/1 [00:00<00:00, 61.46it/s]\n",
      "Batches: 100%|██████████| 1/1 [00:00<00:00, 89.27it/s]\n",
      "Batches: 100%|██████████| 1/1 [00:00<00:00, 68.78it/s]\n",
      "Batches: 100%|██████████| 1/1 [00:00<00:00, 73.72it/s]\n",
      "Batches: 100%|██████████| 1/1 [00:00<00:00, 88.11it/s]\n",
      "Batches: 100%|██████████| 1/1 [00:00<00:00, 76.12it/s]\n",
      "Batches: 100%|██████████| 1/1 [00:00<00:00, 79.69it/s]\n",
      "Batches: 100%|██████████| 1/1 [00:00<00:00, 77.31it/s]\n",
      "Batches: 100%|██████████| 1/1 [00:00<00:00, 83.72it/s]\n",
      "Batches: 100%|██████████| 1/1 [00:00<00:00, 77.87it/s]\n",
      "Batches: 100%|██████████| 1/1 [00:00<00:00, 81.20it/s]\n",
      "Batches: 100%|██████████| 1/1 [00:00<00:00, 70.95it/s]\n",
      "Batches: 100%|██████████| 1/1 [00:00<00:00, 53.47it/s]\n",
      "Batches: 100%|██████████| 1/1 [00:00<00:00, 65.86it/s]\n",
      "Batches: 100%|██████████| 1/1 [00:00<00:00, 72.25it/s]\n",
      "Batches: 100%|██████████| 1/1 [00:00<00:00, 52.18it/s]\n",
      "Batches: 100%|██████████| 1/1 [00:00<00:00, 84.54it/s]\n",
      "Batches: 100%|██████████| 1/1 [00:00<00:00, 59.18it/s]\n",
      "Batches: 100%|██████████| 1/1 [00:00<00:00, 71.53it/s]\n",
      "Batches: 100%|██████████| 1/1 [00:00<00:00, 90.88it/s]\n",
      "Batches: 100%|██████████| 1/1 [00:00<00:00, 96.81it/s]\n",
      "Batches: 100%|██████████| 1/1 [00:00<00:00, 105.12it/s]\n",
      "Batches: 100%|██████████| 1/1 [00:00<00:00, 95.90it/s]\n",
      "Batches: 100%|██████████| 1/1 [00:00<00:00, 87.44it/s]\n",
      "Batches: 100%|██████████| 1/1 [00:00<00:00, 67.89it/s]\n",
      "Batches: 100%|██████████| 1/1 [00:00<00:00, 73.94it/s]\n",
      "Batches: 100%|██████████| 1/1 [00:00<00:00, 86.53it/s]\n",
      "Batches: 100%|██████████| 1/1 [00:00<00:00, 111.53it/s]\n",
      "Batches: 100%|██████████| 1/1 [00:00<00:00, 124.21it/s]\n",
      "Batches: 100%|██████████| 1/1 [00:00<00:00, 104.44it/s]\n",
      "Batches: 100%|██████████| 1/1 [00:00<00:00, 130.24it/s]\n",
      "Batches: 100%|██████████| 1/1 [00:00<00:00, 129.59it/s]\n",
      "Batches: 100%|██████████| 1/1 [00:00<00:00, 93.68it/s]\n",
      "Batches: 100%|██████████| 1/1 [00:00<00:00, 110.27it/s]\n",
      "Batches: 100%|██████████| 1/1 [00:00<00:00, 72.43it/s]\n",
      "Batches: 100%|██████████| 1/1 [00:00<00:00, 53.23it/s]\n",
      "Batches: 100%|██████████| 1/1 [00:00<00:00, 48.30it/s]\n",
      "Batches: 100%|██████████| 1/1 [00:00<00:00, 80.76it/s]\n",
      "Batches: 100%|██████████| 1/1 [00:00<00:00, 90.59it/s]\n",
      "Batches: 100%|██████████| 1/1 [00:00<00:00, 53.94it/s]\n",
      "Batches: 100%|██████████| 1/1 [00:00<00:00, 86.67it/s]\n",
      "Batches: 100%|██████████| 1/1 [00:00<00:00, 62.81it/s]\n",
      "Batches: 100%|██████████| 1/1 [00:00<00:00, 50.95it/s]\n",
      "Batches: 100%|██████████| 1/1 [00:00<00:00, 57.80it/s]\n",
      "Batches: 100%|██████████| 1/1 [00:00<00:00, 69.69it/s]\n",
      "Batches: 100%|██████████| 1/1 [00:00<00:00, 79.26it/s]\n",
      "Batches: 100%|██████████| 1/1 [00:00<00:00, 57.57it/s]\n",
      "Batches: 100%|██████████| 1/1 [00:00<00:00, 83.73it/s]\n",
      "Batches: 100%|██████████| 1/1 [00:00<00:00, 72.96it/s]\n",
      "Batches: 100%|██████████| 1/1 [00:00<00:00, 58.45it/s]\n",
      "Batches: 100%|██████████| 1/1 [00:00<00:00, 70.07it/s]\n",
      "Batches: 100%|██████████| 1/1 [00:00<00:00, 82.07it/s]\n",
      "Batches: 100%|██████████| 1/1 [00:00<00:00, 56.97it/s]\n",
      "Batches: 100%|██████████| 1/1 [00:00<00:00, 85.52it/s]\n",
      "Batches: 100%|██████████| 1/1 [00:00<00:00, 56.09it/s]\n",
      "Batches: 100%|██████████| 1/1 [00:00<00:00, 71.45it/s]\n",
      "Batches: 100%|██████████| 1/1 [00:00<00:00, 56.22it/s]\n",
      "Batches: 100%|██████████| 1/1 [00:00<00:00, 94.17it/s]\n",
      "Batches: 100%|██████████| 1/1 [00:00<00:00, 66.28it/s]\n",
      "Batches: 100%|██████████| 1/1 [00:00<00:00, 68.34it/s]\n",
      "Batches: 100%|██████████| 1/1 [00:00<00:00, 68.29it/s]\n",
      "Batches: 100%|██████████| 1/1 [00:00<00:00, 46.44it/s]\n",
      "Batches: 100%|██████████| 1/1 [00:00<00:00, 38.06it/s]\n",
      "Batches: 100%|██████████| 1/1 [00:00<00:00, 32.39it/s]\n",
      "Batches: 100%|██████████| 1/1 [00:00<00:00, 33.92it/s]\n",
      "Batches: 100%|██████████| 1/1 [00:00<00:00, 51.15it/s]\n",
      "Batches: 100%|██████████| 1/1 [00:00<00:00, 60.13it/s]\n",
      "Batches: 100%|██████████| 1/1 [00:00<00:00, 70.25it/s]\n",
      "Batches: 100%|██████████| 1/1 [00:00<00:00, 29.80it/s]\n",
      "Batches: 100%|██████████| 1/1 [00:00<00:00, 26.26it/s]\n",
      "Batches: 100%|██████████| 1/1 [00:00<00:00, 34.13it/s]\n",
      "Batches: 100%|██████████| 1/1 [00:00<00:00, 43.61it/s]\n",
      "Batches: 100%|██████████| 1/1 [00:00<00:00, 41.58it/s]\n",
      "Batches: 100%|██████████| 1/1 [00:00<00:00, 44.22it/s]\n",
      "Batches: 100%|██████████| 1/1 [00:00<00:00, 43.38it/s]\n",
      "Batches: 100%|██████████| 1/1 [00:00<00:00, 57.70it/s]\n",
      "Batches: 100%|██████████| 1/1 [00:00<00:00, 58.69it/s]\n",
      "Batches: 100%|██████████| 1/1 [00:00<00:00, 60.62it/s]\n",
      "Batches: 100%|██████████| 1/1 [00:00<00:00, 54.97it/s]\n",
      "Batches: 100%|██████████| 1/1 [00:00<00:00, 54.22it/s]\n",
      "Batches: 100%|██████████| 1/1 [00:00<00:00, 62.18it/s]\n",
      "Batches: 100%|██████████| 1/1 [00:00<00:00, 71.65it/s]\n",
      "Batches: 100%|██████████| 1/1 [00:00<00:00, 73.58it/s]\n",
      "Batches: 100%|██████████| 1/1 [00:00<00:00, 51.35it/s]\n",
      "Batches: 100%|██████████| 1/1 [00:00<00:00, 56.13it/s]\n",
      "Batches: 100%|██████████| 1/1 [00:00<00:00, 60.35it/s]\n",
      "Batches: 100%|██████████| 1/1 [00:00<00:00, 59.45it/s]\n",
      "Batches: 100%|██████████| 1/1 [00:00<00:00, 44.68it/s]\n",
      "Batches: 100%|██████████| 1/1 [00:00<00:00, 61.22it/s]\n",
      "Batches: 100%|██████████| 1/1 [00:00<00:00, 58.01it/s]\n",
      "Batches: 100%|██████████| 1/1 [00:00<00:00, 58.57it/s]\n",
      "Batches: 100%|██████████| 1/1 [00:00<00:00, 76.15it/s]\n",
      "Batches: 100%|██████████| 1/1 [00:00<00:00, 69.33it/s]\n",
      "Batches: 100%|██████████| 1/1 [00:00<00:00, 63.94it/s]\n",
      "Batches: 100%|██████████| 1/1 [00:00<00:00, 45.42it/s]\n",
      "Batches: 100%|██████████| 1/1 [00:00<00:00, 57.03it/s]\n",
      "Batches: 100%|██████████| 1/1 [00:00<00:00, 71.27it/s]\n",
      "Batches: 100%|██████████| 1/1 [00:00<00:00, 50.32it/s]\n",
      "Batches: 100%|██████████| 1/1 [00:00<00:00, 44.56it/s]\n",
      "Batches: 100%|██████████| 1/1 [00:00<00:00, 53.48it/s]\n",
      "Batches: 100%|██████████| 1/1 [00:00<00:00, 16.06it/s]\n",
      "Batches: 100%|██████████| 1/1 [00:00<00:00, 24.13it/s]\n",
      "Batches: 100%|██████████| 1/1 [00:00<00:00, 34.43it/s]\n",
      "Batches: 100%|██████████| 1/1 [00:00<00:00, 36.40it/s]\n",
      "Batches: 100%|██████████| 1/1 [00:00<00:00, 55.17it/s]\n",
      "Batches: 100%|██████████| 1/1 [00:00<00:00, 23.30it/s]\n",
      "Batches: 100%|██████████| 1/1 [00:00<00:00, 40.18it/s]\n",
      "Batches: 100%|██████████| 1/1 [00:00<00:00, 41.48it/s]\n",
      "Batches: 100%|██████████| 1/1 [00:00<00:00, 45.29it/s]\n",
      "Batches: 100%|██████████| 1/1 [00:00<00:00, 35.76it/s]\n",
      "Batches: 100%|██████████| 1/1 [00:00<00:00, 36.71it/s]\n",
      "Batches: 100%|██████████| 1/1 [00:00<00:00, 59.94it/s]\n",
      "Batches: 100%|██████████| 1/1 [00:00<00:00, 31.56it/s]\n",
      "Batches: 100%|██████████| 1/1 [00:00<00:00, 40.11it/s]\n",
      "Batches: 100%|██████████| 1/1 [00:00<00:00, 56.29it/s]\n",
      "Batches: 100%|██████████| 1/1 [00:00<00:00, 42.79it/s]\n",
      "Batches: 100%|██████████| 1/1 [00:00<00:00, 53.21it/s]\n",
      "Batches: 100%|██████████| 1/1 [00:00<00:00, 66.60it/s]\n",
      "Batches: 100%|██████████| 1/1 [00:00<00:00, 45.62it/s]\n"
     ]
    }
   ],
   "source": [
    "# create a list of answers\n",
    "answer_list = df[\"answer_edited\"]\n",
    "\n",
    "# compute answer embeddings\n",
    "answer_embeddings = [embedding_model.encode(answer) for answer in answer_list]\n",
    "\n",
    "# compute embeddings for responses with context\n",
    "response_embeddings = []\n",
    "for response in response_list:\n",
    "    if response is None:\n",
    "        embedding = pd.NA\n",
    "    else:\n",
    "        embedding = embedding_model.encode(response)\n",
    "    response_embeddings.append(embedding)\n",
    "\n",
    "# compute embeddings for responses without context\n",
    "baseline_response_embeddings = [] \n",
    "for response in baseline_response_list:\n",
    "    if response is None:\n",
    "        embedding = pd.NA\n",
    "    else:\n",
    "        embedding = embedding_model.encode(response)\n",
    "    baseline_response_embeddings.append(embedding)"
   ]
  },
  {
   "cell_type": "code",
   "execution_count": 46,
   "metadata": {},
   "outputs": [],
   "source": [
    "import numpy as np \n",
    "\n",
    "# reshape embeddings to 2D arrays (required by cosine_similarity)\n",
    "answer_embeddings = [np.reshape(embedding, (1, -1)) for embedding in answer_embeddings]\n",
    "response_embeddings = [np.reshape(embedding, (1, -1)) for embedding in response_embeddings]\n",
    "baseline_response_embeddings = [np.reshape(embedding, (1, -1)) for embedding in baseline_response_embeddings]"
   ]
  },
  {
   "cell_type": "code",
   "execution_count": 47,
   "metadata": {},
   "outputs": [],
   "source": [
    "from sklearn.metrics.pairwise import cosine_similarity\n",
    "\n",
    "# calculate similarity scores\n",
    "# questions vs responses with context\n",
    "similarity_scores = []\n",
    "for a_embedding, r_embedding in zip(answer_embeddings, response_embeddings):\n",
    "    if pd.isna(r_embedding).any():\n",
    "        score = pd.NA\n",
    "    else:\n",
    "        score = cosine_similarity(a_embedding, r_embedding)\n",
    "    similarity_scores.append(score)\n",
    "\n",
    "# questions vs responses without context\n",
    "baseline_similarity_scores = []\n",
    "for a_embedding, br_embedding in zip(answer_embeddings, baseline_response_embeddings):\n",
    "    if pd.isna(br_embedding).any():\n",
    "        score = pd.NA\n",
    "    else:\n",
    "        score = cosine_similarity(a_embedding, br_embedding)\n",
    "    baseline_similarity_scores.append(score)"
   ]
  },
  {
   "cell_type": "code",
   "execution_count": 55,
   "metadata": {},
   "outputs": [
    {
     "data": {
      "text/plain": [
       "array([[0.4459992]], dtype=float32)"
      ]
     },
     "execution_count": 55,
     "metadata": {},
     "output_type": "execute_result"
    }
   ],
   "source": [
    "pd.Series(similarity_scores).mean(skipna=True)"
   ]
  },
  {
   "cell_type": "code",
   "execution_count": 56,
   "metadata": {},
   "outputs": [
    {
     "data": {
      "text/plain": [
       "array([[0.31430438]], dtype=float32)"
      ]
     },
     "execution_count": 56,
     "metadata": {},
     "output_type": "execute_result"
    }
   ],
   "source": [
    "pd.Series(baseline_similarity_scores).mean(skipna=True)"
   ]
  },
  {
   "cell_type": "markdown",
   "metadata": {},
   "source": [
    "Lastly, we save our results to an excel spreadsheet so that they can be easily evaluated (no Python required!)."
   ]
  },
  {
   "cell_type": "code",
   "execution_count": 33,
   "metadata": {},
   "outputs": [
    {
     "data": {
      "text/html": [
       "<div>\n",
       "<style scoped>\n",
       "    .dataframe tbody tr th:only-of-type {\n",
       "        vertical-align: middle;\n",
       "    }\n",
       "\n",
       "    .dataframe tbody tr th {\n",
       "        vertical-align: top;\n",
       "    }\n",
       "\n",
       "    .dataframe thead th {\n",
       "        text-align: right;\n",
       "    }\n",
       "</style>\n",
       "<table border=\"1\" class=\"dataframe\">\n",
       "  <thead>\n",
       "    <tr style=\"text-align: right;\">\n",
       "      <th></th>\n",
       "      <th>question</th>\n",
       "      <th>question_edited</th>\n",
       "      <th>answer</th>\n",
       "      <th>response_no_context</th>\n",
       "      <th>response_context</th>\n",
       "      <th>source</th>\n",
       "    </tr>\n",
       "  </thead>\n",
       "  <tbody>\n",
       "    <tr>\n",
       "      <th>0</th>\n",
       "      <td>True or False? Contractors who provide product...</td>\n",
       "      <td>Is it true that contractors who provide produc...</td>\n",
       "      <td>True. Both FAR 1.102(b)(c) and FAR 1.102-3 not...</td>\n",
       "      <td>As an AI language model, I'm not entirely sure...</td>\n",
       "      <td>None</td>\n",
       "      <td>https://publiccontractinginstitute.com/far-kno...</td>\n",
       "    </tr>\n",
       "    <tr>\n",
       "      <th>1</th>\n",
       "      <td>Who are the principal customers for the produc...</td>\n",
       "      <td>Who are the principal customers for the produc...</td>\n",
       "      <td>FAR 1.102-2 provides that the principal custom...</td>\n",
       "      <td>The principal customers for the products and s...</td>\n",
       "      <td>The principal customers for the products and s...</td>\n",
       "      <td>https://publiccontractinginstitute.com/far-kno...</td>\n",
       "    </tr>\n",
       "    <tr>\n",
       "      <th>2</th>\n",
       "      <td>True or False? A contracting officer may unila...</td>\n",
       "      <td>Can a contracting officer unilaterally incorpo...</td>\n",
       "      <td>False. FAR 1.108(d)(3) provides that “Contract...</td>\n",
       "      <td>No, a contracting officer cannot unilaterally ...</td>\n",
       "      <td>\\nThe answer to this question is yes, a contra...</td>\n",
       "      <td>https://publiccontractinginstitute.com/far-kno...</td>\n",
       "    </tr>\n",
       "    <tr>\n",
       "      <th>3</th>\n",
       "      <td>What three government officials are personally...</td>\n",
       "      <td>What three government officials are personally...</td>\n",
       "      <td>FAR 1.202 provides that “Agency compliance wit...</td>\n",
       "      <td>The three government officials responsible for...</td>\n",
       "      <td>None</td>\n",
       "      <td>https://publiccontractinginstitute.com/far-kno...</td>\n",
       "    </tr>\n",
       "    <tr>\n",
       "      <th>4</th>\n",
       "      <td>What is a D&amp;F?</td>\n",
       "      <td>What is a D&amp;F?</td>\n",
       "      <td>FAR 1.701 provides that a “Determination and F...</td>\n",
       "      <td>Sorry, I cannot process this search term as it...</td>\n",
       "      <td>None</td>\n",
       "      <td>https://publiccontractinginstitute.com/far-kno...</td>\n",
       "    </tr>\n",
       "  </tbody>\n",
       "</table>\n",
       "</div>"
      ],
      "text/plain": [
       "                                            question  \\\n",
       "0  True or False? Contractors who provide product...   \n",
       "1  Who are the principal customers for the produc...   \n",
       "2  True or False? A contracting officer may unila...   \n",
       "3  What three government officials are personally...   \n",
       "4                                     What is a D&F?   \n",
       "\n",
       "                                     question_edited  \\\n",
       "0  Is it true that contractors who provide produc...   \n",
       "1  Who are the principal customers for the produc...   \n",
       "2  Can a contracting officer unilaterally incorpo...   \n",
       "3  What three government officials are personally...   \n",
       "4                                     What is a D&F?   \n",
       "\n",
       "                                              answer  \\\n",
       "0  True. Both FAR 1.102(b)(c) and FAR 1.102-3 not...   \n",
       "1  FAR 1.102-2 provides that the principal custom...   \n",
       "2  False. FAR 1.108(d)(3) provides that “Contract...   \n",
       "3  FAR 1.202 provides that “Agency compliance wit...   \n",
       "4  FAR 1.701 provides that a “Determination and F...   \n",
       "\n",
       "                                 response_no_context  \\\n",
       "0  As an AI language model, I'm not entirely sure...   \n",
       "1  The principal customers for the products and s...   \n",
       "2  No, a contracting officer cannot unilaterally ...   \n",
       "3  The three government officials responsible for...   \n",
       "4  Sorry, I cannot process this search term as it...   \n",
       "\n",
       "                                    response_context  \\\n",
       "0                                               None   \n",
       "1  The principal customers for the products and s...   \n",
       "2  \\nThe answer to this question is yes, a contra...   \n",
       "3                                               None   \n",
       "4                                               None   \n",
       "\n",
       "                                              source  \n",
       "0  https://publiccontractinginstitute.com/far-kno...  \n",
       "1  https://publiccontractinginstitute.com/far-kno...  \n",
       "2  https://publiccontractinginstitute.com/far-kno...  \n",
       "3  https://publiccontractinginstitute.com/far-kno...  \n",
       "4  https://publiccontractinginstitute.com/far-kno...  "
      ]
     },
     "execution_count": 33,
     "metadata": {},
     "output_type": "execute_result"
    }
   ],
   "source": [
    "# add response cols to our df \n",
    "df[\"response_context\"] = response_list\n",
    "df[\"response_no_context\"] = baseline_response_list\n",
    "\n",
    "# save xlslx\n",
    "df.to_excel(\"data/RAG+C_Q&A_v2.xlsx\")\n",
    "\n",
    "# inspect df\n",
    "df.head(5)"
   ]
  },
  {
   "cell_type": "markdown",
   "metadata": {},
   "source": [
    "## References\n",
    "\n",
    "https://github.com/pinecone-io/examples/blob/master/learn/generation/langchain/rag-chatbot.ipynb <br>\n",
    "https://github.com/pixegami/langchain-rag-tutorial/tree/main <br>\n",
    "https://www.youtube.com/watch?v=LhnCsygAvzY <br>\n",
    "https://www.youtube.com/watch?v=tcqEUSNCn8I <br>\n",
    "https://towardsdatascience.com/a-3-step-approach-to-evaluate-a-retrieval-augmented-generation-rag-5acf2aba86de <br>\n",
    "https://github.com/curiousily/Get-Things-Done-with-Prompt-Engineering-and-LangChain <br>\n",
    "https://www.mlexpert.io/prompt-engineering/chatbot-with-local-llm-using-langchain <br>\n",
    "https://www.youtube.com/watch?v=N7dGOUwufBM <br>\n",
    "https://www.youtube.com/watch?v=ypzmPwLH_Q4&list=PLIUOU7oqGTLjAwPzyCu6m0wxLOlhJg8N5&index=2<br>\n",
    "https://www.youtube.com/watch?v=qMIM7dECAkc <br>\n",
    "https://www.youtube.com/watch?v=ukj_ITJKBwE&list=PLIUOU7oqGTLjAwPzyCu6m0wxLOlhJg8N5&index=6\n",
    "https://huggingface.co/sentence-transformers/all-MiniLM-L6-v2\n"
   ]
  }
 ],
 "metadata": {
  "kernelspec": {
   "display_name": "dl-tutorial-Si6gq9gB",
   "language": "python",
   "name": "python3"
  },
  "language_info": {
   "codemirror_mode": {
    "name": "ipython",
    "version": 3
   },
   "file_extension": ".py",
   "mimetype": "text/x-python",
   "name": "python",
   "nbconvert_exporter": "python",
   "pygments_lexer": "ipython3",
   "version": "3.11.6"
  }
 },
 "nbformat": 4,
 "nbformat_minor": 2
}
